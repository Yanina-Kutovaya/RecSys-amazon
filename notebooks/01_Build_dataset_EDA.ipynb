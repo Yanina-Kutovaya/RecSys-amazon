{
  "nbformat": 4,
  "nbformat_minor": 0,
  "metadata": {
    "colab": {
      "provenance": [],
      "toc_visible": true,
      "authorship_tag": "ABX9TyNYBoYEVwK0uSvubjZt43DC",
      "include_colab_link": true
    },
    "kernelspec": {
      "name": "python3",
      "display_name": "Python 3"
    },
    "language_info": {
      "name": "python"
    },
    "gpuClass": "standard"
  },
  "cells": [
    {
      "cell_type": "markdown",
      "metadata": {
        "id": "view-in-github",
        "colab_type": "text"
      },
      "source": [
        "<a href=\"https://colab.research.google.com/github/Yanina-Kutovaya/RecSys-amazon/blob/main/notebooks/01_Build_dataset_EDA.ipynb\" target=\"_parent\"><img src=\"https://colab.research.google.com/assets/colab-badge.svg\" alt=\"Open In Colab\"/></a>"
      ]
    },
    {
      "cell_type": "markdown",
      "source": [
        "# Recommender system Amazon - Grocery and Gourmet Food\n",
        "\n",
        "## Build dataset, EDA\n",
        "\n",
        "[Data source](https://nijianmo.github.io/amazon/index.html)"
      ],
      "metadata": {
        "id": "gSwJ5U324j1A"
      }
    },
    {
      "cell_type": "code",
      "source": [
        "!git clone https://github.com/Yanina-Kutovaya/RecSys-amazon.git"
      ],
      "metadata": {
        "colab": {
          "base_uri": "https://localhost:8080/"
        },
        "id": "maOOnX3xsL4a",
        "outputId": "b08cd934-0674-4e3f-b026-55e9059c7821"
      },
      "execution_count": 1,
      "outputs": [
        {
          "output_type": "stream",
          "name": "stdout",
          "text": [
            "Cloning into 'RecSys-amazon'...\n",
            "remote: Enumerating objects: 65, done.\u001b[K\n",
            "remote: Counting objects: 100% (65/65), done.\u001b[K\n",
            "remote: Compressing objects: 100% (31/31), done.\u001b[K\n",
            "remote: Total 65 (delta 23), reused 53 (delta 15), pack-reused 0\u001b[K\n",
            "Unpacking objects: 100% (65/65), 65.51 KiB | 1.04 MiB/s, done.\n"
          ]
        }
      ]
    },
    {
      "cell_type": "code",
      "source": [
        "from google.colab import drive\n",
        "drive.mount('/content/drive')"
      ],
      "metadata": {
        "colab": {
          "base_uri": "https://localhost:8080/"
        },
        "id": "3Jb2wigrsPBT",
        "outputId": "960071ab-b771-4f7e-dd57-d9dc367dbedc"
      },
      "execution_count": 2,
      "outputs": [
        {
          "output_type": "stream",
          "name": "stdout",
          "text": [
            "Mounted at /content/drive\n"
          ]
        }
      ]
    },
    {
      "cell_type": "code",
      "source": [
        "!wget -q -P /content/RecSys-amazon/data/01_raw https://jmcauley.ucsd.edu/data/amazon_v2/categoryFilesSmall/Grocery_and_Gourmet_Food.csv --no-check-certificate\n",
        "!wget -q -P /content/RecSys-amazon/data/01_raw https://jmcauley.ucsd.edu/data/amazon_v2/categoryFilesSmall/Grocery_and_Gourmet_Food_5.json.gz --no-check-certificate\n",
        "!cp /content/drive/MyDrive/OTUS_ML_advanced/06_RecSys/amazon/meta_Grocery_and_Gourmet_Food.json.gz /content/RecSys-amazon/data/01_raw/"
      ],
      "metadata": {
        "id": "5FO4FkDFsW0O"
      },
      "execution_count": 3,
      "outputs": []
    },
    {
      "cell_type": "code",
      "source": [
        "%cd RecSys-amazon"
      ],
      "metadata": {
        "colab": {
          "base_uri": "https://localhost:8080/"
        },
        "id": "Ha_MUOYYvvF2",
        "outputId": "fafdbddb-2964-477b-aade-f655c9474a9e"
      },
      "execution_count": 4,
      "outputs": [
        {
          "output_type": "stream",
          "name": "stdout",
          "text": [
            "/content/RecSys-amazon\n"
          ]
        }
      ]
    },
    {
      "cell_type": "code",
      "source": [
        "import sys\n",
        "import os\n",
        "\n",
        "sys.path.append(os.getcwd())\n",
        "sys.path.append(os.path.join(os.getcwd(), \"src\", \"recsys_amazon\"))"
      ],
      "metadata": {
        "id": "Ai_gNYCc9mPM"
      },
      "execution_count": 5,
      "outputs": []
    },
    {
      "cell_type": "code",
      "source": [
        "import pandas as pd\n",
        "import gzip\n",
        "import re\n",
        "import json\n",
        "import matplotlib.pyplot as plt\n",
        "\n",
        "from data.make_dataset import (\n",
        "    load_ratings, \n",
        "    select_users_item_pairs, \n",
        "    add_user_reviews_to_ratings\n",
        ")\n",
        "from data.train_validation_split import time_split\n",
        "from data.item_data import get_items_matadata \n",
        "from data.user_data import get_user_reviews"
      ],
      "metadata": {
        "id": "g2_X9xsbsoa-"
      },
      "execution_count": 6,
      "outputs": []
    },
    {
      "cell_type": "code",
      "source": [
        "import warnings\n",
        "warnings.filterwarnings('ignore')"
      ],
      "metadata": {
        "id": "G94Mwpggsk6u"
      },
      "execution_count": 7,
      "outputs": []
    },
    {
      "cell_type": "code",
      "source": [
        "PATH = \"data/01_raw/\"\n",
        "DATA_PATH = PATH + \"Grocery_and_Gourmet_Food.csv\"\n",
        "ITEM_FEATURES_PATH = PATH + \"meta_Grocery_and_Gourmet_Food.json.gz\"\n",
        "USER_FEATURES_PATH = PATH + \"Grocery_and_Gourmet_Food_5.json.gz\""
      ],
      "metadata": {
        "id": "oxHU-9494lep"
      },
      "execution_count": 8,
      "outputs": []
    },
    {
      "cell_type": "markdown",
      "source": [
        "## 1. Build dataset"
      ],
      "metadata": {
        "id": "VkVaK4vJH6fm"
      }
    },
    {
      "cell_type": "markdown",
      "source": [
        "### 1.1. Ratings data"
      ],
      "metadata": {
        "id": "DybSNcdwtosE"
      }
    },
    {
      "cell_type": "code",
      "source": [
        "data = load_ratings(DATA_PATH)\n",
        "\n",
        "print(f'ratings.shape = {data.shape}\\n')\n",
        "data.head(2)"
      ],
      "metadata": {
        "colab": {
          "base_uri": "https://localhost:8080/",
          "height": 147
        },
        "id": "GBS_7wJg3Qyb",
        "outputId": "1d2e9dde-eb14-47e4-fb19-9eca763761ac"
      },
      "execution_count": 9,
      "outputs": [
        {
          "output_type": "stream",
          "name": "stdout",
          "text": [
            "ratings.shape = (5074160, 4)\n",
            "\n"
          ]
        },
        {
          "output_type": "execute_result",
          "data": {
            "text/plain": [
              "      item_id         user_id  rating   timestamp\n",
              "0  1888861614   ALP49FBWT4I7V     5.0  1370304000\n",
              "1  1888861614  A1KPIZOCLB9FZ8     4.0  1400803200"
            ],
            "text/html": [
              "\n",
              "  <div id=\"df-6586a08b-3a38-44d5-8189-8b09efcce398\">\n",
              "    <div class=\"colab-df-container\">\n",
              "      <div>\n",
              "<style scoped>\n",
              "    .dataframe tbody tr th:only-of-type {\n",
              "        vertical-align: middle;\n",
              "    }\n",
              "\n",
              "    .dataframe tbody tr th {\n",
              "        vertical-align: top;\n",
              "    }\n",
              "\n",
              "    .dataframe thead th {\n",
              "        text-align: right;\n",
              "    }\n",
              "</style>\n",
              "<table border=\"1\" class=\"dataframe\">\n",
              "  <thead>\n",
              "    <tr style=\"text-align: right;\">\n",
              "      <th></th>\n",
              "      <th>item_id</th>\n",
              "      <th>user_id</th>\n",
              "      <th>rating</th>\n",
              "      <th>timestamp</th>\n",
              "    </tr>\n",
              "  </thead>\n",
              "  <tbody>\n",
              "    <tr>\n",
              "      <th>0</th>\n",
              "      <td>1888861614</td>\n",
              "      <td>ALP49FBWT4I7V</td>\n",
              "      <td>5.0</td>\n",
              "      <td>1370304000</td>\n",
              "    </tr>\n",
              "    <tr>\n",
              "      <th>1</th>\n",
              "      <td>1888861614</td>\n",
              "      <td>A1KPIZOCLB9FZ8</td>\n",
              "      <td>4.0</td>\n",
              "      <td>1400803200</td>\n",
              "    </tr>\n",
              "  </tbody>\n",
              "</table>\n",
              "</div>\n",
              "      <button class=\"colab-df-convert\" onclick=\"convertToInteractive('df-6586a08b-3a38-44d5-8189-8b09efcce398')\"\n",
              "              title=\"Convert this dataframe to an interactive table.\"\n",
              "              style=\"display:none;\">\n",
              "        \n",
              "  <svg xmlns=\"http://www.w3.org/2000/svg\" height=\"24px\"viewBox=\"0 0 24 24\"\n",
              "       width=\"24px\">\n",
              "    <path d=\"M0 0h24v24H0V0z\" fill=\"none\"/>\n",
              "    <path d=\"M18.56 5.44l.94 2.06.94-2.06 2.06-.94-2.06-.94-.94-2.06-.94 2.06-2.06.94zm-11 1L8.5 8.5l.94-2.06 2.06-.94-2.06-.94L8.5 2.5l-.94 2.06-2.06.94zm10 10l.94 2.06.94-2.06 2.06-.94-2.06-.94-.94-2.06-.94 2.06-2.06.94z\"/><path d=\"M17.41 7.96l-1.37-1.37c-.4-.4-.92-.59-1.43-.59-.52 0-1.04.2-1.43.59L10.3 9.45l-7.72 7.72c-.78.78-.78 2.05 0 2.83L4 21.41c.39.39.9.59 1.41.59.51 0 1.02-.2 1.41-.59l7.78-7.78 2.81-2.81c.8-.78.8-2.07 0-2.86zM5.41 20L4 18.59l7.72-7.72 1.47 1.35L5.41 20z\"/>\n",
              "  </svg>\n",
              "      </button>\n",
              "      \n",
              "  <style>\n",
              "    .colab-df-container {\n",
              "      display:flex;\n",
              "      flex-wrap:wrap;\n",
              "      gap: 12px;\n",
              "    }\n",
              "\n",
              "    .colab-df-convert {\n",
              "      background-color: #E8F0FE;\n",
              "      border: none;\n",
              "      border-radius: 50%;\n",
              "      cursor: pointer;\n",
              "      display: none;\n",
              "      fill: #1967D2;\n",
              "      height: 32px;\n",
              "      padding: 0 0 0 0;\n",
              "      width: 32px;\n",
              "    }\n",
              "\n",
              "    .colab-df-convert:hover {\n",
              "      background-color: #E2EBFA;\n",
              "      box-shadow: 0px 1px 2px rgba(60, 64, 67, 0.3), 0px 1px 3px 1px rgba(60, 64, 67, 0.15);\n",
              "      fill: #174EA6;\n",
              "    }\n",
              "\n",
              "    [theme=dark] .colab-df-convert {\n",
              "      background-color: #3B4455;\n",
              "      fill: #D2E3FC;\n",
              "    }\n",
              "\n",
              "    [theme=dark] .colab-df-convert:hover {\n",
              "      background-color: #434B5C;\n",
              "      box-shadow: 0px 1px 3px 1px rgba(0, 0, 0, 0.15);\n",
              "      filter: drop-shadow(0px 1px 2px rgba(0, 0, 0, 0.3));\n",
              "      fill: #FFFFFF;\n",
              "    }\n",
              "  </style>\n",
              "\n",
              "      <script>\n",
              "        const buttonEl =\n",
              "          document.querySelector('#df-6586a08b-3a38-44d5-8189-8b09efcce398 button.colab-df-convert');\n",
              "        buttonEl.style.display =\n",
              "          google.colab.kernel.accessAllowed ? 'block' : 'none';\n",
              "\n",
              "        async function convertToInteractive(key) {\n",
              "          const element = document.querySelector('#df-6586a08b-3a38-44d5-8189-8b09efcce398');\n",
              "          const dataTable =\n",
              "            await google.colab.kernel.invokeFunction('convertToInteractive',\n",
              "                                                     [key], {});\n",
              "          if (!dataTable) return;\n",
              "\n",
              "          const docLinkHtml = 'Like what you see? Visit the ' +\n",
              "            '<a target=\"_blank\" href=https://colab.research.google.com/notebooks/data_table.ipynb>data table notebook</a>'\n",
              "            + ' to learn more about interactive tables.';\n",
              "          element.innerHTML = '';\n",
              "          dataTable['output_type'] = 'display_data';\n",
              "          await google.colab.output.renderOutput(dataTable, element);\n",
              "          const docLink = document.createElement('div');\n",
              "          docLink.innerHTML = docLinkHtml;\n",
              "          element.appendChild(docLink);\n",
              "        }\n",
              "      </script>\n",
              "    </div>\n",
              "  </div>\n",
              "  "
            ]
          },
          "metadata": {},
          "execution_count": 9
        }
      ]
    },
    {
      "cell_type": "markdown",
      "source": [
        "#### 1.1.1. Collected data time period"
      ],
      "metadata": {
        "id": "TldgT6IM78Al"
      }
    },
    {
      "cell_type": "code",
      "source": [
        "n_years = (\n",
        "    data['timestamp'].max() - data['timestamp'].min()\n",
        ") / 3600 / 24 // 365\n",
        "print(f'Data is collected for {int(n_years)} years')"
      ],
      "metadata": {
        "colab": {
          "base_uri": "https://localhost:8080/"
        },
        "id": "XJGfF4Rh7866",
        "outputId": "cac17a5a-973b-4083-a377-8d24316cf442"
      },
      "execution_count": 10,
      "outputs": [
        {
          "output_type": "stream",
          "name": "stdout",
          "text": [
            "Data is collected for 18 years\n"
          ]
        }
      ]
    },
    {
      "cell_type": "markdown",
      "source": [
        "#### 1.1.2. Select users-item pairs\n",
        "\n",
        "Selects users who rated at least 3 items and items rated by at least 2 useres"
      ],
      "metadata": {
        "id": "SMPHiNGM8MLq"
      }
    },
    {
      "cell_type": "code",
      "source": [
        "user_ids, item_ids = select_users_item_pairs(data)\n",
        "len(user_ids), len(item_ids )"
      ],
      "metadata": {
        "colab": {
          "base_uri": "https://localhost:8080/"
        },
        "id": "ZTIZ3u9U8JEW",
        "outputId": "59fa53aa-c55e-4702-8503-b7e09610c5f2"
      },
      "execution_count": 11,
      "outputs": [
        {
          "output_type": "execute_result",
          "data": {
            "text/plain": [
              "(4372, 6632)"
            ]
          },
          "metadata": {},
          "execution_count": 11
        }
      ]
    },
    {
      "cell_type": "markdown",
      "source": [
        "### 1.2. Train-validation-test time split for two-stage recommender system."
      ],
      "metadata": {
        "id": "H6coEdnX9A3r"
      }
    },
    {
      "cell_type": "markdown",
      "source": [
        "    Train - validation - test schema:\n",
        "    -- 5 years -- | -- 2 years -- | -- 1 year --\n",
        "\n",
        "    For the 1st level model we use 5-years data for train and 2-years data for validation.\n",
        "    For the 2nd level mmodel we use 2-years data for train and 1-year - for validation.\n",
        "    Validation data for the 1st levl model serves as train data for the 2nd level model."
      ],
      "metadata": {
        "id": "gsqsRAfn8ydn"
      }
    },
    {
      "cell_type": "code",
      "source": [
        "year = 365 * 24 * 3600\n",
        "t2 = data[\"timestamp\"].max() - year\n",
        "t1 = t2 - 2 * year\n",
        "t0 = t1 - 5 * year\n",
        "\n",
        "(\n",
        "    selected_users,\n",
        "    selected_items,\n",
        "    data_train_lvl_1,\n",
        "    data_val_lvl_1,\n",
        "    data_val_lvl_2,\n",
        ") = time_split(t0, t1, t2, user_ids, item_ids, data)"
      ],
      "metadata": {
        "id": "rebZ3wMf8qpd"
      },
      "execution_count": 12,
      "outputs": []
    },
    {
      "cell_type": "code",
      "source": [
        "len(selected_users), len(selected_items)"
      ],
      "metadata": {
        "colab": {
          "base_uri": "https://localhost:8080/"
        },
        "id": "sYZlqvmQGrF0",
        "outputId": "1efd4806-7937-416d-cc22-2b9ca053f4ed"
      },
      "execution_count": 13,
      "outputs": [
        {
          "output_type": "execute_result",
          "data": {
            "text/plain": [
              "(2047, 2533)"
            ]
          },
          "metadata": {},
          "execution_count": 13
        }
      ]
    },
    {
      "cell_type": "code",
      "source": [
        "print(f'ratings.shape = {data_train_lvl_1.shape}\\n')\n",
        "data_train_lvl_1.head(2)"
      ],
      "metadata": {
        "colab": {
          "base_uri": "https://localhost:8080/",
          "height": 147
        },
        "id": "RVU-8vMN-TYO",
        "outputId": "898abf1a-c261-490a-f198-c283219b1449"
      },
      "execution_count": 14,
      "outputs": [
        {
          "output_type": "stream",
          "name": "stdout",
          "text": [
            "ratings.shape = (10241, 4)\n",
            "\n"
          ]
        },
        {
          "output_type": "execute_result",
          "data": {
            "text/plain": [
              "         item_id        user_id  rating   timestamp\n",
              "1048  B00005BPQ9  A2XCLJRGFANRC     5.0  1425168000\n",
              "1061  B00005BPQ9  AHKXYQ7TP6REK     4.0  1419206400"
            ],
            "text/html": [
              "\n",
              "  <div id=\"df-4c297f58-67aa-4e37-aeb2-b17df6c93c19\">\n",
              "    <div class=\"colab-df-container\">\n",
              "      <div>\n",
              "<style scoped>\n",
              "    .dataframe tbody tr th:only-of-type {\n",
              "        vertical-align: middle;\n",
              "    }\n",
              "\n",
              "    .dataframe tbody tr th {\n",
              "        vertical-align: top;\n",
              "    }\n",
              "\n",
              "    .dataframe thead th {\n",
              "        text-align: right;\n",
              "    }\n",
              "</style>\n",
              "<table border=\"1\" class=\"dataframe\">\n",
              "  <thead>\n",
              "    <tr style=\"text-align: right;\">\n",
              "      <th></th>\n",
              "      <th>item_id</th>\n",
              "      <th>user_id</th>\n",
              "      <th>rating</th>\n",
              "      <th>timestamp</th>\n",
              "    </tr>\n",
              "  </thead>\n",
              "  <tbody>\n",
              "    <tr>\n",
              "      <th>1048</th>\n",
              "      <td>B00005BPQ9</td>\n",
              "      <td>A2XCLJRGFANRC</td>\n",
              "      <td>5.0</td>\n",
              "      <td>1425168000</td>\n",
              "    </tr>\n",
              "    <tr>\n",
              "      <th>1061</th>\n",
              "      <td>B00005BPQ9</td>\n",
              "      <td>AHKXYQ7TP6REK</td>\n",
              "      <td>4.0</td>\n",
              "      <td>1419206400</td>\n",
              "    </tr>\n",
              "  </tbody>\n",
              "</table>\n",
              "</div>\n",
              "      <button class=\"colab-df-convert\" onclick=\"convertToInteractive('df-4c297f58-67aa-4e37-aeb2-b17df6c93c19')\"\n",
              "              title=\"Convert this dataframe to an interactive table.\"\n",
              "              style=\"display:none;\">\n",
              "        \n",
              "  <svg xmlns=\"http://www.w3.org/2000/svg\" height=\"24px\"viewBox=\"0 0 24 24\"\n",
              "       width=\"24px\">\n",
              "    <path d=\"M0 0h24v24H0V0z\" fill=\"none\"/>\n",
              "    <path d=\"M18.56 5.44l.94 2.06.94-2.06 2.06-.94-2.06-.94-.94-2.06-.94 2.06-2.06.94zm-11 1L8.5 8.5l.94-2.06 2.06-.94-2.06-.94L8.5 2.5l-.94 2.06-2.06.94zm10 10l.94 2.06.94-2.06 2.06-.94-2.06-.94-.94-2.06-.94 2.06-2.06.94z\"/><path d=\"M17.41 7.96l-1.37-1.37c-.4-.4-.92-.59-1.43-.59-.52 0-1.04.2-1.43.59L10.3 9.45l-7.72 7.72c-.78.78-.78 2.05 0 2.83L4 21.41c.39.39.9.59 1.41.59.51 0 1.02-.2 1.41-.59l7.78-7.78 2.81-2.81c.8-.78.8-2.07 0-2.86zM5.41 20L4 18.59l7.72-7.72 1.47 1.35L5.41 20z\"/>\n",
              "  </svg>\n",
              "      </button>\n",
              "      \n",
              "  <style>\n",
              "    .colab-df-container {\n",
              "      display:flex;\n",
              "      flex-wrap:wrap;\n",
              "      gap: 12px;\n",
              "    }\n",
              "\n",
              "    .colab-df-convert {\n",
              "      background-color: #E8F0FE;\n",
              "      border: none;\n",
              "      border-radius: 50%;\n",
              "      cursor: pointer;\n",
              "      display: none;\n",
              "      fill: #1967D2;\n",
              "      height: 32px;\n",
              "      padding: 0 0 0 0;\n",
              "      width: 32px;\n",
              "    }\n",
              "\n",
              "    .colab-df-convert:hover {\n",
              "      background-color: #E2EBFA;\n",
              "      box-shadow: 0px 1px 2px rgba(60, 64, 67, 0.3), 0px 1px 3px 1px rgba(60, 64, 67, 0.15);\n",
              "      fill: #174EA6;\n",
              "    }\n",
              "\n",
              "    [theme=dark] .colab-df-convert {\n",
              "      background-color: #3B4455;\n",
              "      fill: #D2E3FC;\n",
              "    }\n",
              "\n",
              "    [theme=dark] .colab-df-convert:hover {\n",
              "      background-color: #434B5C;\n",
              "      box-shadow: 0px 1px 3px 1px rgba(0, 0, 0, 0.15);\n",
              "      filter: drop-shadow(0px 1px 2px rgba(0, 0, 0, 0.3));\n",
              "      fill: #FFFFFF;\n",
              "    }\n",
              "  </style>\n",
              "\n",
              "      <script>\n",
              "        const buttonEl =\n",
              "          document.querySelector('#df-4c297f58-67aa-4e37-aeb2-b17df6c93c19 button.colab-df-convert');\n",
              "        buttonEl.style.display =\n",
              "          google.colab.kernel.accessAllowed ? 'block' : 'none';\n",
              "\n",
              "        async function convertToInteractive(key) {\n",
              "          const element = document.querySelector('#df-4c297f58-67aa-4e37-aeb2-b17df6c93c19');\n",
              "          const dataTable =\n",
              "            await google.colab.kernel.invokeFunction('convertToInteractive',\n",
              "                                                     [key], {});\n",
              "          if (!dataTable) return;\n",
              "\n",
              "          const docLinkHtml = 'Like what you see? Visit the ' +\n",
              "            '<a target=\"_blank\" href=https://colab.research.google.com/notebooks/data_table.ipynb>data table notebook</a>'\n",
              "            + ' to learn more about interactive tables.';\n",
              "          element.innerHTML = '';\n",
              "          dataTable['output_type'] = 'display_data';\n",
              "          await google.colab.output.renderOutput(dataTable, element);\n",
              "          const docLink = document.createElement('div');\n",
              "          docLink.innerHTML = docLinkHtml;\n",
              "          element.appendChild(docLink);\n",
              "        }\n",
              "      </script>\n",
              "    </div>\n",
              "  </div>\n",
              "  "
            ]
          },
          "metadata": {},
          "execution_count": 14
        }
      ]
    },
    {
      "cell_type": "code",
      "source": [
        "print(f'ratings.shape = {data_val_lvl_1.shape}\\n')\n",
        "data_val_lvl_1.head(2)"
      ],
      "metadata": {
        "colab": {
          "base_uri": "https://localhost:8080/",
          "height": 147
        },
        "id": "muDDfZnJ-WAF",
        "outputId": "7692c114-0cac-4034-bb07-4beac2c449b5"
      },
      "execution_count": 15,
      "outputs": [
        {
          "output_type": "stream",
          "name": "stdout",
          "text": [
            "ratings.shape = (10445, 4)\n",
            "\n"
          ]
        },
        {
          "output_type": "execute_result",
          "data": {
            "text/plain": [
              "         item_id         user_id  rating   timestamp\n",
              "1025  B00005BPQ9  A3TH42PC3EZV1B     4.0  1445558400\n",
              "1462  B00006FMLY   A8CGWGJ9OM58J     5.0  1455753600"
            ],
            "text/html": [
              "\n",
              "  <div id=\"df-9c795de2-b21e-4b1b-be9a-58764830b142\">\n",
              "    <div class=\"colab-df-container\">\n",
              "      <div>\n",
              "<style scoped>\n",
              "    .dataframe tbody tr th:only-of-type {\n",
              "        vertical-align: middle;\n",
              "    }\n",
              "\n",
              "    .dataframe tbody tr th {\n",
              "        vertical-align: top;\n",
              "    }\n",
              "\n",
              "    .dataframe thead th {\n",
              "        text-align: right;\n",
              "    }\n",
              "</style>\n",
              "<table border=\"1\" class=\"dataframe\">\n",
              "  <thead>\n",
              "    <tr style=\"text-align: right;\">\n",
              "      <th></th>\n",
              "      <th>item_id</th>\n",
              "      <th>user_id</th>\n",
              "      <th>rating</th>\n",
              "      <th>timestamp</th>\n",
              "    </tr>\n",
              "  </thead>\n",
              "  <tbody>\n",
              "    <tr>\n",
              "      <th>1025</th>\n",
              "      <td>B00005BPQ9</td>\n",
              "      <td>A3TH42PC3EZV1B</td>\n",
              "      <td>4.0</td>\n",
              "      <td>1445558400</td>\n",
              "    </tr>\n",
              "    <tr>\n",
              "      <th>1462</th>\n",
              "      <td>B00006FMLY</td>\n",
              "      <td>A8CGWGJ9OM58J</td>\n",
              "      <td>5.0</td>\n",
              "      <td>1455753600</td>\n",
              "    </tr>\n",
              "  </tbody>\n",
              "</table>\n",
              "</div>\n",
              "      <button class=\"colab-df-convert\" onclick=\"convertToInteractive('df-9c795de2-b21e-4b1b-be9a-58764830b142')\"\n",
              "              title=\"Convert this dataframe to an interactive table.\"\n",
              "              style=\"display:none;\">\n",
              "        \n",
              "  <svg xmlns=\"http://www.w3.org/2000/svg\" height=\"24px\"viewBox=\"0 0 24 24\"\n",
              "       width=\"24px\">\n",
              "    <path d=\"M0 0h24v24H0V0z\" fill=\"none\"/>\n",
              "    <path d=\"M18.56 5.44l.94 2.06.94-2.06 2.06-.94-2.06-.94-.94-2.06-.94 2.06-2.06.94zm-11 1L8.5 8.5l.94-2.06 2.06-.94-2.06-.94L8.5 2.5l-.94 2.06-2.06.94zm10 10l.94 2.06.94-2.06 2.06-.94-2.06-.94-.94-2.06-.94 2.06-2.06.94z\"/><path d=\"M17.41 7.96l-1.37-1.37c-.4-.4-.92-.59-1.43-.59-.52 0-1.04.2-1.43.59L10.3 9.45l-7.72 7.72c-.78.78-.78 2.05 0 2.83L4 21.41c.39.39.9.59 1.41.59.51 0 1.02-.2 1.41-.59l7.78-7.78 2.81-2.81c.8-.78.8-2.07 0-2.86zM5.41 20L4 18.59l7.72-7.72 1.47 1.35L5.41 20z\"/>\n",
              "  </svg>\n",
              "      </button>\n",
              "      \n",
              "  <style>\n",
              "    .colab-df-container {\n",
              "      display:flex;\n",
              "      flex-wrap:wrap;\n",
              "      gap: 12px;\n",
              "    }\n",
              "\n",
              "    .colab-df-convert {\n",
              "      background-color: #E8F0FE;\n",
              "      border: none;\n",
              "      border-radius: 50%;\n",
              "      cursor: pointer;\n",
              "      display: none;\n",
              "      fill: #1967D2;\n",
              "      height: 32px;\n",
              "      padding: 0 0 0 0;\n",
              "      width: 32px;\n",
              "    }\n",
              "\n",
              "    .colab-df-convert:hover {\n",
              "      background-color: #E2EBFA;\n",
              "      box-shadow: 0px 1px 2px rgba(60, 64, 67, 0.3), 0px 1px 3px 1px rgba(60, 64, 67, 0.15);\n",
              "      fill: #174EA6;\n",
              "    }\n",
              "\n",
              "    [theme=dark] .colab-df-convert {\n",
              "      background-color: #3B4455;\n",
              "      fill: #D2E3FC;\n",
              "    }\n",
              "\n",
              "    [theme=dark] .colab-df-convert:hover {\n",
              "      background-color: #434B5C;\n",
              "      box-shadow: 0px 1px 3px 1px rgba(0, 0, 0, 0.15);\n",
              "      filter: drop-shadow(0px 1px 2px rgba(0, 0, 0, 0.3));\n",
              "      fill: #FFFFFF;\n",
              "    }\n",
              "  </style>\n",
              "\n",
              "      <script>\n",
              "        const buttonEl =\n",
              "          document.querySelector('#df-9c795de2-b21e-4b1b-be9a-58764830b142 button.colab-df-convert');\n",
              "        buttonEl.style.display =\n",
              "          google.colab.kernel.accessAllowed ? 'block' : 'none';\n",
              "\n",
              "        async function convertToInteractive(key) {\n",
              "          const element = document.querySelector('#df-9c795de2-b21e-4b1b-be9a-58764830b142');\n",
              "          const dataTable =\n",
              "            await google.colab.kernel.invokeFunction('convertToInteractive',\n",
              "                                                     [key], {});\n",
              "          if (!dataTable) return;\n",
              "\n",
              "          const docLinkHtml = 'Like what you see? Visit the ' +\n",
              "            '<a target=\"_blank\" href=https://colab.research.google.com/notebooks/data_table.ipynb>data table notebook</a>'\n",
              "            + ' to learn more about interactive tables.';\n",
              "          element.innerHTML = '';\n",
              "          dataTable['output_type'] = 'display_data';\n",
              "          await google.colab.output.renderOutput(dataTable, element);\n",
              "          const docLink = document.createElement('div');\n",
              "          docLink.innerHTML = docLinkHtml;\n",
              "          element.appendChild(docLink);\n",
              "        }\n",
              "      </script>\n",
              "    </div>\n",
              "  </div>\n",
              "  "
            ]
          },
          "metadata": {},
          "execution_count": 15
        }
      ]
    },
    {
      "cell_type": "code",
      "source": [
        "print(f'ratings.shape = {data_val_lvl_2.shape}\\n')\n",
        "data_val_lvl_2.head(2)"
      ],
      "metadata": {
        "colab": {
          "base_uri": "https://localhost:8080/",
          "height": 147
        },
        "id": "5_Xv9WCK-aFM",
        "outputId": "b231bc0d-0150-490a-ce8c-fe0e3a6c8417"
      },
      "execution_count": 16,
      "outputs": [
        {
          "output_type": "stream",
          "name": "stdout",
          "text": [
            "ratings.shape = (2054, 4)\n",
            "\n"
          ]
        },
        {
          "output_type": "execute_result",
          "data": {
            "text/plain": [
              "         item_id         user_id  rating   timestamp\n",
              "7747  B0000D916Y  A1STWKVUMXNZAB     3.0  1524096000\n",
              "8040  B0000D916Y  A2RI05C8BVQIWB     4.0  1513468800"
            ],
            "text/html": [
              "\n",
              "  <div id=\"df-42a59e11-eb60-4247-8785-416ae1d6f2cf\">\n",
              "    <div class=\"colab-df-container\">\n",
              "      <div>\n",
              "<style scoped>\n",
              "    .dataframe tbody tr th:only-of-type {\n",
              "        vertical-align: middle;\n",
              "    }\n",
              "\n",
              "    .dataframe tbody tr th {\n",
              "        vertical-align: top;\n",
              "    }\n",
              "\n",
              "    .dataframe thead th {\n",
              "        text-align: right;\n",
              "    }\n",
              "</style>\n",
              "<table border=\"1\" class=\"dataframe\">\n",
              "  <thead>\n",
              "    <tr style=\"text-align: right;\">\n",
              "      <th></th>\n",
              "      <th>item_id</th>\n",
              "      <th>user_id</th>\n",
              "      <th>rating</th>\n",
              "      <th>timestamp</th>\n",
              "    </tr>\n",
              "  </thead>\n",
              "  <tbody>\n",
              "    <tr>\n",
              "      <th>7747</th>\n",
              "      <td>B0000D916Y</td>\n",
              "      <td>A1STWKVUMXNZAB</td>\n",
              "      <td>3.0</td>\n",
              "      <td>1524096000</td>\n",
              "    </tr>\n",
              "    <tr>\n",
              "      <th>8040</th>\n",
              "      <td>B0000D916Y</td>\n",
              "      <td>A2RI05C8BVQIWB</td>\n",
              "      <td>4.0</td>\n",
              "      <td>1513468800</td>\n",
              "    </tr>\n",
              "  </tbody>\n",
              "</table>\n",
              "</div>\n",
              "      <button class=\"colab-df-convert\" onclick=\"convertToInteractive('df-42a59e11-eb60-4247-8785-416ae1d6f2cf')\"\n",
              "              title=\"Convert this dataframe to an interactive table.\"\n",
              "              style=\"display:none;\">\n",
              "        \n",
              "  <svg xmlns=\"http://www.w3.org/2000/svg\" height=\"24px\"viewBox=\"0 0 24 24\"\n",
              "       width=\"24px\">\n",
              "    <path d=\"M0 0h24v24H0V0z\" fill=\"none\"/>\n",
              "    <path d=\"M18.56 5.44l.94 2.06.94-2.06 2.06-.94-2.06-.94-.94-2.06-.94 2.06-2.06.94zm-11 1L8.5 8.5l.94-2.06 2.06-.94-2.06-.94L8.5 2.5l-.94 2.06-2.06.94zm10 10l.94 2.06.94-2.06 2.06-.94-2.06-.94-.94-2.06-.94 2.06-2.06.94z\"/><path d=\"M17.41 7.96l-1.37-1.37c-.4-.4-.92-.59-1.43-.59-.52 0-1.04.2-1.43.59L10.3 9.45l-7.72 7.72c-.78.78-.78 2.05 0 2.83L4 21.41c.39.39.9.59 1.41.59.51 0 1.02-.2 1.41-.59l7.78-7.78 2.81-2.81c.8-.78.8-2.07 0-2.86zM5.41 20L4 18.59l7.72-7.72 1.47 1.35L5.41 20z\"/>\n",
              "  </svg>\n",
              "      </button>\n",
              "      \n",
              "  <style>\n",
              "    .colab-df-container {\n",
              "      display:flex;\n",
              "      flex-wrap:wrap;\n",
              "      gap: 12px;\n",
              "    }\n",
              "\n",
              "    .colab-df-convert {\n",
              "      background-color: #E8F0FE;\n",
              "      border: none;\n",
              "      border-radius: 50%;\n",
              "      cursor: pointer;\n",
              "      display: none;\n",
              "      fill: #1967D2;\n",
              "      height: 32px;\n",
              "      padding: 0 0 0 0;\n",
              "      width: 32px;\n",
              "    }\n",
              "\n",
              "    .colab-df-convert:hover {\n",
              "      background-color: #E2EBFA;\n",
              "      box-shadow: 0px 1px 2px rgba(60, 64, 67, 0.3), 0px 1px 3px 1px rgba(60, 64, 67, 0.15);\n",
              "      fill: #174EA6;\n",
              "    }\n",
              "\n",
              "    [theme=dark] .colab-df-convert {\n",
              "      background-color: #3B4455;\n",
              "      fill: #D2E3FC;\n",
              "    }\n",
              "\n",
              "    [theme=dark] .colab-df-convert:hover {\n",
              "      background-color: #434B5C;\n",
              "      box-shadow: 0px 1px 3px 1px rgba(0, 0, 0, 0.15);\n",
              "      filter: drop-shadow(0px 1px 2px rgba(0, 0, 0, 0.3));\n",
              "      fill: #FFFFFF;\n",
              "    }\n",
              "  </style>\n",
              "\n",
              "      <script>\n",
              "        const buttonEl =\n",
              "          document.querySelector('#df-42a59e11-eb60-4247-8785-416ae1d6f2cf button.colab-df-convert');\n",
              "        buttonEl.style.display =\n",
              "          google.colab.kernel.accessAllowed ? 'block' : 'none';\n",
              "\n",
              "        async function convertToInteractive(key) {\n",
              "          const element = document.querySelector('#df-42a59e11-eb60-4247-8785-416ae1d6f2cf');\n",
              "          const dataTable =\n",
              "            await google.colab.kernel.invokeFunction('convertToInteractive',\n",
              "                                                     [key], {});\n",
              "          if (!dataTable) return;\n",
              "\n",
              "          const docLinkHtml = 'Like what you see? Visit the ' +\n",
              "            '<a target=\"_blank\" href=https://colab.research.google.com/notebooks/data_table.ipynb>data table notebook</a>'\n",
              "            + ' to learn more about interactive tables.';\n",
              "          element.innerHTML = '';\n",
              "          dataTable['output_type'] = 'display_data';\n",
              "          await google.colab.output.renderOutput(dataTable, element);\n",
              "          const docLink = document.createElement('div');\n",
              "          docLink.innerHTML = docLinkHtml;\n",
              "          element.appendChild(docLink);\n",
              "        }\n",
              "      </script>\n",
              "    </div>\n",
              "  </div>\n",
              "  "
            ]
          },
          "metadata": {},
          "execution_count": 16
        }
      ]
    },
    {
      "cell_type": "markdown",
      "source": [
        "### 1.3. Items matadata"
      ],
      "metadata": {
        "id": "g0tb1xCT_kpK"
      }
    },
    {
      "cell_type": "code",
      "source": [
        "items = get_items_matadata(selected_items, ITEM_FEATURES_PATH)\n",
        "\n",
        "print(f'items.shape = {items.shape}\\n')\n",
        "items.head(3)"
      ],
      "metadata": {
        "colab": {
          "base_uri": "https://localhost:8080/",
          "height": 430
        },
        "id": "8Hpc6X8FI5i2",
        "outputId": "8f6b0a6e-6f42-42f8-bc7b-07fdede40a4a"
      },
      "execution_count": 17,
      "outputs": [
        {
          "output_type": "stream",
          "name": "stdout",
          "text": [
            "items.shape = (2529, 15)\n",
            "\n"
          ]
        },
        {
          "output_type": "execute_result",
          "data": {
            "text/plain": [
              "      item_id  price     main_cat         category_1  \\\n",
              "0  B00005BPQ9   0.00      Grocery  Candy & Chocolate   \n",
              "1  B00006FMLY  10.41  Amazon Home   Cooking & Baking   \n",
              "2  B00006FWVX   6.30  Amazon Home   Cooking & Baking   \n",
              "\n",
              "                      category_2     brand      rank  \\\n",
              "0  Candy & Chocolate Assortments  Whoppers  413552.0   \n",
              "1  Frosting, Icing & Decorations    Wilton   13984.0   \n",
              "2                  Food Coloring    Wilton    9512.0   \n",
              "\n",
              "                                          rank_group  \\\n",
              "0                             Grocery & Gourmet Food   \n",
              "1  Kitchen & Dining (See Top 100 in Kitchen & Din...   \n",
              "2  Kitchen & Dining (See Top 100 in Kitchen & Din...   \n",
              "\n",
              "                                               title  \\\n",
              "0  WHOPPERS Candy (Chocolate Covered Malted Milk ...   \n",
              "1  Wilton Jimmies Rainbow Sprinkle Assortment, 3....   \n",
              "2  Wilton Candy Decorating Primary Colors Set, 1 oz.   \n",
              "\n",
              "                                         description  len_also_view  \\\n",
              "0  WHOPPERS Malted Milk Balls are the classic con...            2.0   \n",
              "1  Sprinkle your treats with sweet color using th...            0.0   \n",
              "2  Can't find candy to match your party theme? Co...            1.0   \n",
              "\n",
              "                      also_view  len_also_buy  \\\n",
              "0  ['B0016G1H8G', 'B0029JVUAE']          14.0   \n",
              "1                            []           0.0   \n",
              "2                ['B0061TXUNS']           0.0   \n",
              "\n",
              "                                            also_buy            category_3  \n",
              "0  ['B0029JVUAE', 'B00374XTQI', 'B000IXUK2W', 'B0...                   NaN  \n",
              "1                                                 []  Sprinkles & Glitters  \n",
              "2                                                 []                   NaN  "
            ],
            "text/html": [
              "\n",
              "  <div id=\"df-152764cd-73f6-43ed-8cdf-25d8566ef46e\">\n",
              "    <div class=\"colab-df-container\">\n",
              "      <div>\n",
              "<style scoped>\n",
              "    .dataframe tbody tr th:only-of-type {\n",
              "        vertical-align: middle;\n",
              "    }\n",
              "\n",
              "    .dataframe tbody tr th {\n",
              "        vertical-align: top;\n",
              "    }\n",
              "\n",
              "    .dataframe thead th {\n",
              "        text-align: right;\n",
              "    }\n",
              "</style>\n",
              "<table border=\"1\" class=\"dataframe\">\n",
              "  <thead>\n",
              "    <tr style=\"text-align: right;\">\n",
              "      <th></th>\n",
              "      <th>item_id</th>\n",
              "      <th>price</th>\n",
              "      <th>main_cat</th>\n",
              "      <th>category_1</th>\n",
              "      <th>category_2</th>\n",
              "      <th>brand</th>\n",
              "      <th>rank</th>\n",
              "      <th>rank_group</th>\n",
              "      <th>title</th>\n",
              "      <th>description</th>\n",
              "      <th>len_also_view</th>\n",
              "      <th>also_view</th>\n",
              "      <th>len_also_buy</th>\n",
              "      <th>also_buy</th>\n",
              "      <th>category_3</th>\n",
              "    </tr>\n",
              "  </thead>\n",
              "  <tbody>\n",
              "    <tr>\n",
              "      <th>0</th>\n",
              "      <td>B00005BPQ9</td>\n",
              "      <td>0.00</td>\n",
              "      <td>Grocery</td>\n",
              "      <td>Candy &amp; Chocolate</td>\n",
              "      <td>Candy &amp; Chocolate Assortments</td>\n",
              "      <td>Whoppers</td>\n",
              "      <td>413552.0</td>\n",
              "      <td>Grocery &amp; Gourmet Food</td>\n",
              "      <td>WHOPPERS Candy (Chocolate Covered Malted Milk ...</td>\n",
              "      <td>WHOPPERS Malted Milk Balls are the classic con...</td>\n",
              "      <td>2.0</td>\n",
              "      <td>['B0016G1H8G', 'B0029JVUAE']</td>\n",
              "      <td>14.0</td>\n",
              "      <td>['B0029JVUAE', 'B00374XTQI', 'B000IXUK2W', 'B0...</td>\n",
              "      <td>NaN</td>\n",
              "    </tr>\n",
              "    <tr>\n",
              "      <th>1</th>\n",
              "      <td>B00006FMLY</td>\n",
              "      <td>10.41</td>\n",
              "      <td>Amazon Home</td>\n",
              "      <td>Cooking &amp; Baking</td>\n",
              "      <td>Frosting, Icing &amp; Decorations</td>\n",
              "      <td>Wilton</td>\n",
              "      <td>13984.0</td>\n",
              "      <td>Kitchen &amp; Dining (See Top 100 in Kitchen &amp; Din...</td>\n",
              "      <td>Wilton Jimmies Rainbow Sprinkle Assortment, 3....</td>\n",
              "      <td>Sprinkle your treats with sweet color using th...</td>\n",
              "      <td>0.0</td>\n",
              "      <td>[]</td>\n",
              "      <td>0.0</td>\n",
              "      <td>[]</td>\n",
              "      <td>Sprinkles &amp; Glitters</td>\n",
              "    </tr>\n",
              "    <tr>\n",
              "      <th>2</th>\n",
              "      <td>B00006FWVX</td>\n",
              "      <td>6.30</td>\n",
              "      <td>Amazon Home</td>\n",
              "      <td>Cooking &amp; Baking</td>\n",
              "      <td>Food Coloring</td>\n",
              "      <td>Wilton</td>\n",
              "      <td>9512.0</td>\n",
              "      <td>Kitchen &amp; Dining (See Top 100 in Kitchen &amp; Din...</td>\n",
              "      <td>Wilton Candy Decorating Primary Colors Set, 1 oz.</td>\n",
              "      <td>Can't find candy to match your party theme? Co...</td>\n",
              "      <td>1.0</td>\n",
              "      <td>['B0061TXUNS']</td>\n",
              "      <td>0.0</td>\n",
              "      <td>[]</td>\n",
              "      <td>NaN</td>\n",
              "    </tr>\n",
              "  </tbody>\n",
              "</table>\n",
              "</div>\n",
              "      <button class=\"colab-df-convert\" onclick=\"convertToInteractive('df-152764cd-73f6-43ed-8cdf-25d8566ef46e')\"\n",
              "              title=\"Convert this dataframe to an interactive table.\"\n",
              "              style=\"display:none;\">\n",
              "        \n",
              "  <svg xmlns=\"http://www.w3.org/2000/svg\" height=\"24px\"viewBox=\"0 0 24 24\"\n",
              "       width=\"24px\">\n",
              "    <path d=\"M0 0h24v24H0V0z\" fill=\"none\"/>\n",
              "    <path d=\"M18.56 5.44l.94 2.06.94-2.06 2.06-.94-2.06-.94-.94-2.06-.94 2.06-2.06.94zm-11 1L8.5 8.5l.94-2.06 2.06-.94-2.06-.94L8.5 2.5l-.94 2.06-2.06.94zm10 10l.94 2.06.94-2.06 2.06-.94-2.06-.94-.94-2.06-.94 2.06-2.06.94z\"/><path d=\"M17.41 7.96l-1.37-1.37c-.4-.4-.92-.59-1.43-.59-.52 0-1.04.2-1.43.59L10.3 9.45l-7.72 7.72c-.78.78-.78 2.05 0 2.83L4 21.41c.39.39.9.59 1.41.59.51 0 1.02-.2 1.41-.59l7.78-7.78 2.81-2.81c.8-.78.8-2.07 0-2.86zM5.41 20L4 18.59l7.72-7.72 1.47 1.35L5.41 20z\"/>\n",
              "  </svg>\n",
              "      </button>\n",
              "      \n",
              "  <style>\n",
              "    .colab-df-container {\n",
              "      display:flex;\n",
              "      flex-wrap:wrap;\n",
              "      gap: 12px;\n",
              "    }\n",
              "\n",
              "    .colab-df-convert {\n",
              "      background-color: #E8F0FE;\n",
              "      border: none;\n",
              "      border-radius: 50%;\n",
              "      cursor: pointer;\n",
              "      display: none;\n",
              "      fill: #1967D2;\n",
              "      height: 32px;\n",
              "      padding: 0 0 0 0;\n",
              "      width: 32px;\n",
              "    }\n",
              "\n",
              "    .colab-df-convert:hover {\n",
              "      background-color: #E2EBFA;\n",
              "      box-shadow: 0px 1px 2px rgba(60, 64, 67, 0.3), 0px 1px 3px 1px rgba(60, 64, 67, 0.15);\n",
              "      fill: #174EA6;\n",
              "    }\n",
              "\n",
              "    [theme=dark] .colab-df-convert {\n",
              "      background-color: #3B4455;\n",
              "      fill: #D2E3FC;\n",
              "    }\n",
              "\n",
              "    [theme=dark] .colab-df-convert:hover {\n",
              "      background-color: #434B5C;\n",
              "      box-shadow: 0px 1px 3px 1px rgba(0, 0, 0, 0.15);\n",
              "      filter: drop-shadow(0px 1px 2px rgba(0, 0, 0, 0.3));\n",
              "      fill: #FFFFFF;\n",
              "    }\n",
              "  </style>\n",
              "\n",
              "      <script>\n",
              "        const buttonEl =\n",
              "          document.querySelector('#df-152764cd-73f6-43ed-8cdf-25d8566ef46e button.colab-df-convert');\n",
              "        buttonEl.style.display =\n",
              "          google.colab.kernel.accessAllowed ? 'block' : 'none';\n",
              "\n",
              "        async function convertToInteractive(key) {\n",
              "          const element = document.querySelector('#df-152764cd-73f6-43ed-8cdf-25d8566ef46e');\n",
              "          const dataTable =\n",
              "            await google.colab.kernel.invokeFunction('convertToInteractive',\n",
              "                                                     [key], {});\n",
              "          if (!dataTable) return;\n",
              "\n",
              "          const docLinkHtml = 'Like what you see? Visit the ' +\n",
              "            '<a target=\"_blank\" href=https://colab.research.google.com/notebooks/data_table.ipynb>data table notebook</a>'\n",
              "            + ' to learn more about interactive tables.';\n",
              "          element.innerHTML = '';\n",
              "          dataTable['output_type'] = 'display_data';\n",
              "          await google.colab.output.renderOutput(dataTable, element);\n",
              "          const docLink = document.createElement('div');\n",
              "          docLink.innerHTML = docLinkHtml;\n",
              "          element.appendChild(docLink);\n",
              "        }\n",
              "      </script>\n",
              "    </div>\n",
              "  </div>\n",
              "  "
            ]
          },
          "metadata": {},
          "execution_count": 17
        }
      ]
    },
    {
      "cell_type": "markdown",
      "source": [
        "### 1.4. User reviews"
      ],
      "metadata": {
        "id": "cELDyFlRHhbV"
      }
    },
    {
      "cell_type": "code",
      "source": [
        "user_reviews = get_user_reviews(selected_users, selected_items, t1, USER_FEATURES_PATH)\n",
        "\n",
        "print(f'user_reviews.shape = {user_reviews.shape}\\n')\n",
        "user_reviews.head(2)"
      ],
      "metadata": {
        "colab": {
          "base_uri": "https://localhost:8080/",
          "height": 147
        },
        "id": "nCTGUSXVAAnZ",
        "outputId": "f63498f5-edb6-4797-e08e-a4fecc86eaca"
      },
      "execution_count": 18,
      "outputs": [
        {
          "output_type": "stream",
          "name": "stdout",
          "text": [
            "user_reviews.shape = (10927, 5)\n",
            "\n"
          ]
        },
        {
          "output_type": "execute_result",
          "data": {
            "text/plain": [
              "          user_id     item_id   timestamp  \\\n",
              "0  A3TH42PC3EZV1B  B00005BPQ9  1445558400   \n",
              "1   A8CGWGJ9OM58J  B00006FMLY  1455753600   \n",
              "\n",
              "                                                text  len_text  \n",
              "0  Delicious, and a good value... What more is to...        55  \n",
              "1                              great for decorating.        21  "
            ],
            "text/html": [
              "\n",
              "  <div id=\"df-25bd9519-eb54-456f-b63c-b9462925593b\">\n",
              "    <div class=\"colab-df-container\">\n",
              "      <div>\n",
              "<style scoped>\n",
              "    .dataframe tbody tr th:only-of-type {\n",
              "        vertical-align: middle;\n",
              "    }\n",
              "\n",
              "    .dataframe tbody tr th {\n",
              "        vertical-align: top;\n",
              "    }\n",
              "\n",
              "    .dataframe thead th {\n",
              "        text-align: right;\n",
              "    }\n",
              "</style>\n",
              "<table border=\"1\" class=\"dataframe\">\n",
              "  <thead>\n",
              "    <tr style=\"text-align: right;\">\n",
              "      <th></th>\n",
              "      <th>user_id</th>\n",
              "      <th>item_id</th>\n",
              "      <th>timestamp</th>\n",
              "      <th>text</th>\n",
              "      <th>len_text</th>\n",
              "    </tr>\n",
              "  </thead>\n",
              "  <tbody>\n",
              "    <tr>\n",
              "      <th>0</th>\n",
              "      <td>A3TH42PC3EZV1B</td>\n",
              "      <td>B00005BPQ9</td>\n",
              "      <td>1445558400</td>\n",
              "      <td>Delicious, and a good value... What more is to...</td>\n",
              "      <td>55</td>\n",
              "    </tr>\n",
              "    <tr>\n",
              "      <th>1</th>\n",
              "      <td>A8CGWGJ9OM58J</td>\n",
              "      <td>B00006FMLY</td>\n",
              "      <td>1455753600</td>\n",
              "      <td>great for decorating.</td>\n",
              "      <td>21</td>\n",
              "    </tr>\n",
              "  </tbody>\n",
              "</table>\n",
              "</div>\n",
              "      <button class=\"colab-df-convert\" onclick=\"convertToInteractive('df-25bd9519-eb54-456f-b63c-b9462925593b')\"\n",
              "              title=\"Convert this dataframe to an interactive table.\"\n",
              "              style=\"display:none;\">\n",
              "        \n",
              "  <svg xmlns=\"http://www.w3.org/2000/svg\" height=\"24px\"viewBox=\"0 0 24 24\"\n",
              "       width=\"24px\">\n",
              "    <path d=\"M0 0h24v24H0V0z\" fill=\"none\"/>\n",
              "    <path d=\"M18.56 5.44l.94 2.06.94-2.06 2.06-.94-2.06-.94-.94-2.06-.94 2.06-2.06.94zm-11 1L8.5 8.5l.94-2.06 2.06-.94-2.06-.94L8.5 2.5l-.94 2.06-2.06.94zm10 10l.94 2.06.94-2.06 2.06-.94-2.06-.94-.94-2.06-.94 2.06-2.06.94z\"/><path d=\"M17.41 7.96l-1.37-1.37c-.4-.4-.92-.59-1.43-.59-.52 0-1.04.2-1.43.59L10.3 9.45l-7.72 7.72c-.78.78-.78 2.05 0 2.83L4 21.41c.39.39.9.59 1.41.59.51 0 1.02-.2 1.41-.59l7.78-7.78 2.81-2.81c.8-.78.8-2.07 0-2.86zM5.41 20L4 18.59l7.72-7.72 1.47 1.35L5.41 20z\"/>\n",
              "  </svg>\n",
              "      </button>\n",
              "      \n",
              "  <style>\n",
              "    .colab-df-container {\n",
              "      display:flex;\n",
              "      flex-wrap:wrap;\n",
              "      gap: 12px;\n",
              "    }\n",
              "\n",
              "    .colab-df-convert {\n",
              "      background-color: #E8F0FE;\n",
              "      border: none;\n",
              "      border-radius: 50%;\n",
              "      cursor: pointer;\n",
              "      display: none;\n",
              "      fill: #1967D2;\n",
              "      height: 32px;\n",
              "      padding: 0 0 0 0;\n",
              "      width: 32px;\n",
              "    }\n",
              "\n",
              "    .colab-df-convert:hover {\n",
              "      background-color: #E2EBFA;\n",
              "      box-shadow: 0px 1px 2px rgba(60, 64, 67, 0.3), 0px 1px 3px 1px rgba(60, 64, 67, 0.15);\n",
              "      fill: #174EA6;\n",
              "    }\n",
              "\n",
              "    [theme=dark] .colab-df-convert {\n",
              "      background-color: #3B4455;\n",
              "      fill: #D2E3FC;\n",
              "    }\n",
              "\n",
              "    [theme=dark] .colab-df-convert:hover {\n",
              "      background-color: #434B5C;\n",
              "      box-shadow: 0px 1px 3px 1px rgba(0, 0, 0, 0.15);\n",
              "      filter: drop-shadow(0px 1px 2px rgba(0, 0, 0, 0.3));\n",
              "      fill: #FFFFFF;\n",
              "    }\n",
              "  </style>\n",
              "\n",
              "      <script>\n",
              "        const buttonEl =\n",
              "          document.querySelector('#df-25bd9519-eb54-456f-b63c-b9462925593b button.colab-df-convert');\n",
              "        buttonEl.style.display =\n",
              "          google.colab.kernel.accessAllowed ? 'block' : 'none';\n",
              "\n",
              "        async function convertToInteractive(key) {\n",
              "          const element = document.querySelector('#df-25bd9519-eb54-456f-b63c-b9462925593b');\n",
              "          const dataTable =\n",
              "            await google.colab.kernel.invokeFunction('convertToInteractive',\n",
              "                                                     [key], {});\n",
              "          if (!dataTable) return;\n",
              "\n",
              "          const docLinkHtml = 'Like what you see? Visit the ' +\n",
              "            '<a target=\"_blank\" href=https://colab.research.google.com/notebooks/data_table.ipynb>data table notebook</a>'\n",
              "            + ' to learn more about interactive tables.';\n",
              "          element.innerHTML = '';\n",
              "          dataTable['output_type'] = 'display_data';\n",
              "          await google.colab.output.renderOutput(dataTable, element);\n",
              "          const docLink = document.createElement('div');\n",
              "          docLink.innerHTML = docLinkHtml;\n",
              "          element.appendChild(docLink);\n",
              "        }\n",
              "      </script>\n",
              "    </div>\n",
              "  </div>\n",
              "  "
            ]
          },
          "metadata": {},
          "execution_count": 18
        }
      ]
    },
    {
      "cell_type": "code",
      "source": [
        "data_val_lvl_1, data_val_lvl_2 = add_user_reviews_to_ratings(data_val_lvl_1, data_val_lvl_2, user_reviews)\n",
        "\n",
        "print(f'data_val_lvl_1.shape = {data_val_lvl_1.shape}\\n')\n",
        "data_val_lvl_1.head(2)"
      ],
      "metadata": {
        "colab": {
          "base_uri": "https://localhost:8080/",
          "height": 147
        },
        "id": "s7PX_0P0Njkp",
        "outputId": "a75afb65-b59a-4b7e-8154-b4dfdd458dc2"
      },
      "execution_count": 19,
      "outputs": [
        {
          "output_type": "stream",
          "name": "stdout",
          "text": [
            "data_val_lvl_1.shape = (16290, 6)\n",
            "\n"
          ]
        },
        {
          "output_type": "execute_result",
          "data": {
            "text/plain": [
              "      item_id         user_id  rating   timestamp  \\\n",
              "0  B00005BPQ9  A3TH42PC3EZV1B     4.0  1445558400   \n",
              "1  B00006FMLY   A8CGWGJ9OM58J     5.0  1455753600   \n",
              "\n",
              "                                                text  len_text  \n",
              "0  Delicious, and a good value... What more is to...        55  \n",
              "1                              great for decorating.        21  "
            ],
            "text/html": [
              "\n",
              "  <div id=\"df-a208626d-e143-4f5d-97be-a826e94a003c\">\n",
              "    <div class=\"colab-df-container\">\n",
              "      <div>\n",
              "<style scoped>\n",
              "    .dataframe tbody tr th:only-of-type {\n",
              "        vertical-align: middle;\n",
              "    }\n",
              "\n",
              "    .dataframe tbody tr th {\n",
              "        vertical-align: top;\n",
              "    }\n",
              "\n",
              "    .dataframe thead th {\n",
              "        text-align: right;\n",
              "    }\n",
              "</style>\n",
              "<table border=\"1\" class=\"dataframe\">\n",
              "  <thead>\n",
              "    <tr style=\"text-align: right;\">\n",
              "      <th></th>\n",
              "      <th>item_id</th>\n",
              "      <th>user_id</th>\n",
              "      <th>rating</th>\n",
              "      <th>timestamp</th>\n",
              "      <th>text</th>\n",
              "      <th>len_text</th>\n",
              "    </tr>\n",
              "  </thead>\n",
              "  <tbody>\n",
              "    <tr>\n",
              "      <th>0</th>\n",
              "      <td>B00005BPQ9</td>\n",
              "      <td>A3TH42PC3EZV1B</td>\n",
              "      <td>4.0</td>\n",
              "      <td>1445558400</td>\n",
              "      <td>Delicious, and a good value... What more is to...</td>\n",
              "      <td>55</td>\n",
              "    </tr>\n",
              "    <tr>\n",
              "      <th>1</th>\n",
              "      <td>B00006FMLY</td>\n",
              "      <td>A8CGWGJ9OM58J</td>\n",
              "      <td>5.0</td>\n",
              "      <td>1455753600</td>\n",
              "      <td>great for decorating.</td>\n",
              "      <td>21</td>\n",
              "    </tr>\n",
              "  </tbody>\n",
              "</table>\n",
              "</div>\n",
              "      <button class=\"colab-df-convert\" onclick=\"convertToInteractive('df-a208626d-e143-4f5d-97be-a826e94a003c')\"\n",
              "              title=\"Convert this dataframe to an interactive table.\"\n",
              "              style=\"display:none;\">\n",
              "        \n",
              "  <svg xmlns=\"http://www.w3.org/2000/svg\" height=\"24px\"viewBox=\"0 0 24 24\"\n",
              "       width=\"24px\">\n",
              "    <path d=\"M0 0h24v24H0V0z\" fill=\"none\"/>\n",
              "    <path d=\"M18.56 5.44l.94 2.06.94-2.06 2.06-.94-2.06-.94-.94-2.06-.94 2.06-2.06.94zm-11 1L8.5 8.5l.94-2.06 2.06-.94-2.06-.94L8.5 2.5l-.94 2.06-2.06.94zm10 10l.94 2.06.94-2.06 2.06-.94-2.06-.94-.94-2.06-.94 2.06-2.06.94z\"/><path d=\"M17.41 7.96l-1.37-1.37c-.4-.4-.92-.59-1.43-.59-.52 0-1.04.2-1.43.59L10.3 9.45l-7.72 7.72c-.78.78-.78 2.05 0 2.83L4 21.41c.39.39.9.59 1.41.59.51 0 1.02-.2 1.41-.59l7.78-7.78 2.81-2.81c.8-.78.8-2.07 0-2.86zM5.41 20L4 18.59l7.72-7.72 1.47 1.35L5.41 20z\"/>\n",
              "  </svg>\n",
              "      </button>\n",
              "      \n",
              "  <style>\n",
              "    .colab-df-container {\n",
              "      display:flex;\n",
              "      flex-wrap:wrap;\n",
              "      gap: 12px;\n",
              "    }\n",
              "\n",
              "    .colab-df-convert {\n",
              "      background-color: #E8F0FE;\n",
              "      border: none;\n",
              "      border-radius: 50%;\n",
              "      cursor: pointer;\n",
              "      display: none;\n",
              "      fill: #1967D2;\n",
              "      height: 32px;\n",
              "      padding: 0 0 0 0;\n",
              "      width: 32px;\n",
              "    }\n",
              "\n",
              "    .colab-df-convert:hover {\n",
              "      background-color: #E2EBFA;\n",
              "      box-shadow: 0px 1px 2px rgba(60, 64, 67, 0.3), 0px 1px 3px 1px rgba(60, 64, 67, 0.15);\n",
              "      fill: #174EA6;\n",
              "    }\n",
              "\n",
              "    [theme=dark] .colab-df-convert {\n",
              "      background-color: #3B4455;\n",
              "      fill: #D2E3FC;\n",
              "    }\n",
              "\n",
              "    [theme=dark] .colab-df-convert:hover {\n",
              "      background-color: #434B5C;\n",
              "      box-shadow: 0px 1px 3px 1px rgba(0, 0, 0, 0.15);\n",
              "      filter: drop-shadow(0px 1px 2px rgba(0, 0, 0, 0.3));\n",
              "      fill: #FFFFFF;\n",
              "    }\n",
              "  </style>\n",
              "\n",
              "      <script>\n",
              "        const buttonEl =\n",
              "          document.querySelector('#df-a208626d-e143-4f5d-97be-a826e94a003c button.colab-df-convert');\n",
              "        buttonEl.style.display =\n",
              "          google.colab.kernel.accessAllowed ? 'block' : 'none';\n",
              "\n",
              "        async function convertToInteractive(key) {\n",
              "          const element = document.querySelector('#df-a208626d-e143-4f5d-97be-a826e94a003c');\n",
              "          const dataTable =\n",
              "            await google.colab.kernel.invokeFunction('convertToInteractive',\n",
              "                                                     [key], {});\n",
              "          if (!dataTable) return;\n",
              "\n",
              "          const docLinkHtml = 'Like what you see? Visit the ' +\n",
              "            '<a target=\"_blank\" href=https://colab.research.google.com/notebooks/data_table.ipynb>data table notebook</a>'\n",
              "            + ' to learn more about interactive tables.';\n",
              "          element.innerHTML = '';\n",
              "          dataTable['output_type'] = 'display_data';\n",
              "          await google.colab.output.renderOutput(dataTable, element);\n",
              "          const docLink = document.createElement('div');\n",
              "          docLink.innerHTML = docLinkHtml;\n",
              "          element.appendChild(docLink);\n",
              "        }\n",
              "      </script>\n",
              "    </div>\n",
              "  </div>\n",
              "  "
            ]
          },
          "metadata": {},
          "execution_count": 19
        }
      ]
    },
    {
      "cell_type": "code",
      "source": [
        "print(f'data_val_lvl_2.shape = {data_val_lvl_2.shape}\\n')\n",
        "data_val_lvl_2.head(2)"
      ],
      "metadata": {
        "colab": {
          "base_uri": "https://localhost:8080/",
          "height": 147
        },
        "id": "2jd-7ZJHN-NA",
        "outputId": "e7da67fc-3221-40f7-bb51-8457bdbe71ba"
      },
      "execution_count": 20,
      "outputs": [
        {
          "output_type": "stream",
          "name": "stdout",
          "text": [
            "data_val_lvl_2.shape = (1847, 6)\n",
            "\n"
          ]
        },
        {
          "output_type": "execute_result",
          "data": {
            "text/plain": [
              "      item_id         user_id  rating   timestamp  text  len_text\n",
              "0  B0000D916Y  A1STWKVUMXNZAB     3.0  1524096000  good         4\n",
              "1  B0000D9169  A1STWKVUMXNZAB     3.0  1524096000  good         4"
            ],
            "text/html": [
              "\n",
              "  <div id=\"df-3f34ce18-f50a-4422-842a-91cf46414a20\">\n",
              "    <div class=\"colab-df-container\">\n",
              "      <div>\n",
              "<style scoped>\n",
              "    .dataframe tbody tr th:only-of-type {\n",
              "        vertical-align: middle;\n",
              "    }\n",
              "\n",
              "    .dataframe tbody tr th {\n",
              "        vertical-align: top;\n",
              "    }\n",
              "\n",
              "    .dataframe thead th {\n",
              "        text-align: right;\n",
              "    }\n",
              "</style>\n",
              "<table border=\"1\" class=\"dataframe\">\n",
              "  <thead>\n",
              "    <tr style=\"text-align: right;\">\n",
              "      <th></th>\n",
              "      <th>item_id</th>\n",
              "      <th>user_id</th>\n",
              "      <th>rating</th>\n",
              "      <th>timestamp</th>\n",
              "      <th>text</th>\n",
              "      <th>len_text</th>\n",
              "    </tr>\n",
              "  </thead>\n",
              "  <tbody>\n",
              "    <tr>\n",
              "      <th>0</th>\n",
              "      <td>B0000D916Y</td>\n",
              "      <td>A1STWKVUMXNZAB</td>\n",
              "      <td>3.0</td>\n",
              "      <td>1524096000</td>\n",
              "      <td>good</td>\n",
              "      <td>4</td>\n",
              "    </tr>\n",
              "    <tr>\n",
              "      <th>1</th>\n",
              "      <td>B0000D9169</td>\n",
              "      <td>A1STWKVUMXNZAB</td>\n",
              "      <td>3.0</td>\n",
              "      <td>1524096000</td>\n",
              "      <td>good</td>\n",
              "      <td>4</td>\n",
              "    </tr>\n",
              "  </tbody>\n",
              "</table>\n",
              "</div>\n",
              "      <button class=\"colab-df-convert\" onclick=\"convertToInteractive('df-3f34ce18-f50a-4422-842a-91cf46414a20')\"\n",
              "              title=\"Convert this dataframe to an interactive table.\"\n",
              "              style=\"display:none;\">\n",
              "        \n",
              "  <svg xmlns=\"http://www.w3.org/2000/svg\" height=\"24px\"viewBox=\"0 0 24 24\"\n",
              "       width=\"24px\">\n",
              "    <path d=\"M0 0h24v24H0V0z\" fill=\"none\"/>\n",
              "    <path d=\"M18.56 5.44l.94 2.06.94-2.06 2.06-.94-2.06-.94-.94-2.06-.94 2.06-2.06.94zm-11 1L8.5 8.5l.94-2.06 2.06-.94-2.06-.94L8.5 2.5l-.94 2.06-2.06.94zm10 10l.94 2.06.94-2.06 2.06-.94-2.06-.94-.94-2.06-.94 2.06-2.06.94z\"/><path d=\"M17.41 7.96l-1.37-1.37c-.4-.4-.92-.59-1.43-.59-.52 0-1.04.2-1.43.59L10.3 9.45l-7.72 7.72c-.78.78-.78 2.05 0 2.83L4 21.41c.39.39.9.59 1.41.59.51 0 1.02-.2 1.41-.59l7.78-7.78 2.81-2.81c.8-.78.8-2.07 0-2.86zM5.41 20L4 18.59l7.72-7.72 1.47 1.35L5.41 20z\"/>\n",
              "  </svg>\n",
              "      </button>\n",
              "      \n",
              "  <style>\n",
              "    .colab-df-container {\n",
              "      display:flex;\n",
              "      flex-wrap:wrap;\n",
              "      gap: 12px;\n",
              "    }\n",
              "\n",
              "    .colab-df-convert {\n",
              "      background-color: #E8F0FE;\n",
              "      border: none;\n",
              "      border-radius: 50%;\n",
              "      cursor: pointer;\n",
              "      display: none;\n",
              "      fill: #1967D2;\n",
              "      height: 32px;\n",
              "      padding: 0 0 0 0;\n",
              "      width: 32px;\n",
              "    }\n",
              "\n",
              "    .colab-df-convert:hover {\n",
              "      background-color: #E2EBFA;\n",
              "      box-shadow: 0px 1px 2px rgba(60, 64, 67, 0.3), 0px 1px 3px 1px rgba(60, 64, 67, 0.15);\n",
              "      fill: #174EA6;\n",
              "    }\n",
              "\n",
              "    [theme=dark] .colab-df-convert {\n",
              "      background-color: #3B4455;\n",
              "      fill: #D2E3FC;\n",
              "    }\n",
              "\n",
              "    [theme=dark] .colab-df-convert:hover {\n",
              "      background-color: #434B5C;\n",
              "      box-shadow: 0px 1px 3px 1px rgba(0, 0, 0, 0.15);\n",
              "      filter: drop-shadow(0px 1px 2px rgba(0, 0, 0, 0.3));\n",
              "      fill: #FFFFFF;\n",
              "    }\n",
              "  </style>\n",
              "\n",
              "      <script>\n",
              "        const buttonEl =\n",
              "          document.querySelector('#df-3f34ce18-f50a-4422-842a-91cf46414a20 button.colab-df-convert');\n",
              "        buttonEl.style.display =\n",
              "          google.colab.kernel.accessAllowed ? 'block' : 'none';\n",
              "\n",
              "        async function convertToInteractive(key) {\n",
              "          const element = document.querySelector('#df-3f34ce18-f50a-4422-842a-91cf46414a20');\n",
              "          const dataTable =\n",
              "            await google.colab.kernel.invokeFunction('convertToInteractive',\n",
              "                                                     [key], {});\n",
              "          if (!dataTable) return;\n",
              "\n",
              "          const docLinkHtml = 'Like what you see? Visit the ' +\n",
              "            '<a target=\"_blank\" href=https://colab.research.google.com/notebooks/data_table.ipynb>data table notebook</a>'\n",
              "            + ' to learn more about interactive tables.';\n",
              "          element.innerHTML = '';\n",
              "          dataTable['output_type'] = 'display_data';\n",
              "          await google.colab.output.renderOutput(dataTable, element);\n",
              "          const docLink = document.createElement('div');\n",
              "          docLink.innerHTML = docLinkHtml;\n",
              "          element.appendChild(docLink);\n",
              "        }\n",
              "      </script>\n",
              "    </div>\n",
              "  </div>\n",
              "  "
            ]
          },
          "metadata": {},
          "execution_count": 20
        }
      ]
    },
    {
      "cell_type": "markdown",
      "source": [
        "## 2. EDA\n",
        "\n",
        "EDA of train and validation dataset for 2nd level model"
      ],
      "metadata": {
        "id": "rU1EcOL1ieuh"
      }
    },
    {
      "cell_type": "markdown",
      "source": [
        "### 2.1. Top popular items"
      ],
      "metadata": {
        "id": "G0cVULQREBHU"
      }
    },
    {
      "cell_type": "code",
      "source": [
        "data = pd.concat([data_val_lvl_1, data_val_lvl_2], axis=0)"
      ],
      "metadata": {
        "id": "gOE45FB8ya0t"
      },
      "execution_count": 21,
      "outputs": []
    },
    {
      "cell_type": "code",
      "source": [
        "popularity = (data.groupby('item_id')['user_id'].nunique() / data['user_id'].nunique()).reset_index()\n",
        "popularity.rename(columns={'user_id': 'share_unique_users'}, inplace=True)\n",
        "popularity['share_unique_users'].max()"
      ],
      "metadata": {
        "colab": {
          "base_uri": "https://localhost:8080/"
        },
        "id": "qcLvrsVvEDkI",
        "outputId": "0e48d3ae-4211-4512-c269-3ea2fdec0107"
      },
      "execution_count": 22,
      "outputs": [
        {
          "output_type": "execute_result",
          "data": {
            "text/plain": [
              "0.06459054209919261"
            ]
          },
          "metadata": {},
          "execution_count": 22
        }
      ]
    },
    {
      "cell_type": "code",
      "source": [
        "plt.figure(figsize=(10, 4))\n",
        "plt.title('Distribution of share of unique users')\n",
        "plt.xlabel('share of unique users')\n",
        "plt.ylabel('number of items')\n",
        "plt.hist(popularity['share_unique_users'].values, bins=50);"
      ],
      "metadata": {
        "colab": {
          "base_uri": "https://localhost:8080/",
          "height": 295
        },
        "id": "1QYZcWEFEKo0",
        "outputId": "f0dedeee-30fe-433c-e48d-c819d72600e9"
      },
      "execution_count": 23,
      "outputs": [
        {
          "output_type": "display_data",
          "data": {
            "text/plain": [
              "<Figure size 720x288 with 1 Axes>"
            ],
            "image/png": "[encoded data removed]"
          },
          "metadata": {
            "needs_background": "light"
          }
        }
      ]
    },
    {
      "cell_type": "markdown",
      "source": [
        "### 2.2. Top unpopular items"
      ],
      "metadata": {
        "id": "QHxW49ToEcw1"
      }
    },
    {
      "cell_type": "code",
      "source": [
        "top_unpopular = popularity[popularity['share_unique_users'] < 5.8e-04].item_id.tolist()\n",
        "len(top_unpopular)"
      ],
      "metadata": {
        "colab": {
          "base_uri": "https://localhost:8080/"
        },
        "id": "w3xgYgYLEhcN",
        "outputId": "7f13dd83-8817-474d-ed66-43908c14b0ac"
      },
      "execution_count": 24,
      "outputs": [
        {
          "output_type": "execute_result",
          "data": {
            "text/plain": [
              "1157"
            ]
          },
          "metadata": {},
          "execution_count": 24
        }
      ]
    },
    {
      "cell_type": "markdown",
      "source": [
        "### 2.3. Items of unpopular categories"
      ],
      "metadata": {
        "id": "j58g9-XFEyD7"
      }
    },
    {
      "cell_type": "code",
      "source": [
        "main_cat_size = (\n",
        "    items.groupby('main_cat')['item_id'].nunique().sort_values(ascending=False)\n",
        ").reset_index()\n",
        "main_cat_size.columns = ['main_cat', 'n_items']\n",
        "\n",
        "unpopular_main_cats = main_cat_size[main_cat_size['n_items'] < 150].main_cat.tolist()\n",
        "items_in_unpopular_main_cats = items[items['main_cat'].isin(unpopular_main_cats)].item_id.unique().tolist()\n",
        "len(items_in_unpopular_main_cats)"
      ],
      "metadata": {
        "colab": {
          "base_uri": "https://localhost:8080/"
        },
        "id": "LvGXXVW_E0ih",
        "outputId": "f684c983-4808-4415-d1f8-124e62b4b876"
      },
      "execution_count": 25,
      "outputs": [
        {
          "output_type": "execute_result",
          "data": {
            "text/plain": [
              "125"
            ]
          },
          "metadata": {},
          "execution_count": 25
        }
      ]
    },
    {
      "cell_type": "markdown",
      "source": [
        "### 2.4. Price threshold"
      ],
      "metadata": {
        "id": "YQ665MDvFAtw"
      }
    },
    {
      "cell_type": "code",
      "source": [
        "data = data.merge(items[['item_id', 'price']], on='item_id')"
      ],
      "metadata": {
        "id": "PNeM8NtHPyBz"
      },
      "execution_count": 26,
      "outputs": []
    },
    {
      "cell_type": "code",
      "source": [
        "plt.figure(figsize=(10, 4))\n",
        "plt.title('Price distribution')\n",
        "plt.xlabel('price')\n",
        "plt.ylabel('number of items')\n",
        "plt.hist(data['price'].values, bins=50);"
      ],
      "metadata": {
        "colab": {
          "base_uri": "https://localhost:8080/",
          "height": 295
        },
        "id": "_EJeIfVSFD0-",
        "outputId": "330cbc3a-b545-4d93-ea34-6555c8bc1b9c"
      },
      "execution_count": 27,
      "outputs": [
        {
          "output_type": "display_data",
          "data": {
            "text/plain": [
              "<Figure size 720x288 with 1 Axes>"
            ],
            "image/png": "[encoded data removed]"
          },
          "metadata": {
            "needs_background": "light"
          }
        }
      ]
    },
    {
      "cell_type": "code",
      "source": [
        "data['price'].describe()"
      ],
      "metadata": {
        "colab": {
          "base_uri": "https://localhost:8080/"
        },
        "id": "brWKeIGZ1VZO",
        "outputId": "ee5ee4c7-3f2f-4676-babe-04df3c2abf83"
      },
      "execution_count": 28,
      "outputs": [
        {
          "output_type": "execute_result",
          "data": {
            "text/plain": [
              "count    18107.000000\n",
              "mean        13.645690\n",
              "std         13.638329\n",
              "min          0.000000\n",
              "25%          0.000000\n",
              "50%         11.990000\n",
              "75%         19.745000\n",
              "max        182.480000\n",
              "Name: price, dtype: float64"
            ]
          },
          "metadata": {},
          "execution_count": 28
        }
      ]
    },
    {
      "cell_type": "markdown",
      "source": [
        "#### 2.4.1. Cheap items"
      ],
      "metadata": {
        "id": "KiFF201CFLrB"
      }
    },
    {
      "cell_type": "code",
      "source": [
        "lower_threshold = 0\n",
        "cheap_products = data.loc[data['price'] <= lower_threshold, 'item_id'].unique().tolist()\n",
        "len(cheap_products)"
      ],
      "metadata": {
        "colab": {
          "base_uri": "https://localhost:8080/"
        },
        "id": "XvXrMLCDFGpI",
        "outputId": "47655d70-818f-4bd4-910f-3a3abf41d5c4"
      },
      "execution_count": 29,
      "outputs": [
        {
          "output_type": "execute_result",
          "data": {
            "text/plain": [
              "734"
            ]
          },
          "metadata": {},
          "execution_count": 29
        }
      ]
    },
    {
      "cell_type": "markdown",
      "source": [
        "#### 2.4.2. Expensive items"
      ],
      "metadata": {
        "id": "nOcioewsFVki"
      }
    },
    {
      "cell_type": "code",
      "source": [
        "upper_threshold = 50\n",
        "expensive_products = data.loc[data['price'] > upper_threshold, 'item_id'].unique().tolist()\n",
        "len(expensive_products)"
      ],
      "metadata": {
        "colab": {
          "base_uri": "https://localhost:8080/"
        },
        "id": "LcBOd0klFfvc",
        "outputId": "147c125c-e30b-48a1-8a6a-bca61320417f"
      },
      "execution_count": 30,
      "outputs": [
        {
          "output_type": "execute_result",
          "data": {
            "text/plain": [
              "56"
            ]
          },
          "metadata": {},
          "execution_count": 30
        }
      ]
    },
    {
      "cell_type": "markdown",
      "source": [
        "### 2.5. User reviews"
      ],
      "metadata": {
        "id": "LB3cXsysGb90"
      }
    },
    {
      "cell_type": "markdown",
      "source": [
        "#### 2.5.1. Ratings"
      ],
      "metadata": {
        "id": "4hgmSNlF_Ju-"
      }
    },
    {
      "cell_type": "code",
      "source": [
        "plt.figure(figsize=(10, 4))\n",
        "plt.title('Ratings distribution')\n",
        "plt.xlabel('rating')\n",
        "plt.ylabel('number of items')\n",
        "plt.hist(data['rating'].values, bins=20);"
      ],
      "metadata": {
        "colab": {
          "base_uri": "https://localhost:8080/",
          "height": 295
        },
        "id": "IB85aSNm_U-3",
        "outputId": "6bf448c8-bbac-47b2-df25-5d306dba582a"
      },
      "execution_count": 31,
      "outputs": [
        {
          "output_type": "display_data",
          "data": {
            "text/plain": [
              "<Figure size 720x288 with 1 Axes>"
            ],
            "image/png": "[encoded data removed]"
          },
          "metadata": {
            "needs_background": "light"
          }
        }
      ]
    },
    {
      "cell_type": "code",
      "source": [
        "data['rating'].value_counts(normalize=True)"
      ],
      "metadata": {
        "colab": {
          "base_uri": "https://localhost:8080/"
        },
        "id": "z0eHBlF1ALf4",
        "outputId": "18d6a670-7376-4f14-d39a-6da0c6aff047"
      },
      "execution_count": 32,
      "outputs": [
        {
          "output_type": "execute_result",
          "data": {
            "text/plain": [
              "5.0    0.758160\n",
              "4.0    0.123433\n",
              "3.0    0.057492\n",
              "1.0    0.033689\n",
              "2.0    0.027227\n",
              "Name: rating, dtype: float64"
            ]
          },
          "metadata": {},
          "execution_count": 32
        }
      ]
    },
    {
      "cell_type": "markdown",
      "source": [
        "#### 2.5.2. Length of user reviews"
      ],
      "metadata": {
        "id": "A1a-Od6AHCjv"
      }
    },
    {
      "cell_type": "code",
      "source": [
        "plt.figure(figsize=(10, 4))\n",
        "plt.title('Length of user reviews')\n",
        "plt.xlabel('len_text')\n",
        "plt.ylabel('number of items')\n",
        "plt.hist(data['len_text'].values, bins=50);"
      ],
      "metadata": {
        "colab": {
          "base_uri": "https://localhost:8080/",
          "height": 296
        },
        "id": "J_l1lg7EGfZ9",
        "outputId": "8d7dfef6-5470-4fed-a581-eb99a00ffbba"
      },
      "execution_count": 33,
      "outputs": [
        {
          "output_type": "display_data",
          "data": {
            "text/plain": [
              "<Figure size 720x288 with 1 Axes>"
            ],
            "image/png": "[encoded data removed]"
          },
          "metadata": {
            "needs_background": "light"
          }
        }
      ]
    },
    {
      "cell_type": "code",
      "source": [
        "data['len_text'].describe()"
      ],
      "metadata": {
        "colab": {
          "base_uri": "https://localhost:8080/"
        },
        "id": "KjijM6E_Grxp",
        "outputId": "8309003c-4078-459a-8c2c-c48df5b95af6"
      },
      "execution_count": 34,
      "outputs": [
        {
          "output_type": "execute_result",
          "data": {
            "text/plain": [
              "count    18107.000000\n",
              "mean       218.207710\n",
              "std        477.208877\n",
              "min          1.000000\n",
              "25%         28.500000\n",
              "50%         82.000000\n",
              "75%        228.000000\n",
              "max       7073.000000\n",
              "Name: len_text, dtype: float64"
            ]
          },
          "metadata": {},
          "execution_count": 34
        }
      ]
    },
    {
      "cell_type": "code",
      "source": [
        "(data['len_text'] == 1).sum()"
      ],
      "metadata": {
        "colab": {
          "base_uri": "https://localhost:8080/"
        },
        "id": "AgJnL_jIGylx",
        "outputId": "48a3c403-a6c7-421f-c019-cb19b1d9f002"
      },
      "execution_count": 35,
      "outputs": [
        {
          "output_type": "execute_result",
          "data": {
            "text/plain": [
              "3"
            ]
          },
          "metadata": {},
          "execution_count": 35
        }
      ]
    },
    {
      "cell_type": "markdown",
      "source": [
        "### 2.6. Items matadata"
      ],
      "metadata": {
        "id": "0tz5MKkpRRgD"
      }
    },
    {
      "cell_type": "markdown",
      "source": [
        "#### 2.6.1. Feature 'also_view'"
      ],
      "metadata": {
        "id": "U6e2FXehPfuX"
      }
    },
    {
      "cell_type": "code",
      "source": [
        "plt.figure(figsize=(10, 4))\n",
        "plt.title(\"Distribution of the number of items in feature 'also_view'\")\n",
        "plt.xlabel('len_also_view')\n",
        "plt.ylabel('number of items')\n",
        "plt.hist(items['len_also_view'].values, bins=20);"
      ],
      "metadata": {
        "colab": {
          "base_uri": "https://localhost:8080/",
          "height": 296
        },
        "id": "vqeIA9SG7241",
        "outputId": "e9896d6f-09a0-4463-8842-e0c86471d374"
      },
      "execution_count": 36,
      "outputs": [
        {
          "output_type": "display_data",
          "data": {
            "text/plain": [
              "<Figure size 720x288 with 1 Axes>"
            ],
            "image/png": "[encoded data removed]"
          },
          "metadata": {
            "needs_background": "light"
          }
        }
      ]
    },
    {
      "cell_type": "code",
      "source": [
        "items['len_also_view'].describe()"
      ],
      "metadata": {
        "colab": {
          "base_uri": "https://localhost:8080/"
        },
        "id": "cJGf57p18MfZ",
        "outputId": "09aacbb5-c201-4149-e0bb-4fa6a5f4a721"
      },
      "execution_count": 37,
      "outputs": [
        {
          "output_type": "execute_result",
          "data": {
            "text/plain": [
              "count    2529.000000\n",
              "mean        0.919731\n",
              "std         1.570685\n",
              "min         0.000000\n",
              "25%         0.000000\n",
              "50%         0.000000\n",
              "75%         1.000000\n",
              "max        10.000000\n",
              "Name: len_also_view, dtype: float64"
            ]
          },
          "metadata": {},
          "execution_count": 37
        }
      ]
    },
    {
      "cell_type": "code",
      "source": [
        "items.loc[items['len_also_view'] == 0, 'item_id'].nunique()"
      ],
      "metadata": {
        "colab": {
          "base_uri": "https://localhost:8080/"
        },
        "id": "Pa2UM_w77_eW",
        "outputId": "d5b8e561-e693-4096-f5da-46ce60e951d2"
      },
      "execution_count": 38,
      "outputs": [
        {
          "output_type": "execute_result",
          "data": {
            "text/plain": [
              "1546"
            ]
          },
          "metadata": {},
          "execution_count": 38
        }
      ]
    },
    {
      "cell_type": "markdown",
      "source": [
        "#### 2.6.2. Feature  'also_buy'"
      ],
      "metadata": {
        "id": "bb1-2IJdc5ps"
      }
    },
    {
      "cell_type": "code",
      "source": [
        "plt.figure(figsize=(10, 4))\n",
        "plt.title(\"Distribution of the number of items of feature 'also_buy'\")\n",
        "plt.xlabel('len_also_buy')\n",
        "plt.ylabel('number of items')\n",
        "plt.hist(items['len_also_buy'].values, bins=15);"
      ],
      "metadata": {
        "colab": {
          "base_uri": "https://localhost:8080/",
          "height": 296
        },
        "id": "WLdSu6p065EM",
        "outputId": "54b1ddbd-27b3-4e0f-fd25-dbb8b993f6f4"
      },
      "execution_count": 39,
      "outputs": [
        {
          "output_type": "display_data",
          "data": {
            "text/plain": [
              "<Figure size 720x288 with 1 Axes>"
            ],
            "image/png": "[encoded data removed]"
          },
          "metadata": {
            "needs_background": "light"
          }
        }
      ]
    },
    {
      "cell_type": "code",
      "source": [
        "items['len_also_buy'].describe()"
      ],
      "metadata": {
        "colab": {
          "base_uri": "https://localhost:8080/"
        },
        "id": "Nmk2QVTu8c-O",
        "outputId": "f90d3680-e287-434e-cc7a-b84de1209012"
      },
      "execution_count": 40,
      "outputs": [
        {
          "output_type": "execute_result",
          "data": {
            "text/plain": [
              "count    2529.000000\n",
              "mean        3.245552\n",
              "std         3.179401\n",
              "min         0.000000\n",
              "25%         1.000000\n",
              "50%         2.000000\n",
              "75%         5.000000\n",
              "max        18.000000\n",
              "Name: len_also_buy, dtype: float64"
            ]
          },
          "metadata": {},
          "execution_count": 40
        }
      ]
    },
    {
      "cell_type": "code",
      "source": [
        "items.loc[items['len_also_buy'] == 0, 'item_id'].nunique()"
      ],
      "metadata": {
        "colab": {
          "base_uri": "https://localhost:8080/"
        },
        "id": "S2N_p94b7YSM",
        "outputId": "a030c1ef-77a2-4499-a7be-a569b19f27de"
      },
      "execution_count": 41,
      "outputs": [
        {
          "output_type": "execute_result",
          "data": {
            "text/plain": [
              "591"
            ]
          },
          "metadata": {},
          "execution_count": 41
        }
      ]
    },
    {
      "cell_type": "markdown",
      "source": [
        "#### 2.6.3. Categories"
      ],
      "metadata": {
        "id": "HK7Z9fCluRX9"
      }
    },
    {
      "cell_type": "code",
      "source": [
        "feature = 'main_cat'\n",
        "print(f\"The number of unique categories: {items[feature].nunique()}\\n\")\n",
        "items[feature].value_counts()"
      ],
      "metadata": {
        "colab": {
          "base_uri": "https://localhost:8080/"
        },
        "id": "UU_Nq2Gl_WCE",
        "outputId": "8bdacdc5-0e75-4631-997e-e98aee21639a"
      },
      "execution_count": 42,
      "outputs": [
        {
          "output_type": "stream",
          "name": "stdout",
          "text": [
            "The number of unique categories: 8\n",
            "\n"
          ]
        },
        {
          "output_type": "execute_result",
          "data": {
            "text/plain": [
              "Grocery                    2400\n",
              "Health & Personal Care       89\n",
              "Amazon Home                  22\n",
              "Sports & Outdoors             5\n",
              "Industrial & Scientific       3\n",
              "All Beauty                    3\n",
              "Office Products               2\n",
              "                              1\n",
              "Name: main_cat, dtype: int64"
            ]
          },
          "metadata": {},
          "execution_count": 42
        }
      ]
    },
    {
      "cell_type": "code",
      "source": [
        "feature = 'category_1'\n",
        "print(f\"The number of unique categories: {items[feature].nunique()}\\n\")\n",
        "items[feature].value_counts()"
      ],
      "metadata": {
        "colab": {
          "base_uri": "https://localhost:8080/"
        },
        "id": "lrjZoXV5_pQ2",
        "outputId": "3976810d-4e82-4ba4-acd1-8d2004a50473"
      },
      "execution_count": 43,
      "outputs": [
        {
          "output_type": "stream",
          "name": "stdout",
          "text": [
            "The number of unique categories: 24\n",
            "\n"
          ]
        },
        {
          "output_type": "execute_result",
          "data": {
            "text/plain": [
              "Beverages                             731\n",
              "Cooking & Baking                      391\n",
              "Candy & Chocolate                     334\n",
              "Snack Foods                           316\n",
              "Breakfast Foods                       132\n",
              "Herbs, Spices & Seasonings            112\n",
              "Canned, Jarred & Packaged Foods        90\n",
              "Soups, Stocks & Broths                 78\n",
              "Jams, Jellies & Sweet Spreads          53\n",
              "Sauces, Gravies & Marinades            43\n",
              "Produce                                37\n",
              "Dairy, Cheese & Eggs                   32\n",
              "Pasta & Noodles                        29\n",
              "Breads & Bakery                        28\n",
              "Dried Beans, Grains & Rice             27\n",
              "Condiments & Salad Dressings           26\n",
              "Food & Beverage Gifts                  19\n",
              "Olives, Pickles & Relishes             17\n",
              "Meat & Seafood                         16\n",
              "Frozen                                 10\n",
              "Meat Substitutes                        3\n",
              "Fresh Flowers & Live Indoor Plants      3\n",
              "Deli                                    1\n",
              "Prepared Foods                          1\n",
              "Name: category_1, dtype: int64"
            ]
          },
          "metadata": {},
          "execution_count": 43
        }
      ]
    },
    {
      "cell_type": "code",
      "source": [
        "feature = 'category_2'\n",
        "print(f\"The number of unique categories: {items[feature].nunique()}\\n\")\n",
        "items[feature].value_counts()"
      ],
      "metadata": {
        "colab": {
          "base_uri": "https://localhost:8080/"
        },
        "id": "RxiAzVMnPmD0",
        "outputId": "99845773-9740-479e-e417-c3d404545edd"
      },
      "execution_count": 44,
      "outputs": [
        {
          "output_type": "stream",
          "name": "stdout",
          "text": [
            "The number of unique categories: 145\n",
            "\n"
          ]
        },
        {
          "output_type": "execute_result",
          "data": {
            "text/plain": [
              "Coffee, Tea & Cocoa                       539\n",
              "Bottled Beverages, Water & Drink Mixes    189\n",
              "Nuts & Seeds                               89\n",
              "Cereals                                    75\n",
              "Jelly Beans & Gummy Candy                  74\n",
              "                                         ... \n",
              "Marmalades                                  1\n",
              "Ice Cream Cones & Toppings                  1\n",
              "Fruit                                       1\n",
              "Lentils                                     1\n",
              "Snack Gifts                                 1\n",
              "Name: category_2, Length: 145, dtype: int64"
            ]
          },
          "metadata": {},
          "execution_count": 44
        }
      ]
    },
    {
      "cell_type": "code",
      "source": [
        "feature = 'category_3'\n",
        "print(f\"The number of unique categories: {items[feature].nunique()}\\n\")\n",
        "items[feature].value_counts()"
      ],
      "metadata": {
        "colab": {
          "base_uri": "https://localhost:8080/"
        },
        "id": "_F4RHKRM_1yC",
        "outputId": "94a607d9-dafe-40c4-e945-fc885a2bbb6b"
      },
      "execution_count": 45,
      "outputs": [
        {
          "output_type": "stream",
          "name": "stdout",
          "text": [
            "The number of unique categories: 265\n",
            "\n"
          ]
        },
        {
          "output_type": "execute_result",
          "data": {
            "text/plain": [
              "Coffee           270\n",
              "Tea              247\n",
              "Juices            46\n",
              "Hard Candy        41\n",
              "Oils              40\n",
              "                ... \n",
              "Parmesan           1\n",
              "Sweet Pickles      1\n",
              "Wheat Berries      1\n",
              "Curry Powder       1\n",
              "Breakfast          1\n",
              "Name: category_3, Length: 265, dtype: int64"
            ]
          },
          "metadata": {},
          "execution_count": 45
        }
      ]
    },
    {
      "cell_type": "markdown",
      "source": [
        "#### 2.6.4. Brand"
      ],
      "metadata": {
        "id": "_yPUpv6UvTQO"
      }
    },
    {
      "cell_type": "code",
      "source": [
        "feature = 'brand'\n",
        "print(f\"The number of unique brands: {items[feature].nunique()}\\n\")\n",
        "items[feature].value_counts()"
      ],
      "metadata": {
        "colab": {
          "base_uri": "https://localhost:8080/"
        },
        "id": "K5qyT0uxdhMs",
        "outputId": "7efcb05a-26a1-4c6e-c8d4-a7d605b49214"
      },
      "execution_count": 46,
      "outputs": [
        {
          "output_type": "stream",
          "name": "stdout",
          "text": [
            "The number of unique brands: 1273\n",
            "\n"
          ]
        },
        {
          "output_type": "execute_result",
          "data": {
            "text/plain": [
              "Bob's Red Mill                    49\n",
              "Campbell's                        26\n",
              "Stash Tea                         25\n",
              "McCormick                         23\n",
              "Green Mountain Coffee Roasters    20\n",
              "                                  ..\n",
              "Amy & Brian                        1\n",
              "Reily Foods                        1\n",
              "Volcanica Coffee                   1\n",
              "Duchy Originals                    1\n",
              "Wild Soil                          1\n",
              "Name: brand, Length: 1273, dtype: int64"
            ]
          },
          "metadata": {},
          "execution_count": 46
        }
      ]
    },
    {
      "cell_type": "markdown",
      "source": [
        "#### 2.6.5. Ranking group"
      ],
      "metadata": {
        "id": "zS_lyje709WR"
      }
    },
    {
      "cell_type": "code",
      "source": [
        "feature = 'rank_group'\n",
        "print(f\"The number of unique ranking groups: {items[feature].nunique()}\\n\")\n",
        "items[feature].value_counts()"
      ],
      "metadata": {
        "colab": {
          "base_uri": "https://localhost:8080/"
        },
        "id": "IRURfc4WAdWh",
        "outputId": "853dbaf3-3fce-4baa-d198-b4f605a6c6f2"
      },
      "execution_count": 47,
      "outputs": [
        {
          "output_type": "stream",
          "name": "stdout",
          "text": [
            "The number of unique ranking groups: 11\n",
            "\n"
          ]
        },
        {
          "output_type": "execute_result",
          "data": {
            "text/plain": [
              "Grocery & Gourmet Food                                        2283\n",
              "                                                               122\n",
              "Health & Household                                              88\n",
              "Kitchen & Dining (See Top 100 in Kitchen & Dining)              14\n",
              "Sports & Outdoors                                               12\n",
              "Beauty & Personal Care                                           3\n",
              "Office Products                                                  2\n",
              "Patio, Lawn & Garden (See Top 100 in Patio, Lawn & Garden)       2\n",
              "Tools & Home Improvement                                         1\n",
              "Iced Tea                                                         1\n",
              "Industrial & Scientific                                          1\n",
              "Name: rank_group, dtype: int64"
            ]
          },
          "metadata": {},
          "execution_count": 47
        }
      ]
    },
    {
      "cell_type": "markdown",
      "source": [
        "#### 2.6.6. Item ranks"
      ],
      "metadata": {
        "id": "be5m29EU6c5b"
      }
    },
    {
      "cell_type": "code",
      "source": [
        "plt.figure(figsize=(10, 4))\n",
        "plt.title('Rank distribution')\n",
        "plt.xlabel('rank')\n",
        "plt.ylabel('number of items')\n",
        "plt.hist(items['rank'].values, bins=50);"
      ],
      "metadata": {
        "colab": {
          "base_uri": "https://localhost:8080/",
          "height": 295
        },
        "id": "vVoQey836J8-",
        "outputId": "39db024b-3427-4f97-8dd5-efa2b0b7b734"
      },
      "execution_count": 48,
      "outputs": [
        {
          "output_type": "display_data",
          "data": {
            "text/plain": [
              "<Figure size 720x288 with 1 Axes>"
            ],
            "image/png": "[encoded data removed]"
          },
          "metadata": {
            "needs_background": "light"
          }
        }
      ]
    },
    {
      "cell_type": "code",
      "source": [
        "items['rank'].describe()"
      ],
      "metadata": {
        "colab": {
          "base_uri": "https://localhost:8080/"
        },
        "id": "iTT0QIWsDfFM",
        "outputId": "005863e6-4494-45c7-b909-628579de617a"
      },
      "execution_count": 49,
      "outputs": [
        {
          "output_type": "execute_result",
          "data": {
            "text/plain": [
              "count    2.529000e+03\n",
              "mean     1.018681e+05\n",
              "std      1.492155e+05\n",
              "min      0.000000e+00\n",
              "25%      9.778000e+03\n",
              "50%      4.214700e+04\n",
              "75%      1.356470e+05\n",
              "max      1.559523e+06\n",
              "Name: rank, dtype: float64"
            ]
          },
          "metadata": {},
          "execution_count": 49
        }
      ]
    },
    {
      "cell_type": "code",
      "source": [
        "(items['rank'] == 0).sum()"
      ],
      "metadata": {
        "colab": {
          "base_uri": "https://localhost:8080/"
        },
        "id": "ax2eFI8tRTUW",
        "outputId": "1c409ccf-cb8e-4e40-de2a-23622e1e7949"
      },
      "execution_count": 50,
      "outputs": [
        {
          "output_type": "execute_result",
          "data": {
            "text/plain": [
              "122"
            ]
          },
          "metadata": {},
          "execution_count": 50
        }
      ]
    },
    {
      "cell_type": "markdown",
      "source": [
        "## 3. Findings"
      ],
      "metadata": {
        "id": "v7TcQYuLznpM"
      }
    },
    {
      "cell_type": "markdown",
      "source": [
        "1. Top popular items share less than 6.5% of unique users\n",
        "2. There are 1157 top unpopular items with share of unique users of less than 0.06%\n",
        "3. 125 items represet unpopular categories.\n",
        "4. Mean price is 12. There are 734 items with no price information. Price of 56 items is higher than 50\n",
        "5. More than 75% of ratings is 5 and only 6% is 1 or 2.\n",
        "6. Mean length of user reviews is 82 characters, upper quartile starts from 228.\n",
        "7. 1546 of items have no informmation about items also viewed. Upper quartile starts from 1 item with the maximum of 10.\n",
        "8. 591 of items have no informmation about items also bought. Upper quartile starts from 5 item with the maximum of 18.\n",
        "9. There are 8 main categories. Most of the items are in Grocery.\n",
        "10. There are 24 sub-categories. Top sub-category is Beverages followed by Cooking & Baking, Candy & Chocolate, Snack Foods.\n",
        "11. Top sub-caregory of the 2nd level (out of 145) is Coffee, Tea & Cocoa, \n",
        "12. Top sub-caregory of the 3d level (out of 265) is Coffee followeed by Tea.\n",
        "13. The number of unique brands is 1273. The brand with the highest number of items is Bob's Red Mill.\n",
        "14. There are 11 ranking groups, but most of the items belongs to Grocery & Gourmet Food \n",
        "15. 122 of items have no rank. Mean rank is 42147."
      ],
      "metadata": {
        "id": "s7Cu4SBKzwfJ"
      }
    }
  ]
}