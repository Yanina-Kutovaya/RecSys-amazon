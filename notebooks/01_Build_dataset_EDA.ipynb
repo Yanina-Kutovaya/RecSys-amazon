{
  "nbformat": 4,
  "nbformat_minor": 0,
  "metadata": {
    "colab": {
      "provenance": [],
      "toc_visible": true,
      "authorship_tag": "ABX9TyOIOq0F2OhDYrUEfzFzF507",
      "include_colab_link": true
    },
    "kernelspec": {
      "name": "python3",
      "display_name": "Python 3"
    },
    "language_info": {
      "name": "python"
    },
    "gpuClass": "standard"
  },
  "cells": [
    {
      "cell_type": "markdown",
      "metadata": {
        "id": "view-in-github",
        "colab_type": "text"
      },
      "source": [
        "<a href=\"https://colab.research.google.com/github/Yanina-Kutovaya/RecSys-amazon/blob/main/notebooks/01_Build_dataset_EDA.ipynb\" target=\"_parent\"><img src=\"https://colab.research.google.com/assets/colab-badge.svg\" alt=\"Open In Colab\"/></a>"
      ]
    },
    {
      "cell_type": "markdown",
      "source": [
        "# Recommender system Amazon - Grocery and Gourmet Food\n",
        "\n",
        "## Build dataset, EDA\n",
        "\n",
        "[Data source](https://nijianmo.github.io/amazon/index.html)"
      ],
      "metadata": {
        "id": "gSwJ5U324j1A"
      }
    },
    {
      "cell_type": "code",
      "source": [
        "!git clone -q https://github.com/Yanina-Kutovaya/RecSys-amazon.git"
      ],
      "metadata": {
        "id": "maOOnX3xsL4a"
      },
      "execution_count": 1,
      "outputs": []
    },
    {
      "cell_type": "code",
      "source": [
        "from google.colab import drive\n",
        "drive.mount('/content/drive')"
      ],
      "metadata": {
        "colab": {
          "base_uri": "https://localhost:8080/"
        },
        "id": "3Jb2wigrsPBT",
        "outputId": "0378684e-697e-4e36-e2e6-0526542d7080"
      },
      "execution_count": 2,
      "outputs": [
        {
          "output_type": "stream",
          "name": "stdout",
          "text": [
            "Drive already mounted at /content/drive; to attempt to forcibly remount, call drive.mount(\"/content/drive\", force_remount=True).\n"
          ]
        }
      ]
    },
    {
      "cell_type": "code",
      "source": [
        "!wget -q -P /content/RecSys-amazon/data/01_raw https://jmcauley.ucsd.edu/data/amazon_v2/categoryFilesSmall/Grocery_and_Gourmet_Food.csv --no-check-certificate\n",
        "!wget -q -P /content/RecSys-amazon/data/01_raw https://jmcauley.ucsd.edu/data/amazon_v2/categoryFilesSmall/Grocery_and_Gourmet_Food_5.json.gz --no-check-certificate\n",
        "!cp /content/drive/MyDrive/OTUS_ML_advanced/06_RecSys/amazon/meta_Grocery_and_Gourmet_Food.json.gz /content/RecSys-amazon/data/01_raw/"
      ],
      "metadata": {
        "id": "5FO4FkDFsW0O"
      },
      "execution_count": 3,
      "outputs": []
    },
    {
      "cell_type": "code",
      "source": [
        "%cd RecSys-amazon"
      ],
      "metadata": {
        "colab": {
          "base_uri": "https://localhost:8080/"
        },
        "id": "Ha_MUOYYvvF2",
        "outputId": "bdbccfce-f36b-4ea7-ec2a-6b617e996677"
      },
      "execution_count": 4,
      "outputs": [
        {
          "output_type": "stream",
          "name": "stdout",
          "text": [
            "/content/RecSys-amazon\n"
          ]
        }
      ]
    },
    {
      "cell_type": "code",
      "source": [
        "import sys\n",
        "import os\n",
        "\n",
        "sys.path.append(os.getcwd())\n",
        "sys.path.append(os.path.join(os.getcwd(), \"src\", \"recsys_amazon\"))"
      ],
      "metadata": {
        "id": "Ai_gNYCc9mPM"
      },
      "execution_count": 5,
      "outputs": []
    },
    {
      "cell_type": "code",
      "source": [
        "import pandas as pd\n",
        "import gzip\n",
        "import re\n",
        "import json\n",
        "import matplotlib.pyplot as plt\n",
        "\n",
        "from data.make_dataset import ( \n",
        "    load_ratings,    \n",
        "    select_users_item_pairs,     \n",
        ")\n",
        "from data.train_validation_split import time_split\n",
        "from data.item_data import get_items_matadata \n",
        "from data.user_data import get_user_reviews"
      ],
      "metadata": {
        "id": "g2_X9xsbsoa-"
      },
      "execution_count": 6,
      "outputs": []
    },
    {
      "cell_type": "code",
      "source": [
        "import warnings\n",
        "warnings.filterwarnings('ignore')"
      ],
      "metadata": {
        "id": "G94Mwpggsk6u"
      },
      "execution_count": 7,
      "outputs": []
    },
    {
      "cell_type": "code",
      "source": [
        "PATH = \"data/01_raw/\"\n",
        "DATA_PATH = PATH + \"Grocery_and_Gourmet_Food.csv\"\n",
        "ITEM_FEATURES_PATH = PATH + \"meta_Grocery_and_Gourmet_Food.json.gz\"\n",
        "USER_FEATURES_PATH = PATH + \"Grocery_and_Gourmet_Food_5.json.gz\""
      ],
      "metadata": {
        "id": "oxHU-9494lep"
      },
      "execution_count": 8,
      "outputs": []
    },
    {
      "cell_type": "markdown",
      "source": [
        "## 1. Build dataset"
      ],
      "metadata": {
        "id": "VkVaK4vJH6fm"
      }
    },
    {
      "cell_type": "markdown",
      "source": [
        "### 1.1. Ratings data"
      ],
      "metadata": {
        "id": "DybSNcdwtosE"
      }
    },
    {
      "cell_type": "code",
      "source": [
        "data = load_ratings(DATA_PATH)\n",
        "\n",
        "print(f'ratings.shape = {data.shape}\\n')\n",
        "data.head(2)"
      ],
      "metadata": {
        "colab": {
          "base_uri": "https://localhost:8080/",
          "height": 148
        },
        "id": "GBS_7wJg3Qyb",
        "outputId": "1f92f61b-3a9b-4a55-e189-46af871a5635"
      },
      "execution_count": 9,
      "outputs": [
        {
          "output_type": "stream",
          "name": "stdout",
          "text": [
            "ratings.shape = (5074160, 4)\n",
            "\n"
          ]
        },
        {
          "output_type": "execute_result",
          "data": {
            "text/plain": [
              "      item_id         user_id  rating   timestamp\n",
              "0  1888861614   ALP49FBWT4I7V     5.0  1370304000\n",
              "1  1888861614  A1KPIZOCLB9FZ8     4.0  1400803200"
            ],
            "text/html": [
              "\n",
              "  <div id=\"df-491c7ccf-cf73-43bc-976a-a94d3ec00f7b\">\n",
              "    <div class=\"colab-df-container\">\n",
              "      <div>\n",
              "<style scoped>\n",
              "    .dataframe tbody tr th:only-of-type {\n",
              "        vertical-align: middle;\n",
              "    }\n",
              "\n",
              "    .dataframe tbody tr th {\n",
              "        vertical-align: top;\n",
              "    }\n",
              "\n",
              "    .dataframe thead th {\n",
              "        text-align: right;\n",
              "    }\n",
              "</style>\n",
              "<table border=\"1\" class=\"dataframe\">\n",
              "  <thead>\n",
              "    <tr style=\"text-align: right;\">\n",
              "      <th></th>\n",
              "      <th>item_id</th>\n",
              "      <th>user_id</th>\n",
              "      <th>rating</th>\n",
              "      <th>timestamp</th>\n",
              "    </tr>\n",
              "  </thead>\n",
              "  <tbody>\n",
              "    <tr>\n",
              "      <th>0</th>\n",
              "      <td>1888861614</td>\n",
              "      <td>ALP49FBWT4I7V</td>\n",
              "      <td>5.0</td>\n",
              "      <td>1370304000</td>\n",
              "    </tr>\n",
              "    <tr>\n",
              "      <th>1</th>\n",
              "      <td>1888861614</td>\n",
              "      <td>A1KPIZOCLB9FZ8</td>\n",
              "      <td>4.0</td>\n",
              "      <td>1400803200</td>\n",
              "    </tr>\n",
              "  </tbody>\n",
              "</table>\n",
              "</div>\n",
              "      <button class=\"colab-df-convert\" onclick=\"convertToInteractive('df-491c7ccf-cf73-43bc-976a-a94d3ec00f7b')\"\n",
              "              title=\"Convert this dataframe to an interactive table.\"\n",
              "              style=\"display:none;\">\n",
              "        \n",
              "  <svg xmlns=\"http://www.w3.org/2000/svg\" height=\"24px\"viewBox=\"0 0 24 24\"\n",
              "       width=\"24px\">\n",
              "    <path d=\"M0 0h24v24H0V0z\" fill=\"none\"/>\n",
              "    <path d=\"M18.56 5.44l.94 2.06.94-2.06 2.06-.94-2.06-.94-.94-2.06-.94 2.06-2.06.94zm-11 1L8.5 8.5l.94-2.06 2.06-.94-2.06-.94L8.5 2.5l-.94 2.06-2.06.94zm10 10l.94 2.06.94-2.06 2.06-.94-2.06-.94-.94-2.06-.94 2.06-2.06.94z\"/><path d=\"M17.41 7.96l-1.37-1.37c-.4-.4-.92-.59-1.43-.59-.52 0-1.04.2-1.43.59L10.3 9.45l-7.72 7.72c-.78.78-.78 2.05 0 2.83L4 21.41c.39.39.9.59 1.41.59.51 0 1.02-.2 1.41-.59l7.78-7.78 2.81-2.81c.8-.78.8-2.07 0-2.86zM5.41 20L4 18.59l7.72-7.72 1.47 1.35L5.41 20z\"/>\n",
              "  </svg>\n",
              "      </button>\n",
              "      \n",
              "  <style>\n",
              "    .colab-df-container {\n",
              "      display:flex;\n",
              "      flex-wrap:wrap;\n",
              "      gap: 12px;\n",
              "    }\n",
              "\n",
              "    .colab-df-convert {\n",
              "      background-color: #E8F0FE;\n",
              "      border: none;\n",
              "      border-radius: 50%;\n",
              "      cursor: pointer;\n",
              "      display: none;\n",
              "      fill: #1967D2;\n",
              "      height: 32px;\n",
              "      padding: 0 0 0 0;\n",
              "      width: 32px;\n",
              "    }\n",
              "\n",
              "    .colab-df-convert:hover {\n",
              "      background-color: #E2EBFA;\n",
              "      box-shadow: 0px 1px 2px rgba(60, 64, 67, 0.3), 0px 1px 3px 1px rgba(60, 64, 67, 0.15);\n",
              "      fill: #174EA6;\n",
              "    }\n",
              "\n",
              "    [theme=dark] .colab-df-convert {\n",
              "      background-color: #3B4455;\n",
              "      fill: #D2E3FC;\n",
              "    }\n",
              "\n",
              "    [theme=dark] .colab-df-convert:hover {\n",
              "      background-color: #434B5C;\n",
              "      box-shadow: 0px 1px 3px 1px rgba(0, 0, 0, 0.15);\n",
              "      filter: drop-shadow(0px 1px 2px rgba(0, 0, 0, 0.3));\n",
              "      fill: #FFFFFF;\n",
              "    }\n",
              "  </style>\n",
              "\n",
              "      <script>\n",
              "        const buttonEl =\n",
              "          document.querySelector('#df-491c7ccf-cf73-43bc-976a-a94d3ec00f7b button.colab-df-convert');\n",
              "        buttonEl.style.display =\n",
              "          google.colab.kernel.accessAllowed ? 'block' : 'none';\n",
              "\n",
              "        async function convertToInteractive(key) {\n",
              "          const element = document.querySelector('#df-491c7ccf-cf73-43bc-976a-a94d3ec00f7b');\n",
              "          const dataTable =\n",
              "            await google.colab.kernel.invokeFunction('convertToInteractive',\n",
              "                                                     [key], {});\n",
              "          if (!dataTable) return;\n",
              "\n",
              "          const docLinkHtml = 'Like what you see? Visit the ' +\n",
              "            '<a target=\"_blank\" href=https://colab.research.google.com/notebooks/data_table.ipynb>data table notebook</a>'\n",
              "            + ' to learn more about interactive tables.';\n",
              "          element.innerHTML = '';\n",
              "          dataTable['output_type'] = 'display_data';\n",
              "          await google.colab.output.renderOutput(dataTable, element);\n",
              "          const docLink = document.createElement('div');\n",
              "          docLink.innerHTML = docLinkHtml;\n",
              "          element.appendChild(docLink);\n",
              "        }\n",
              "      </script>\n",
              "    </div>\n",
              "  </div>\n",
              "  "
            ]
          },
          "metadata": {},
          "execution_count": 9
        }
      ]
    },
    {
      "cell_type": "markdown",
      "source": [
        "#### 1.1.1. Collected data time period"
      ],
      "metadata": {
        "id": "TldgT6IM78Al"
      }
    },
    {
      "cell_type": "code",
      "source": [
        "n_years = (\n",
        "    data['timestamp'].max() - data['timestamp'].min()\n",
        ") / 3600 / 24 // 365\n",
        "print(f'Data is collected for {int(n_years)} years')"
      ],
      "metadata": {
        "colab": {
          "base_uri": "https://localhost:8080/"
        },
        "id": "XJGfF4Rh7866",
        "outputId": "de7d9eb7-a822-4833-babb-18858266d990"
      },
      "execution_count": 10,
      "outputs": [
        {
          "output_type": "stream",
          "name": "stdout",
          "text": [
            "Data is collected for 18 years\n"
          ]
        }
      ]
    },
    {
      "cell_type": "markdown",
      "source": [
        "#### 1.1.2. Select users-item pairs\n",
        "\n",
        "Selects users who rated at least 3 items and items rated by at least 2 useres"
      ],
      "metadata": {
        "id": "SMPHiNGM8MLq"
      }
    },
    {
      "cell_type": "code",
      "source": [
        "user_ids, item_ids = select_users_item_pairs(data)\n",
        "len(user_ids), len(item_ids )"
      ],
      "metadata": {
        "colab": {
          "base_uri": "https://localhost:8080/"
        },
        "id": "ZTIZ3u9U8JEW",
        "outputId": "986f28fb-f49b-46e0-f428-4387764990d8"
      },
      "execution_count": 11,
      "outputs": [
        {
          "output_type": "execute_result",
          "data": {
            "text/plain": [
              "(4372, 6632)"
            ]
          },
          "metadata": {},
          "execution_count": 11
        }
      ]
    },
    {
      "cell_type": "markdown",
      "source": [
        "### 1.2. Train-validation-test time split for two-stage recommender system."
      ],
      "metadata": {
        "id": "H6coEdnX9A3r"
      }
    },
    {
      "cell_type": "markdown",
      "source": [
        "    Train - validation - test schema:\n",
        "    -- 5 years -- | -- 2 years -- | -- 1 year --\n",
        "\n",
        "    For the 1st level model we use 5-years data for train and 2-years data for validation.\n",
        "    For the 2nd level mmodel we use 2-years data for train and 1-year - for validation.\n",
        "    Validation data for the 1st levl model serves as train data for the 2nd level model."
      ],
      "metadata": {
        "id": "gsqsRAfn8ydn"
      }
    },
    {
      "cell_type": "code",
      "source": [
        "year = 365 * 24 * 3600\n",
        "t2 = data[\"timestamp\"].max() - year\n",
        "t1 = t2 - 2 * year\n",
        "t0 = t1 - 5 * year\n",
        "\n",
        "(\n",
        "    selected_users,\n",
        "    selected_items,\n",
        "    data_train_lvl_1,\n",
        "    data_val_lvl_1,\n",
        "    data_val_lvl_2,\n",
        ") = time_split(t0, t1, t2, user_ids, item_ids, data)"
      ],
      "metadata": {
        "id": "rebZ3wMf8qpd"
      },
      "execution_count": 12,
      "outputs": []
    },
    {
      "cell_type": "code",
      "source": [
        "len(selected_users), len(selected_items)"
      ],
      "metadata": {
        "colab": {
          "base_uri": "https://localhost:8080/"
        },
        "id": "sYZlqvmQGrF0",
        "outputId": "6e5de714-cf41-4dcf-dba3-65eca11734fe"
      },
      "execution_count": 13,
      "outputs": [
        {
          "output_type": "execute_result",
          "data": {
            "text/plain": [
              "(2047, 2533)"
            ]
          },
          "metadata": {},
          "execution_count": 13
        }
      ]
    },
    {
      "cell_type": "code",
      "source": [
        "print(f'ratings.shape = {data_train_lvl_1.shape}\\n')\n",
        "data_train_lvl_1.head(2)"
      ],
      "metadata": {
        "colab": {
          "base_uri": "https://localhost:8080/",
          "height": 148
        },
        "id": "RVU-8vMN-TYO",
        "outputId": "54eb4f43-6b00-4080-e81f-bb861d4aba5e"
      },
      "execution_count": 14,
      "outputs": [
        {
          "output_type": "stream",
          "name": "stdout",
          "text": [
            "ratings.shape = (8433, 4)\n",
            "\n"
          ]
        },
        {
          "output_type": "execute_result",
          "data": {
            "text/plain": [
              "         item_id        user_id  rating   timestamp\n",
              "1048  B00005BPQ9  A2XCLJRGFANRC     5.0  1425168000\n",
              "1061  B00005BPQ9  AHKXYQ7TP6REK     4.0  1419206400"
            ],
            "text/html": [
              "\n",
              "  <div id=\"df-277fb6b8-a4f9-42c4-a0c1-543f65a80cf0\">\n",
              "    <div class=\"colab-df-container\">\n",
              "      <div>\n",
              "<style scoped>\n",
              "    .dataframe tbody tr th:only-of-type {\n",
              "        vertical-align: middle;\n",
              "    }\n",
              "\n",
              "    .dataframe tbody tr th {\n",
              "        vertical-align: top;\n",
              "    }\n",
              "\n",
              "    .dataframe thead th {\n",
              "        text-align: right;\n",
              "    }\n",
              "</style>\n",
              "<table border=\"1\" class=\"dataframe\">\n",
              "  <thead>\n",
              "    <tr style=\"text-align: right;\">\n",
              "      <th></th>\n",
              "      <th>item_id</th>\n",
              "      <th>user_id</th>\n",
              "      <th>rating</th>\n",
              "      <th>timestamp</th>\n",
              "    </tr>\n",
              "  </thead>\n",
              "  <tbody>\n",
              "    <tr>\n",
              "      <th>1048</th>\n",
              "      <td>B00005BPQ9</td>\n",
              "      <td>A2XCLJRGFANRC</td>\n",
              "      <td>5.0</td>\n",
              "      <td>1425168000</td>\n",
              "    </tr>\n",
              "    <tr>\n",
              "      <th>1061</th>\n",
              "      <td>B00005BPQ9</td>\n",
              "      <td>AHKXYQ7TP6REK</td>\n",
              "      <td>4.0</td>\n",
              "      <td>1419206400</td>\n",
              "    </tr>\n",
              "  </tbody>\n",
              "</table>\n",
              "</div>\n",
              "      <button class=\"colab-df-convert\" onclick=\"convertToInteractive('df-277fb6b8-a4f9-42c4-a0c1-543f65a80cf0')\"\n",
              "              title=\"Convert this dataframe to an interactive table.\"\n",
              "              style=\"display:none;\">\n",
              "        \n",
              "  <svg xmlns=\"http://www.w3.org/2000/svg\" height=\"24px\"viewBox=\"0 0 24 24\"\n",
              "       width=\"24px\">\n",
              "    <path d=\"M0 0h24v24H0V0z\" fill=\"none\"/>\n",
              "    <path d=\"M18.56 5.44l.94 2.06.94-2.06 2.06-.94-2.06-.94-.94-2.06-.94 2.06-2.06.94zm-11 1L8.5 8.5l.94-2.06 2.06-.94-2.06-.94L8.5 2.5l-.94 2.06-2.06.94zm10 10l.94 2.06.94-2.06 2.06-.94-2.06-.94-.94-2.06-.94 2.06-2.06.94z\"/><path d=\"M17.41 7.96l-1.37-1.37c-.4-.4-.92-.59-1.43-.59-.52 0-1.04.2-1.43.59L10.3 9.45l-7.72 7.72c-.78.78-.78 2.05 0 2.83L4 21.41c.39.39.9.59 1.41.59.51 0 1.02-.2 1.41-.59l7.78-7.78 2.81-2.81c.8-.78.8-2.07 0-2.86zM5.41 20L4 18.59l7.72-7.72 1.47 1.35L5.41 20z\"/>\n",
              "  </svg>\n",
              "      </button>\n",
              "      \n",
              "  <style>\n",
              "    .colab-df-container {\n",
              "      display:flex;\n",
              "      flex-wrap:wrap;\n",
              "      gap: 12px;\n",
              "    }\n",
              "\n",
              "    .colab-df-convert {\n",
              "      background-color: #E8F0FE;\n",
              "      border: none;\n",
              "      border-radius: 50%;\n",
              "      cursor: pointer;\n",
              "      display: none;\n",
              "      fill: #1967D2;\n",
              "      height: 32px;\n",
              "      padding: 0 0 0 0;\n",
              "      width: 32px;\n",
              "    }\n",
              "\n",
              "    .colab-df-convert:hover {\n",
              "      background-color: #E2EBFA;\n",
              "      box-shadow: 0px 1px 2px rgba(60, 64, 67, 0.3), 0px 1px 3px 1px rgba(60, 64, 67, 0.15);\n",
              "      fill: #174EA6;\n",
              "    }\n",
              "\n",
              "    [theme=dark] .colab-df-convert {\n",
              "      background-color: #3B4455;\n",
              "      fill: #D2E3FC;\n",
              "    }\n",
              "\n",
              "    [theme=dark] .colab-df-convert:hover {\n",
              "      background-color: #434B5C;\n",
              "      box-shadow: 0px 1px 3px 1px rgba(0, 0, 0, 0.15);\n",
              "      filter: drop-shadow(0px 1px 2px rgba(0, 0, 0, 0.3));\n",
              "      fill: #FFFFFF;\n",
              "    }\n",
              "  </style>\n",
              "\n",
              "      <script>\n",
              "        const buttonEl =\n",
              "          document.querySelector('#df-277fb6b8-a4f9-42c4-a0c1-543f65a80cf0 button.colab-df-convert');\n",
              "        buttonEl.style.display =\n",
              "          google.colab.kernel.accessAllowed ? 'block' : 'none';\n",
              "\n",
              "        async function convertToInteractive(key) {\n",
              "          const element = document.querySelector('#df-277fb6b8-a4f9-42c4-a0c1-543f65a80cf0');\n",
              "          const dataTable =\n",
              "            await google.colab.kernel.invokeFunction('convertToInteractive',\n",
              "                                                     [key], {});\n",
              "          if (!dataTable) return;\n",
              "\n",
              "          const docLinkHtml = 'Like what you see? Visit the ' +\n",
              "            '<a target=\"_blank\" href=https://colab.research.google.com/notebooks/data_table.ipynb>data table notebook</a>'\n",
              "            + ' to learn more about interactive tables.';\n",
              "          element.innerHTML = '';\n",
              "          dataTable['output_type'] = 'display_data';\n",
              "          await google.colab.output.renderOutput(dataTable, element);\n",
              "          const docLink = document.createElement('div');\n",
              "          docLink.innerHTML = docLinkHtml;\n",
              "          element.appendChild(docLink);\n",
              "        }\n",
              "      </script>\n",
              "    </div>\n",
              "  </div>\n",
              "  "
            ]
          },
          "metadata": {},
          "execution_count": 14
        }
      ]
    },
    {
      "cell_type": "code",
      "source": [
        "print(f'ratings.shape = {data_val_lvl_1.shape}\\n')\n",
        "data_val_lvl_1.head(2)"
      ],
      "metadata": {
        "colab": {
          "base_uri": "https://localhost:8080/",
          "height": 148
        },
        "id": "muDDfZnJ-WAF",
        "outputId": "7e5a88b9-22a0-4f79-97c1-583d39c57155"
      },
      "execution_count": 15,
      "outputs": [
        {
          "output_type": "stream",
          "name": "stdout",
          "text": [
            "ratings.shape = (7925, 4)\n",
            "\n"
          ]
        },
        {
          "output_type": "execute_result",
          "data": {
            "text/plain": [
              "         item_id         user_id  rating   timestamp\n",
              "1025  B00005BPQ9  A3TH42PC3EZV1B     4.0  1445558400\n",
              "1462  B00006FMLY   A8CGWGJ9OM58J     5.0  1455753600"
            ],
            "text/html": [
              "\n",
              "  <div id=\"df-bbdb7077-8f57-4fbf-8fd5-687f382b080c\">\n",
              "    <div class=\"colab-df-container\">\n",
              "      <div>\n",
              "<style scoped>\n",
              "    .dataframe tbody tr th:only-of-type {\n",
              "        vertical-align: middle;\n",
              "    }\n",
              "\n",
              "    .dataframe tbody tr th {\n",
              "        vertical-align: top;\n",
              "    }\n",
              "\n",
              "    .dataframe thead th {\n",
              "        text-align: right;\n",
              "    }\n",
              "</style>\n",
              "<table border=\"1\" class=\"dataframe\">\n",
              "  <thead>\n",
              "    <tr style=\"text-align: right;\">\n",
              "      <th></th>\n",
              "      <th>item_id</th>\n",
              "      <th>user_id</th>\n",
              "      <th>rating</th>\n",
              "      <th>timestamp</th>\n",
              "    </tr>\n",
              "  </thead>\n",
              "  <tbody>\n",
              "    <tr>\n",
              "      <th>1025</th>\n",
              "      <td>B00005BPQ9</td>\n",
              "      <td>A3TH42PC3EZV1B</td>\n",
              "      <td>4.0</td>\n",
              "      <td>1445558400</td>\n",
              "    </tr>\n",
              "    <tr>\n",
              "      <th>1462</th>\n",
              "      <td>B00006FMLY</td>\n",
              "      <td>A8CGWGJ9OM58J</td>\n",
              "      <td>5.0</td>\n",
              "      <td>1455753600</td>\n",
              "    </tr>\n",
              "  </tbody>\n",
              "</table>\n",
              "</div>\n",
              "      <button class=\"colab-df-convert\" onclick=\"convertToInteractive('df-bbdb7077-8f57-4fbf-8fd5-687f382b080c')\"\n",
              "              title=\"Convert this dataframe to an interactive table.\"\n",
              "              style=\"display:none;\">\n",
              "        \n",
              "  <svg xmlns=\"http://www.w3.org/2000/svg\" height=\"24px\"viewBox=\"0 0 24 24\"\n",
              "       width=\"24px\">\n",
              "    <path d=\"M0 0h24v24H0V0z\" fill=\"none\"/>\n",
              "    <path d=\"M18.56 5.44l.94 2.06.94-2.06 2.06-.94-2.06-.94-.94-2.06-.94 2.06-2.06.94zm-11 1L8.5 8.5l.94-2.06 2.06-.94-2.06-.94L8.5 2.5l-.94 2.06-2.06.94zm10 10l.94 2.06.94-2.06 2.06-.94-2.06-.94-.94-2.06-.94 2.06-2.06.94z\"/><path d=\"M17.41 7.96l-1.37-1.37c-.4-.4-.92-.59-1.43-.59-.52 0-1.04.2-1.43.59L10.3 9.45l-7.72 7.72c-.78.78-.78 2.05 0 2.83L4 21.41c.39.39.9.59 1.41.59.51 0 1.02-.2 1.41-.59l7.78-7.78 2.81-2.81c.8-.78.8-2.07 0-2.86zM5.41 20L4 18.59l7.72-7.72 1.47 1.35L5.41 20z\"/>\n",
              "  </svg>\n",
              "      </button>\n",
              "      \n",
              "  <style>\n",
              "    .colab-df-container {\n",
              "      display:flex;\n",
              "      flex-wrap:wrap;\n",
              "      gap: 12px;\n",
              "    }\n",
              "\n",
              "    .colab-df-convert {\n",
              "      background-color: #E8F0FE;\n",
              "      border: none;\n",
              "      border-radius: 50%;\n",
              "      cursor: pointer;\n",
              "      display: none;\n",
              "      fill: #1967D2;\n",
              "      height: 32px;\n",
              "      padding: 0 0 0 0;\n",
              "      width: 32px;\n",
              "    }\n",
              "\n",
              "    .colab-df-convert:hover {\n",
              "      background-color: #E2EBFA;\n",
              "      box-shadow: 0px 1px 2px rgba(60, 64, 67, 0.3), 0px 1px 3px 1px rgba(60, 64, 67, 0.15);\n",
              "      fill: #174EA6;\n",
              "    }\n",
              "\n",
              "    [theme=dark] .colab-df-convert {\n",
              "      background-color: #3B4455;\n",
              "      fill: #D2E3FC;\n",
              "    }\n",
              "\n",
              "    [theme=dark] .colab-df-convert:hover {\n",
              "      background-color: #434B5C;\n",
              "      box-shadow: 0px 1px 3px 1px rgba(0, 0, 0, 0.15);\n",
              "      filter: drop-shadow(0px 1px 2px rgba(0, 0, 0, 0.3));\n",
              "      fill: #FFFFFF;\n",
              "    }\n",
              "  </style>\n",
              "\n",
              "      <script>\n",
              "        const buttonEl =\n",
              "          document.querySelector('#df-bbdb7077-8f57-4fbf-8fd5-687f382b080c button.colab-df-convert');\n",
              "        buttonEl.style.display =\n",
              "          google.colab.kernel.accessAllowed ? 'block' : 'none';\n",
              "\n",
              "        async function convertToInteractive(key) {\n",
              "          const element = document.querySelector('#df-bbdb7077-8f57-4fbf-8fd5-687f382b080c');\n",
              "          const dataTable =\n",
              "            await google.colab.kernel.invokeFunction('convertToInteractive',\n",
              "                                                     [key], {});\n",
              "          if (!dataTable) return;\n",
              "\n",
              "          const docLinkHtml = 'Like what you see? Visit the ' +\n",
              "            '<a target=\"_blank\" href=https://colab.research.google.com/notebooks/data_table.ipynb>data table notebook</a>'\n",
              "            + ' to learn more about interactive tables.';\n",
              "          element.innerHTML = '';\n",
              "          dataTable['output_type'] = 'display_data';\n",
              "          await google.colab.output.renderOutput(dataTable, element);\n",
              "          const docLink = document.createElement('div');\n",
              "          docLink.innerHTML = docLinkHtml;\n",
              "          element.appendChild(docLink);\n",
              "        }\n",
              "      </script>\n",
              "    </div>\n",
              "  </div>\n",
              "  "
            ]
          },
          "metadata": {},
          "execution_count": 15
        }
      ]
    },
    {
      "cell_type": "code",
      "source": [
        "print(f'ratings.shape = {data_val_lvl_2.shape}\\n')\n",
        "data_val_lvl_2.head(2)"
      ],
      "metadata": {
        "colab": {
          "base_uri": "https://localhost:8080/",
          "height": 148
        },
        "id": "5_Xv9WCK-aFM",
        "outputId": "317d7116-56d7-4cb2-f73a-8cb00302ff96"
      },
      "execution_count": 16,
      "outputs": [
        {
          "output_type": "stream",
          "name": "stdout",
          "text": [
            "ratings.shape = (1646, 4)\n",
            "\n"
          ]
        },
        {
          "output_type": "execute_result",
          "data": {
            "text/plain": [
              "         item_id         user_id  rating   timestamp\n",
              "7747  B0000D916Y  A1STWKVUMXNZAB     3.0  1524096000\n",
              "8040  B0000D916Y  A2RI05C8BVQIWB     4.0  1513468800"
            ],
            "text/html": [
              "\n",
              "  <div id=\"df-e7b9de14-325f-4189-b2f1-fdb84489cea0\">\n",
              "    <div class=\"colab-df-container\">\n",
              "      <div>\n",
              "<style scoped>\n",
              "    .dataframe tbody tr th:only-of-type {\n",
              "        vertical-align: middle;\n",
              "    }\n",
              "\n",
              "    .dataframe tbody tr th {\n",
              "        vertical-align: top;\n",
              "    }\n",
              "\n",
              "    .dataframe thead th {\n",
              "        text-align: right;\n",
              "    }\n",
              "</style>\n",
              "<table border=\"1\" class=\"dataframe\">\n",
              "  <thead>\n",
              "    <tr style=\"text-align: right;\">\n",
              "      <th></th>\n",
              "      <th>item_id</th>\n",
              "      <th>user_id</th>\n",
              "      <th>rating</th>\n",
              "      <th>timestamp</th>\n",
              "    </tr>\n",
              "  </thead>\n",
              "  <tbody>\n",
              "    <tr>\n",
              "      <th>7747</th>\n",
              "      <td>B0000D916Y</td>\n",
              "      <td>A1STWKVUMXNZAB</td>\n",
              "      <td>3.0</td>\n",
              "      <td>1524096000</td>\n",
              "    </tr>\n",
              "    <tr>\n",
              "      <th>8040</th>\n",
              "      <td>B0000D916Y</td>\n",
              "      <td>A2RI05C8BVQIWB</td>\n",
              "      <td>4.0</td>\n",
              "      <td>1513468800</td>\n",
              "    </tr>\n",
              "  </tbody>\n",
              "</table>\n",
              "</div>\n",
              "      <button class=\"colab-df-convert\" onclick=\"convertToInteractive('df-e7b9de14-325f-4189-b2f1-fdb84489cea0')\"\n",
              "              title=\"Convert this dataframe to an interactive table.\"\n",
              "              style=\"display:none;\">\n",
              "        \n",
              "  <svg xmlns=\"http://www.w3.org/2000/svg\" height=\"24px\"viewBox=\"0 0 24 24\"\n",
              "       width=\"24px\">\n",
              "    <path d=\"M0 0h24v24H0V0z\" fill=\"none\"/>\n",
              "    <path d=\"M18.56 5.44l.94 2.06.94-2.06 2.06-.94-2.06-.94-.94-2.06-.94 2.06-2.06.94zm-11 1L8.5 8.5l.94-2.06 2.06-.94-2.06-.94L8.5 2.5l-.94 2.06-2.06.94zm10 10l.94 2.06.94-2.06 2.06-.94-2.06-.94-.94-2.06-.94 2.06-2.06.94z\"/><path d=\"M17.41 7.96l-1.37-1.37c-.4-.4-.92-.59-1.43-.59-.52 0-1.04.2-1.43.59L10.3 9.45l-7.72 7.72c-.78.78-.78 2.05 0 2.83L4 21.41c.39.39.9.59 1.41.59.51 0 1.02-.2 1.41-.59l7.78-7.78 2.81-2.81c.8-.78.8-2.07 0-2.86zM5.41 20L4 18.59l7.72-7.72 1.47 1.35L5.41 20z\"/>\n",
              "  </svg>\n",
              "      </button>\n",
              "      \n",
              "  <style>\n",
              "    .colab-df-container {\n",
              "      display:flex;\n",
              "      flex-wrap:wrap;\n",
              "      gap: 12px;\n",
              "    }\n",
              "\n",
              "    .colab-df-convert {\n",
              "      background-color: #E8F0FE;\n",
              "      border: none;\n",
              "      border-radius: 50%;\n",
              "      cursor: pointer;\n",
              "      display: none;\n",
              "      fill: #1967D2;\n",
              "      height: 32px;\n",
              "      padding: 0 0 0 0;\n",
              "      width: 32px;\n",
              "    }\n",
              "\n",
              "    .colab-df-convert:hover {\n",
              "      background-color: #E2EBFA;\n",
              "      box-shadow: 0px 1px 2px rgba(60, 64, 67, 0.3), 0px 1px 3px 1px rgba(60, 64, 67, 0.15);\n",
              "      fill: #174EA6;\n",
              "    }\n",
              "\n",
              "    [theme=dark] .colab-df-convert {\n",
              "      background-color: #3B4455;\n",
              "      fill: #D2E3FC;\n",
              "    }\n",
              "\n",
              "    [theme=dark] .colab-df-convert:hover {\n",
              "      background-color: #434B5C;\n",
              "      box-shadow: 0px 1px 3px 1px rgba(0, 0, 0, 0.15);\n",
              "      filter: drop-shadow(0px 1px 2px rgba(0, 0, 0, 0.3));\n",
              "      fill: #FFFFFF;\n",
              "    }\n",
              "  </style>\n",
              "\n",
              "      <script>\n",
              "        const buttonEl =\n",
              "          document.querySelector('#df-e7b9de14-325f-4189-b2f1-fdb84489cea0 button.colab-df-convert');\n",
              "        buttonEl.style.display =\n",
              "          google.colab.kernel.accessAllowed ? 'block' : 'none';\n",
              "\n",
              "        async function convertToInteractive(key) {\n",
              "          const element = document.querySelector('#df-e7b9de14-325f-4189-b2f1-fdb84489cea0');\n",
              "          const dataTable =\n",
              "            await google.colab.kernel.invokeFunction('convertToInteractive',\n",
              "                                                     [key], {});\n",
              "          if (!dataTable) return;\n",
              "\n",
              "          const docLinkHtml = 'Like what you see? Visit the ' +\n",
              "            '<a target=\"_blank\" href=https://colab.research.google.com/notebooks/data_table.ipynb>data table notebook</a>'\n",
              "            + ' to learn more about interactive tables.';\n",
              "          element.innerHTML = '';\n",
              "          dataTable['output_type'] = 'display_data';\n",
              "          await google.colab.output.renderOutput(dataTable, element);\n",
              "          const docLink = document.createElement('div');\n",
              "          docLink.innerHTML = docLinkHtml;\n",
              "          element.appendChild(docLink);\n",
              "        }\n",
              "      </script>\n",
              "    </div>\n",
              "  </div>\n",
              "  "
            ]
          },
          "metadata": {},
          "execution_count": 16
        }
      ]
    },
    {
      "cell_type": "markdown",
      "source": [
        "### 1.3. Items matadata"
      ],
      "metadata": {
        "id": "g0tb1xCT_kpK"
      }
    },
    {
      "cell_type": "code",
      "source": [
        "items = get_items_matadata(selected_items, ITEM_FEATURES_PATH)\n",
        "\n",
        "print(f'items.shape = {items.shape}\\n')\n",
        "items.head(3)"
      ],
      "metadata": {
        "colab": {
          "base_uri": "https://localhost:8080/",
          "height": 504
        },
        "id": "8Hpc6X8FI5i2",
        "outputId": "3b0ddbf0-3654-4748-9eef-fd13e5878713"
      },
      "execution_count": 17,
      "outputs": [
        {
          "output_type": "stream",
          "name": "stdout",
          "text": [
            "items.shape = (2529, 15)\n",
            "\n"
          ]
        },
        {
          "output_type": "execute_result",
          "data": {
            "text/plain": [
              "      item_id  price     main_cat         category_1  \\\n",
              "0  B00005BPQ9   0.00      Grocery  Candy & Chocolate   \n",
              "1  B00006FMLY  10.41  Amazon Home   Cooking & Baking   \n",
              "2  B00006FWVX   6.30  Amazon Home   Cooking & Baking   \n",
              "\n",
              "                      category_2     brand      rank  \\\n",
              "0  Candy & Chocolate Assortments  Whoppers  413552.0   \n",
              "1  Frosting, Icing & Decorations    Wilton   13984.0   \n",
              "2                  Food Coloring    Wilton    9512.0   \n",
              "\n",
              "                                          rank_group  \\\n",
              "0                             Grocery & Gourmet Food   \n",
              "1  Kitchen & Dining (See Top 100 in Kitchen & Din...   \n",
              "2  Kitchen & Dining (See Top 100 in Kitchen & Din...   \n",
              "\n",
              "                                               title  \\\n",
              "0  WHOPPERS Candy (Chocolate Covered Malted Milk ...   \n",
              "1  Wilton Jimmies Rainbow Sprinkle Assortment, 3....   \n",
              "2  Wilton Candy Decorating Primary Colors Set, 1 oz.   \n",
              "\n",
              "                                         description  len_also_view  \\\n",
              "0  WHOPPERS Malted Milk Balls are the classic con...            2.0   \n",
              "1  Sprinkle your treats with sweet color using th...            0.0   \n",
              "2  Can't find candy to match your party theme? Co...            1.0   \n",
              "\n",
              "                      also_view  len_also_buy  \\\n",
              "0  ['B0016G1H8G', 'B0029JVUAE']          14.0   \n",
              "1                            []           0.0   \n",
              "2                ['B0061TXUNS']           0.0   \n",
              "\n",
              "                                            also_buy            category_3  \n",
              "0  ['B0029JVUAE', 'B00374XTQI', 'B000IXUK2W', 'B0...                   NaN  \n",
              "1                                                 []  Sprinkles & Glitters  \n",
              "2                                                 []                   NaN  "
            ],
            "text/html": [
              "\n",
              "  <div id=\"df-72b0fd40-ead4-4bd3-9f71-bbd60c533593\">\n",
              "    <div class=\"colab-df-container\">\n",
              "      <div>\n",
              "<style scoped>\n",
              "    .dataframe tbody tr th:only-of-type {\n",
              "        vertical-align: middle;\n",
              "    }\n",
              "\n",
              "    .dataframe tbody tr th {\n",
              "        vertical-align: top;\n",
              "    }\n",
              "\n",
              "    .dataframe thead th {\n",
              "        text-align: right;\n",
              "    }\n",
              "</style>\n",
              "<table border=\"1\" class=\"dataframe\">\n",
              "  <thead>\n",
              "    <tr style=\"text-align: right;\">\n",
              "      <th></th>\n",
              "      <th>item_id</th>\n",
              "      <th>price</th>\n",
              "      <th>main_cat</th>\n",
              "      <th>category_1</th>\n",
              "      <th>category_2</th>\n",
              "      <th>brand</th>\n",
              "      <th>rank</th>\n",
              "      <th>rank_group</th>\n",
              "      <th>title</th>\n",
              "      <th>description</th>\n",
              "      <th>len_also_view</th>\n",
              "      <th>also_view</th>\n",
              "      <th>len_also_buy</th>\n",
              "      <th>also_buy</th>\n",
              "      <th>category_3</th>\n",
              "    </tr>\n",
              "  </thead>\n",
              "  <tbody>\n",
              "    <tr>\n",
              "      <th>0</th>\n",
              "      <td>B00005BPQ9</td>\n",
              "      <td>0.00</td>\n",
              "      <td>Grocery</td>\n",
              "      <td>Candy &amp; Chocolate</td>\n",
              "      <td>Candy &amp; Chocolate Assortments</td>\n",
              "      <td>Whoppers</td>\n",
              "      <td>413552.0</td>\n",
              "      <td>Grocery &amp; Gourmet Food</td>\n",
              "      <td>WHOPPERS Candy (Chocolate Covered Malted Milk ...</td>\n",
              "      <td>WHOPPERS Malted Milk Balls are the classic con...</td>\n",
              "      <td>2.0</td>\n",
              "      <td>['B0016G1H8G', 'B0029JVUAE']</td>\n",
              "      <td>14.0</td>\n",
              "      <td>['B0029JVUAE', 'B00374XTQI', 'B000IXUK2W', 'B0...</td>\n",
              "      <td>NaN</td>\n",
              "    </tr>\n",
              "    <tr>\n",
              "      <th>1</th>\n",
              "      <td>B00006FMLY</td>\n",
              "      <td>10.41</td>\n",
              "      <td>Amazon Home</td>\n",
              "      <td>Cooking &amp; Baking</td>\n",
              "      <td>Frosting, Icing &amp; Decorations</td>\n",
              "      <td>Wilton</td>\n",
              "      <td>13984.0</td>\n",
              "      <td>Kitchen &amp; Dining (See Top 100 in Kitchen &amp; Din...</td>\n",
              "      <td>Wilton Jimmies Rainbow Sprinkle Assortment, 3....</td>\n",
              "      <td>Sprinkle your treats with sweet color using th...</td>\n",
              "      <td>0.0</td>\n",
              "      <td>[]</td>\n",
              "      <td>0.0</td>\n",
              "      <td>[]</td>\n",
              "      <td>Sprinkles &amp; Glitters</td>\n",
              "    </tr>\n",
              "    <tr>\n",
              "      <th>2</th>\n",
              "      <td>B00006FWVX</td>\n",
              "      <td>6.30</td>\n",
              "      <td>Amazon Home</td>\n",
              "      <td>Cooking &amp; Baking</td>\n",
              "      <td>Food Coloring</td>\n",
              "      <td>Wilton</td>\n",
              "      <td>9512.0</td>\n",
              "      <td>Kitchen &amp; Dining (See Top 100 in Kitchen &amp; Din...</td>\n",
              "      <td>Wilton Candy Decorating Primary Colors Set, 1 oz.</td>\n",
              "      <td>Can't find candy to match your party theme? Co...</td>\n",
              "      <td>1.0</td>\n",
              "      <td>['B0061TXUNS']</td>\n",
              "      <td>0.0</td>\n",
              "      <td>[]</td>\n",
              "      <td>NaN</td>\n",
              "    </tr>\n",
              "  </tbody>\n",
              "</table>\n",
              "</div>\n",
              "      <button class=\"colab-df-convert\" onclick=\"convertToInteractive('df-72b0fd40-ead4-4bd3-9f71-bbd60c533593')\"\n",
              "              title=\"Convert this dataframe to an interactive table.\"\n",
              "              style=\"display:none;\">\n",
              "        \n",
              "  <svg xmlns=\"http://www.w3.org/2000/svg\" height=\"24px\"viewBox=\"0 0 24 24\"\n",
              "       width=\"24px\">\n",
              "    <path d=\"M0 0h24v24H0V0z\" fill=\"none\"/>\n",
              "    <path d=\"M18.56 5.44l.94 2.06.94-2.06 2.06-.94-2.06-.94-.94-2.06-.94 2.06-2.06.94zm-11 1L8.5 8.5l.94-2.06 2.06-.94-2.06-.94L8.5 2.5l-.94 2.06-2.06.94zm10 10l.94 2.06.94-2.06 2.06-.94-2.06-.94-.94-2.06-.94 2.06-2.06.94z\"/><path d=\"M17.41 7.96l-1.37-1.37c-.4-.4-.92-.59-1.43-.59-.52 0-1.04.2-1.43.59L10.3 9.45l-7.72 7.72c-.78.78-.78 2.05 0 2.83L4 21.41c.39.39.9.59 1.41.59.51 0 1.02-.2 1.41-.59l7.78-7.78 2.81-2.81c.8-.78.8-2.07 0-2.86zM5.41 20L4 18.59l7.72-7.72 1.47 1.35L5.41 20z\"/>\n",
              "  </svg>\n",
              "      </button>\n",
              "      \n",
              "  <style>\n",
              "    .colab-df-container {\n",
              "      display:flex;\n",
              "      flex-wrap:wrap;\n",
              "      gap: 12px;\n",
              "    }\n",
              "\n",
              "    .colab-df-convert {\n",
              "      background-color: #E8F0FE;\n",
              "      border: none;\n",
              "      border-radius: 50%;\n",
              "      cursor: pointer;\n",
              "      display: none;\n",
              "      fill: #1967D2;\n",
              "      height: 32px;\n",
              "      padding: 0 0 0 0;\n",
              "      width: 32px;\n",
              "    }\n",
              "\n",
              "    .colab-df-convert:hover {\n",
              "      background-color: #E2EBFA;\n",
              "      box-shadow: 0px 1px 2px rgba(60, 64, 67, 0.3), 0px 1px 3px 1px rgba(60, 64, 67, 0.15);\n",
              "      fill: #174EA6;\n",
              "    }\n",
              "\n",
              "    [theme=dark] .colab-df-convert {\n",
              "      background-color: #3B4455;\n",
              "      fill: #D2E3FC;\n",
              "    }\n",
              "\n",
              "    [theme=dark] .colab-df-convert:hover {\n",
              "      background-color: #434B5C;\n",
              "      box-shadow: 0px 1px 3px 1px rgba(0, 0, 0, 0.15);\n",
              "      filter: drop-shadow(0px 1px 2px rgba(0, 0, 0, 0.3));\n",
              "      fill: #FFFFFF;\n",
              "    }\n",
              "  </style>\n",
              "\n",
              "      <script>\n",
              "        const buttonEl =\n",
              "          document.querySelector('#df-72b0fd40-ead4-4bd3-9f71-bbd60c533593 button.colab-df-convert');\n",
              "        buttonEl.style.display =\n",
              "          google.colab.kernel.accessAllowed ? 'block' : 'none';\n",
              "\n",
              "        async function convertToInteractive(key) {\n",
              "          const element = document.querySelector('#df-72b0fd40-ead4-4bd3-9f71-bbd60c533593');\n",
              "          const dataTable =\n",
              "            await google.colab.kernel.invokeFunction('convertToInteractive',\n",
              "                                                     [key], {});\n",
              "          if (!dataTable) return;\n",
              "\n",
              "          const docLinkHtml = 'Like what you see? Visit the ' +\n",
              "            '<a target=\"_blank\" href=https://colab.research.google.com/notebooks/data_table.ipynb>data table notebook</a>'\n",
              "            + ' to learn more about interactive tables.';\n",
              "          element.innerHTML = '';\n",
              "          dataTable['output_type'] = 'display_data';\n",
              "          await google.colab.output.renderOutput(dataTable, element);\n",
              "          const docLink = document.createElement('div');\n",
              "          docLink.innerHTML = docLinkHtml;\n",
              "          element.appendChild(docLink);\n",
              "        }\n",
              "      </script>\n",
              "    </div>\n",
              "  </div>\n",
              "  "
            ]
          },
          "metadata": {},
          "execution_count": 17
        }
      ]
    },
    {
      "cell_type": "markdown",
      "source": [
        "### 1.4. User reviews"
      ],
      "metadata": {
        "id": "cELDyFlRHhbV"
      }
    },
    {
      "cell_type": "code",
      "source": [
        "user_reviews = get_user_reviews(selected_users, selected_items, t1, USER_FEATURES_PATH)\n",
        "\n",
        "print(f'user_reviews.shape = {user_reviews.shape}\\n')\n",
        "user_reviews.head(2)"
      ],
      "metadata": {
        "colab": {
          "base_uri": "https://localhost:8080/",
          "height": 148
        },
        "id": "nCTGUSXVAAnZ",
        "outputId": "198fb318-7d87-4913-dc02-82ab5332700b"
      },
      "execution_count": 18,
      "outputs": [
        {
          "output_type": "stream",
          "name": "stdout",
          "text": [
            "user_reviews.shape = (10927, 5)\n",
            "\n"
          ]
        },
        {
          "output_type": "execute_result",
          "data": {
            "text/plain": [
              "          user_id     item_id   timestamp  \\\n",
              "0  A3TH42PC3EZV1B  B00005BPQ9  1445558400   \n",
              "1   A8CGWGJ9OM58J  B00006FMLY  1455753600   \n",
              "\n",
              "                                                text  len_text  \n",
              "0  Delicious, and a good value... What more is to...        55  \n",
              "1                              great for decorating.        21  "
            ],
            "text/html": [
              "\n",
              "  <div id=\"df-26b12d2b-26d8-46ef-bcdc-27491f82bda9\">\n",
              "    <div class=\"colab-df-container\">\n",
              "      <div>\n",
              "<style scoped>\n",
              "    .dataframe tbody tr th:only-of-type {\n",
              "        vertical-align: middle;\n",
              "    }\n",
              "\n",
              "    .dataframe tbody tr th {\n",
              "        vertical-align: top;\n",
              "    }\n",
              "\n",
              "    .dataframe thead th {\n",
              "        text-align: right;\n",
              "    }\n",
              "</style>\n",
              "<table border=\"1\" class=\"dataframe\">\n",
              "  <thead>\n",
              "    <tr style=\"text-align: right;\">\n",
              "      <th></th>\n",
              "      <th>user_id</th>\n",
              "      <th>item_id</th>\n",
              "      <th>timestamp</th>\n",
              "      <th>text</th>\n",
              "      <th>len_text</th>\n",
              "    </tr>\n",
              "  </thead>\n",
              "  <tbody>\n",
              "    <tr>\n",
              "      <th>0</th>\n",
              "      <td>A3TH42PC3EZV1B</td>\n",
              "      <td>B00005BPQ9</td>\n",
              "      <td>1445558400</td>\n",
              "      <td>Delicious, and a good value... What more is to...</td>\n",
              "      <td>55</td>\n",
              "    </tr>\n",
              "    <tr>\n",
              "      <th>1</th>\n",
              "      <td>A8CGWGJ9OM58J</td>\n",
              "      <td>B00006FMLY</td>\n",
              "      <td>1455753600</td>\n",
              "      <td>great for decorating.</td>\n",
              "      <td>21</td>\n",
              "    </tr>\n",
              "  </tbody>\n",
              "</table>\n",
              "</div>\n",
              "      <button class=\"colab-df-convert\" onclick=\"convertToInteractive('df-26b12d2b-26d8-46ef-bcdc-27491f82bda9')\"\n",
              "              title=\"Convert this dataframe to an interactive table.\"\n",
              "              style=\"display:none;\">\n",
              "        \n",
              "  <svg xmlns=\"http://www.w3.org/2000/svg\" height=\"24px\"viewBox=\"0 0 24 24\"\n",
              "       width=\"24px\">\n",
              "    <path d=\"M0 0h24v24H0V0z\" fill=\"none\"/>\n",
              "    <path d=\"M18.56 5.44l.94 2.06.94-2.06 2.06-.94-2.06-.94-.94-2.06-.94 2.06-2.06.94zm-11 1L8.5 8.5l.94-2.06 2.06-.94-2.06-.94L8.5 2.5l-.94 2.06-2.06.94zm10 10l.94 2.06.94-2.06 2.06-.94-2.06-.94-.94-2.06-.94 2.06-2.06.94z\"/><path d=\"M17.41 7.96l-1.37-1.37c-.4-.4-.92-.59-1.43-.59-.52 0-1.04.2-1.43.59L10.3 9.45l-7.72 7.72c-.78.78-.78 2.05 0 2.83L4 21.41c.39.39.9.59 1.41.59.51 0 1.02-.2 1.41-.59l7.78-7.78 2.81-2.81c.8-.78.8-2.07 0-2.86zM5.41 20L4 18.59l7.72-7.72 1.47 1.35L5.41 20z\"/>\n",
              "  </svg>\n",
              "      </button>\n",
              "      \n",
              "  <style>\n",
              "    .colab-df-container {\n",
              "      display:flex;\n",
              "      flex-wrap:wrap;\n",
              "      gap: 12px;\n",
              "    }\n",
              "\n",
              "    .colab-df-convert {\n",
              "      background-color: #E8F0FE;\n",
              "      border: none;\n",
              "      border-radius: 50%;\n",
              "      cursor: pointer;\n",
              "      display: none;\n",
              "      fill: #1967D2;\n",
              "      height: 32px;\n",
              "      padding: 0 0 0 0;\n",
              "      width: 32px;\n",
              "    }\n",
              "\n",
              "    .colab-df-convert:hover {\n",
              "      background-color: #E2EBFA;\n",
              "      box-shadow: 0px 1px 2px rgba(60, 64, 67, 0.3), 0px 1px 3px 1px rgba(60, 64, 67, 0.15);\n",
              "      fill: #174EA6;\n",
              "    }\n",
              "\n",
              "    [theme=dark] .colab-df-convert {\n",
              "      background-color: #3B4455;\n",
              "      fill: #D2E3FC;\n",
              "    }\n",
              "\n",
              "    [theme=dark] .colab-df-convert:hover {\n",
              "      background-color: #434B5C;\n",
              "      box-shadow: 0px 1px 3px 1px rgba(0, 0, 0, 0.15);\n",
              "      filter: drop-shadow(0px 1px 2px rgba(0, 0, 0, 0.3));\n",
              "      fill: #FFFFFF;\n",
              "    }\n",
              "  </style>\n",
              "\n",
              "      <script>\n",
              "        const buttonEl =\n",
              "          document.querySelector('#df-26b12d2b-26d8-46ef-bcdc-27491f82bda9 button.colab-df-convert');\n",
              "        buttonEl.style.display =\n",
              "          google.colab.kernel.accessAllowed ? 'block' : 'none';\n",
              "\n",
              "        async function convertToInteractive(key) {\n",
              "          const element = document.querySelector('#df-26b12d2b-26d8-46ef-bcdc-27491f82bda9');\n",
              "          const dataTable =\n",
              "            await google.colab.kernel.invokeFunction('convertToInteractive',\n",
              "                                                     [key], {});\n",
              "          if (!dataTable) return;\n",
              "\n",
              "          const docLinkHtml = 'Like what you see? Visit the ' +\n",
              "            '<a target=\"_blank\" href=https://colab.research.google.com/notebooks/data_table.ipynb>data table notebook</a>'\n",
              "            + ' to learn more about interactive tables.';\n",
              "          element.innerHTML = '';\n",
              "          dataTable['output_type'] = 'display_data';\n",
              "          await google.colab.output.renderOutput(dataTable, element);\n",
              "          const docLink = document.createElement('div');\n",
              "          docLink.innerHTML = docLinkHtml;\n",
              "          element.appendChild(docLink);\n",
              "        }\n",
              "      </script>\n",
              "    </div>\n",
              "  </div>\n",
              "  "
            ]
          },
          "metadata": {},
          "execution_count": 18
        }
      ]
    },
    {
      "cell_type": "markdown",
      "source": [
        "## 2. EDA\n",
        "\n",
        "EDA of train and validation dataset for the 2nd level model."
      ],
      "metadata": {
        "id": "rU1EcOL1ieuh"
      }
    },
    {
      "cell_type": "markdown",
      "source": [
        "### 2.1. Top popular items"
      ],
      "metadata": {
        "id": "G0cVULQREBHU"
      }
    },
    {
      "cell_type": "code",
      "source": [
        "data = pd.concat(\n",
        "    [data_val_lvl_1, data_val_lvl_2], axis=0\n",
        ").merge(user_reviews, on=['user_id', 'item_id'], how='left')"
      ],
      "metadata": {
        "id": "gOE45FB8ya0t"
      },
      "execution_count": 19,
      "outputs": []
    },
    {
      "cell_type": "code",
      "source": [
        "popularity = (data.groupby('item_id')['user_id'].nunique() / data['user_id'].nunique()).reset_index()\n",
        "popularity.rename(columns={'user_id': 'share_unique_users'}, inplace=True)\n",
        "popularity['share_unique_users'].max()"
      ],
      "metadata": {
        "colab": {
          "base_uri": "https://localhost:8080/"
        },
        "id": "qcLvrsVvEDkI",
        "outputId": "91a9066c-c341-46ee-da95-3db50cf14c75"
      },
      "execution_count": 20,
      "outputs": [
        {
          "output_type": "execute_result",
          "data": {
            "text/plain": [
              "0.054439982150825524"
            ]
          },
          "metadata": {},
          "execution_count": 20
        }
      ]
    },
    {
      "cell_type": "code",
      "source": [
        "plt.figure(figsize=(10, 4))\n",
        "plt.title('Distribution of share of unique users')\n",
        "plt.xlabel('share of unique users')\n",
        "plt.ylabel('number of items')\n",
        "plt.hist(popularity['share_unique_users'].values, bins=50);"
      ],
      "metadata": {
        "colab": {
          "base_uri": "https://localhost:8080/",
          "height": 295
        },
        "id": "1QYZcWEFEKo0",
        "outputId": "82228799-b8c7-4056-8b53-6c7003f238f8"
      },
      "execution_count": 21,
      "outputs": [
        {
          "output_type": "display_data",
          "data": {
            "text/plain": [
              "<Figure size 720x288 with 1 Axes>"
            ],
            "image/png": "[encoded data removed]"
          },
          "metadata": {
            "needs_background": "light"
          }
        }
      ]
    },
    {
      "cell_type": "markdown",
      "source": [
        "### 2.2. Top unpopular items"
      ],
      "metadata": {
        "id": "QHxW49ToEcw1"
      }
    },
    {
      "cell_type": "code",
      "source": [
        "top_unpopular = popularity[popularity['share_unique_users'] < 4.5e-04].item_id.tolist()\n",
        "len(top_unpopular)"
      ],
      "metadata": {
        "colab": {
          "base_uri": "https://localhost:8080/"
        },
        "id": "w3xgYgYLEhcN",
        "outputId": "316945c1-7922-4ce3-ce60-7f211311cfd6"
      },
      "execution_count": 57,
      "outputs": [
        {
          "output_type": "execute_result",
          "data": {
            "text/plain": [
              "1193"
            ]
          },
          "metadata": {},
          "execution_count": 57
        }
      ]
    },
    {
      "cell_type": "markdown",
      "source": [
        "### 2.3. Items of unpopular categories"
      ],
      "metadata": {
        "id": "j58g9-XFEyD7"
      }
    },
    {
      "cell_type": "code",
      "source": [
        "main_cat_size = (\n",
        "    items.groupby('main_cat')['item_id'].nunique().sort_values(ascending=False)\n",
        ").reset_index()\n",
        "main_cat_size.columns = ['main_cat', 'n_items']\n",
        "\n",
        "unpopular_main_cats = main_cat_size[main_cat_size['n_items'] < 150].main_cat.tolist()\n",
        "items_in_unpopular_main_cats = items[items['main_cat'].isin(unpopular_main_cats)].item_id.unique().tolist()\n",
        "len(items_in_unpopular_main_cats)"
      ],
      "metadata": {
        "colab": {
          "base_uri": "https://localhost:8080/"
        },
        "id": "LvGXXVW_E0ih",
        "outputId": "402070bd-e2b2-4f01-d837-7fc5f83c7346"
      },
      "execution_count": 23,
      "outputs": [
        {
          "output_type": "execute_result",
          "data": {
            "text/plain": [
              "125"
            ]
          },
          "metadata": {},
          "execution_count": 23
        }
      ]
    },
    {
      "cell_type": "markdown",
      "source": [
        "### 2.4. Price threshold"
      ],
      "metadata": {
        "id": "YQ665MDvFAtw"
      }
    },
    {
      "cell_type": "code",
      "source": [
        "data = data.merge(items[['item_id', 'price']], on='item_id')"
      ],
      "metadata": {
        "id": "PNeM8NtHPyBz"
      },
      "execution_count": 24,
      "outputs": []
    },
    {
      "cell_type": "code",
      "source": [
        "plt.figure(figsize=(10, 4))\n",
        "plt.title('Price distribution')\n",
        "plt.xlabel('price')\n",
        "plt.ylabel('number of items')\n",
        "plt.hist(data['price'].values, bins=50);"
      ],
      "metadata": {
        "colab": {
          "base_uri": "https://localhost:8080/",
          "height": 295
        },
        "id": "_EJeIfVSFD0-",
        "outputId": "4cef98f7-46f0-4243-f06f-65626391ff1c"
      },
      "execution_count": 25,
      "outputs": [
        {
          "output_type": "display_data",
          "data": {
            "text/plain": [
              "<Figure size 720x288 with 1 Axes>"
            ],
            "image/png": "[encoded data removed]"
          },
          "metadata": {
            "needs_background": "light"
          }
        }
      ]
    },
    {
      "cell_type": "code",
      "source": [
        "data['price'].describe()"
      ],
      "metadata": {
        "colab": {
          "base_uri": "https://localhost:8080/"
        },
        "id": "brWKeIGZ1VZO",
        "outputId": "03096c8c-e438-4543-96cc-4c62980898c7"
      },
      "execution_count": 26,
      "outputs": [
        {
          "output_type": "execute_result",
          "data": {
            "text/plain": [
              "count    15264.000000\n",
              "mean        14.796855\n",
              "std         14.146324\n",
              "min          0.000000\n",
              "25%          3.990000\n",
              "50%         13.670000\n",
              "75%         20.830000\n",
              "max        182.480000\n",
              "Name: price, dtype: float64"
            ]
          },
          "metadata": {},
          "execution_count": 26
        }
      ]
    },
    {
      "cell_type": "markdown",
      "source": [
        "#### 2.4.1. Cheap items"
      ],
      "metadata": {
        "id": "KiFF201CFLrB"
      }
    },
    {
      "cell_type": "code",
      "source": [
        "lower_threshold = 0\n",
        "cheap_products = data.loc[data['price'] <= lower_threshold, 'item_id'].unique().tolist()\n",
        "len(cheap_products)"
      ],
      "metadata": {
        "colab": {
          "base_uri": "https://localhost:8080/"
        },
        "id": "XvXrMLCDFGpI",
        "outputId": "ba81cfec-1e7c-452b-a49f-91eff03b5fa7"
      },
      "execution_count": 27,
      "outputs": [
        {
          "output_type": "execute_result",
          "data": {
            "text/plain": [
              "766"
            ]
          },
          "metadata": {},
          "execution_count": 27
        }
      ]
    },
    {
      "cell_type": "markdown",
      "source": [
        "#### 2.4.2. Expensive items"
      ],
      "metadata": {
        "id": "nOcioewsFVki"
      }
    },
    {
      "cell_type": "code",
      "source": [
        "upper_threshold = 50\n",
        "expensive_products = data.loc[data['price'] > upper_threshold, 'item_id'].unique().tolist()\n",
        "len(expensive_products)"
      ],
      "metadata": {
        "colab": {
          "base_uri": "https://localhost:8080/"
        },
        "id": "LcBOd0klFfvc",
        "outputId": "6fa7a351-3c8c-448b-8272-840fb6ad001f"
      },
      "execution_count": 28,
      "outputs": [
        {
          "output_type": "execute_result",
          "data": {
            "text/plain": [
              "58"
            ]
          },
          "metadata": {},
          "execution_count": 28
        }
      ]
    },
    {
      "cell_type": "markdown",
      "source": [
        "### 2.5. User reviews"
      ],
      "metadata": {
        "id": "LB3cXsysGb90"
      }
    },
    {
      "cell_type": "markdown",
      "source": [
        "#### 2.5.1. Ratings"
      ],
      "metadata": {
        "id": "4hgmSNlF_Ju-"
      }
    },
    {
      "cell_type": "code",
      "source": [
        "plt.figure(figsize=(10, 4))\n",
        "plt.title('Ratings distribution')\n",
        "plt.xlabel('rating')\n",
        "plt.ylabel('number of items')\n",
        "plt.hist(data['rating'].values, bins=20);"
      ],
      "metadata": {
        "colab": {
          "base_uri": "https://localhost:8080/",
          "height": 295
        },
        "id": "IB85aSNm_U-3",
        "outputId": "c263b5c7-9092-4bf5-eea0-fb85279641eb"
      },
      "execution_count": 29,
      "outputs": [
        {
          "output_type": "display_data",
          "data": {
            "text/plain": [
              "<Figure size 720x288 with 1 Axes>"
            ],
            "image/png": "[encoded data removed]"
          },
          "metadata": {
            "needs_background": "light"
          }
        }
      ]
    },
    {
      "cell_type": "code",
      "source": [
        "data['rating'].value_counts(normalize=True)"
      ],
      "metadata": {
        "colab": {
          "base_uri": "https://localhost:8080/"
        },
        "id": "z0eHBlF1ALf4",
        "outputId": "195bd725-0d38-4c50-9d7f-bc61394ac260"
      },
      "execution_count": 30,
      "outputs": [
        {
          "output_type": "execute_result",
          "data": {
            "text/plain": [
              "5.0    0.729953\n",
              "4.0    0.137448\n",
              "3.0    0.066758\n",
              "1.0    0.034853\n",
              "2.0    0.030988\n",
              "Name: rating, dtype: float64"
            ]
          },
          "metadata": {},
          "execution_count": 30
        }
      ]
    },
    {
      "cell_type": "markdown",
      "source": [
        "#### 2.5.2. Length of user reviews"
      ],
      "metadata": {
        "id": "A1a-Od6AHCjv"
      }
    },
    {
      "cell_type": "code",
      "source": [
        "plt.figure(figsize=(10, 4))\n",
        "plt.title('Length of user reviews')\n",
        "plt.xlabel('len_text')\n",
        "plt.ylabel('number of items')\n",
        "plt.hist(data['len_text'].values, bins=50);"
      ],
      "metadata": {
        "colab": {
          "base_uri": "https://localhost:8080/",
          "height": 296
        },
        "id": "J_l1lg7EGfZ9",
        "outputId": "b455c4b0-50b1-4739-8699-9e565475c83e"
      },
      "execution_count": 31,
      "outputs": [
        {
          "output_type": "display_data",
          "data": {
            "text/plain": [
              "<Figure size 720x288 with 1 Axes>"
            ],
            "image/png": "[encoded data removed]"
          },
          "metadata": {
            "needs_background": "light"
          }
        }
      ]
    },
    {
      "cell_type": "code",
      "source": [
        "data['len_text'].describe()"
      ],
      "metadata": {
        "colab": {
          "base_uri": "https://localhost:8080/"
        },
        "id": "KjijM6E_Grxp",
        "outputId": "4936c628-08d1-4893-fb24-90b138cd302c"
      },
      "execution_count": 32,
      "outputs": [
        {
          "output_type": "execute_result",
          "data": {
            "text/plain": [
              "count    14346.000000\n",
              "mean       232.476161\n",
              "std        440.378111\n",
              "min          1.000000\n",
              "25%         32.250000\n",
              "50%         92.000000\n",
              "75%        243.000000\n",
              "max       7073.000000\n",
              "Name: len_text, dtype: float64"
            ]
          },
          "metadata": {},
          "execution_count": 32
        }
      ]
    },
    {
      "cell_type": "code",
      "source": [
        "(data['len_text'] == 1).sum()"
      ],
      "metadata": {
        "colab": {
          "base_uri": "https://localhost:8080/"
        },
        "id": "AgJnL_jIGylx",
        "outputId": "ffa4c837-ed33-41fa-dd41-14f63e5041e4"
      },
      "execution_count": 33,
      "outputs": [
        {
          "output_type": "execute_result",
          "data": {
            "text/plain": [
              "3"
            ]
          },
          "metadata": {},
          "execution_count": 33
        }
      ]
    },
    {
      "cell_type": "markdown",
      "source": [
        "### 2.6. Items matadata"
      ],
      "metadata": {
        "id": "0tz5MKkpRRgD"
      }
    },
    {
      "cell_type": "markdown",
      "source": [
        "#### 2.6.1. Feature 'also_view'"
      ],
      "metadata": {
        "id": "U6e2FXehPfuX"
      }
    },
    {
      "cell_type": "code",
      "source": [
        "plt.figure(figsize=(10, 4))\n",
        "plt.title(\"Distribution of the number of items in feature 'also_view'\")\n",
        "plt.xlabel('len_also_view')\n",
        "plt.ylabel('number of items')\n",
        "plt.hist(items['len_also_view'].values, bins=20);"
      ],
      "metadata": {
        "colab": {
          "base_uri": "https://localhost:8080/",
          "height": 296
        },
        "id": "vqeIA9SG7241",
        "outputId": "134d097c-373f-48f9-aab1-d78758d87fea"
      },
      "execution_count": 34,
      "outputs": [
        {
          "output_type": "display_data",
          "data": {
            "text/plain": [
              "<Figure size 720x288 with 1 Axes>"
            ],
            "image/png": "[encoded data removed]"
          },
          "metadata": {
            "needs_background": "light"
          }
        }
      ]
    },
    {
      "cell_type": "code",
      "source": [
        "items['len_also_view'].describe()"
      ],
      "metadata": {
        "colab": {
          "base_uri": "https://localhost:8080/"
        },
        "id": "cJGf57p18MfZ",
        "outputId": "3b58f7f6-bc9c-43ad-ea7c-dd891ed4a24a"
      },
      "execution_count": 35,
      "outputs": [
        {
          "output_type": "execute_result",
          "data": {
            "text/plain": [
              "count    2529.000000\n",
              "mean        0.919731\n",
              "std         1.570685\n",
              "min         0.000000\n",
              "25%         0.000000\n",
              "50%         0.000000\n",
              "75%         1.000000\n",
              "max        10.000000\n",
              "Name: len_also_view, dtype: float64"
            ]
          },
          "metadata": {},
          "execution_count": 35
        }
      ]
    },
    {
      "cell_type": "code",
      "source": [
        "items.loc[items['len_also_view'] == 0, 'item_id'].nunique()"
      ],
      "metadata": {
        "colab": {
          "base_uri": "https://localhost:8080/"
        },
        "id": "Pa2UM_w77_eW",
        "outputId": "e4c2d193-afa7-42b9-b634-588a4603e906"
      },
      "execution_count": 36,
      "outputs": [
        {
          "output_type": "execute_result",
          "data": {
            "text/plain": [
              "1546"
            ]
          },
          "metadata": {},
          "execution_count": 36
        }
      ]
    },
    {
      "cell_type": "markdown",
      "source": [
        "#### 2.6.2. Feature  'also_buy'"
      ],
      "metadata": {
        "id": "bb1-2IJdc5ps"
      }
    },
    {
      "cell_type": "code",
      "source": [
        "plt.figure(figsize=(10, 4))\n",
        "plt.title(\"Distribution of the number of items of feature 'also_buy'\")\n",
        "plt.xlabel('len_also_buy')\n",
        "plt.ylabel('number of items')\n",
        "plt.hist(items['len_also_buy'].values, bins=15);"
      ],
      "metadata": {
        "colab": {
          "base_uri": "https://localhost:8080/",
          "height": 296
        },
        "id": "WLdSu6p065EM",
        "outputId": "1b80fce2-f0cd-43d2-b0a3-347d353ee43f"
      },
      "execution_count": 37,
      "outputs": [
        {
          "output_type": "display_data",
          "data": {
            "text/plain": [
              "<Figure size 720x288 with 1 Axes>"
            ],
            "image/png": "[encoded data removed]"
          },
          "metadata": {
            "needs_background": "light"
          }
        }
      ]
    },
    {
      "cell_type": "code",
      "source": [
        "items['len_also_buy'].describe()"
      ],
      "metadata": {
        "colab": {
          "base_uri": "https://localhost:8080/"
        },
        "id": "Nmk2QVTu8c-O",
        "outputId": "f6145435-cc15-4be1-abc1-a7b11ca3fec8"
      },
      "execution_count": 38,
      "outputs": [
        {
          "output_type": "execute_result",
          "data": {
            "text/plain": [
              "count    2529.000000\n",
              "mean        3.245552\n",
              "std         3.179401\n",
              "min         0.000000\n",
              "25%         1.000000\n",
              "50%         2.000000\n",
              "75%         5.000000\n",
              "max        18.000000\n",
              "Name: len_also_buy, dtype: float64"
            ]
          },
          "metadata": {},
          "execution_count": 38
        }
      ]
    },
    {
      "cell_type": "code",
      "source": [
        "items.loc[items['len_also_buy'] == 0, 'item_id'].nunique()"
      ],
      "metadata": {
        "colab": {
          "base_uri": "https://localhost:8080/"
        },
        "id": "S2N_p94b7YSM",
        "outputId": "a41b442e-72f2-41ac-bb16-fa02356b0894"
      },
      "execution_count": 39,
      "outputs": [
        {
          "output_type": "execute_result",
          "data": {
            "text/plain": [
              "591"
            ]
          },
          "metadata": {},
          "execution_count": 39
        }
      ]
    },
    {
      "cell_type": "markdown",
      "source": [
        "#### 2.6.3. Categories"
      ],
      "metadata": {
        "id": "HK7Z9fCluRX9"
      }
    },
    {
      "cell_type": "code",
      "source": [
        "feature = 'main_cat'\n",
        "print(f\"The number of unique categories: {items[feature].nunique()}\\n\")\n",
        "items[feature].value_counts()"
      ],
      "metadata": {
        "colab": {
          "base_uri": "https://localhost:8080/"
        },
        "id": "UU_Nq2Gl_WCE",
        "outputId": "7d7ab557-1566-4045-f421-397381b391a3"
      },
      "execution_count": 40,
      "outputs": [
        {
          "output_type": "stream",
          "name": "stdout",
          "text": [
            "The number of unique categories: 8\n",
            "\n"
          ]
        },
        {
          "output_type": "execute_result",
          "data": {
            "text/plain": [
              "Grocery                    2400\n",
              "Health & Personal Care       89\n",
              "Amazon Home                  22\n",
              "Sports & Outdoors             5\n",
              "Industrial & Scientific       3\n",
              "All Beauty                    3\n",
              "Office Products               2\n",
              "                              1\n",
              "Name: main_cat, dtype: int64"
            ]
          },
          "metadata": {},
          "execution_count": 40
        }
      ]
    },
    {
      "cell_type": "code",
      "source": [
        "feature = 'category_1'\n",
        "print(f\"The number of unique categories: {items[feature].nunique()}\\n\")\n",
        "items[feature].value_counts()"
      ],
      "metadata": {
        "colab": {
          "base_uri": "https://localhost:8080/"
        },
        "id": "lrjZoXV5_pQ2",
        "outputId": "ce3f4554-823b-4be9-c75e-545a05a96803"
      },
      "execution_count": 41,
      "outputs": [
        {
          "output_type": "stream",
          "name": "stdout",
          "text": [
            "The number of unique categories: 24\n",
            "\n"
          ]
        },
        {
          "output_type": "execute_result",
          "data": {
            "text/plain": [
              "Beverages                             731\n",
              "Cooking & Baking                      391\n",
              "Candy & Chocolate                     334\n",
              "Snack Foods                           316\n",
              "Breakfast Foods                       132\n",
              "Herbs, Spices & Seasonings            112\n",
              "Canned, Jarred & Packaged Foods        90\n",
              "Soups, Stocks & Broths                 78\n",
              "Jams, Jellies & Sweet Spreads          53\n",
              "Sauces, Gravies & Marinades            43\n",
              "Produce                                37\n",
              "Dairy, Cheese & Eggs                   32\n",
              "Pasta & Noodles                        29\n",
              "Breads & Bakery                        28\n",
              "Dried Beans, Grains & Rice             27\n",
              "Condiments & Salad Dressings           26\n",
              "Food & Beverage Gifts                  19\n",
              "Olives, Pickles & Relishes             17\n",
              "Meat & Seafood                         16\n",
              "Frozen                                 10\n",
              "Meat Substitutes                        3\n",
              "Fresh Flowers & Live Indoor Plants      3\n",
              "Deli                                    1\n",
              "Prepared Foods                          1\n",
              "Name: category_1, dtype: int64"
            ]
          },
          "metadata": {},
          "execution_count": 41
        }
      ]
    },
    {
      "cell_type": "code",
      "source": [
        "feature = 'category_2'\n",
        "print(f\"The number of unique categories: {items[feature].nunique()}\\n\")\n",
        "items[feature].value_counts()"
      ],
      "metadata": {
        "colab": {
          "base_uri": "https://localhost:8080/"
        },
        "id": "RxiAzVMnPmD0",
        "outputId": "a2fa79d0-d5c1-4a25-8fb5-8bb1f6f0dbc7"
      },
      "execution_count": 42,
      "outputs": [
        {
          "output_type": "stream",
          "name": "stdout",
          "text": [
            "The number of unique categories: 145\n",
            "\n"
          ]
        },
        {
          "output_type": "execute_result",
          "data": {
            "text/plain": [
              "Coffee, Tea & Cocoa                       539\n",
              "Bottled Beverages, Water & Drink Mixes    189\n",
              "Nuts & Seeds                               89\n",
              "Cereals                                    75\n",
              "Jelly Beans & Gummy Candy                  74\n",
              "                                         ... \n",
              "Marmalades                                  1\n",
              "Ice Cream Cones & Toppings                  1\n",
              "Fruit                                       1\n",
              "Lentils                                     1\n",
              "Snack Gifts                                 1\n",
              "Name: category_2, Length: 145, dtype: int64"
            ]
          },
          "metadata": {},
          "execution_count": 42
        }
      ]
    },
    {
      "cell_type": "code",
      "source": [
        "feature = 'category_3'\n",
        "print(f\"The number of unique categories: {items[feature].nunique()}\\n\")\n",
        "items[feature].value_counts()"
      ],
      "metadata": {
        "colab": {
          "base_uri": "https://localhost:8080/"
        },
        "id": "_F4RHKRM_1yC",
        "outputId": "729db0bd-2967-41f4-aa9a-1ea0bc24ab1a"
      },
      "execution_count": 43,
      "outputs": [
        {
          "output_type": "stream",
          "name": "stdout",
          "text": [
            "The number of unique categories: 265\n",
            "\n"
          ]
        },
        {
          "output_type": "execute_result",
          "data": {
            "text/plain": [
              "Coffee           270\n",
              "Tea              247\n",
              "Juices            46\n",
              "Hard Candy        41\n",
              "Oils              40\n",
              "                ... \n",
              "Parmesan           1\n",
              "Sweet Pickles      1\n",
              "Wheat Berries      1\n",
              "Curry Powder       1\n",
              "Breakfast          1\n",
              "Name: category_3, Length: 265, dtype: int64"
            ]
          },
          "metadata": {},
          "execution_count": 43
        }
      ]
    },
    {
      "cell_type": "markdown",
      "source": [
        "#### 2.6.4. Brand"
      ],
      "metadata": {
        "id": "_yPUpv6UvTQO"
      }
    },
    {
      "cell_type": "code",
      "source": [
        "feature = 'brand'\n",
        "print(f\"The number of unique brands: {items[feature].nunique()}\\n\")\n",
        "items[feature].value_counts()"
      ],
      "metadata": {
        "colab": {
          "base_uri": "https://localhost:8080/"
        },
        "id": "K5qyT0uxdhMs",
        "outputId": "5380dad6-630c-4630-ca42-bee62523c0e1"
      },
      "execution_count": 44,
      "outputs": [
        {
          "output_type": "stream",
          "name": "stdout",
          "text": [
            "The number of unique brands: 1273\n",
            "\n"
          ]
        },
        {
          "output_type": "execute_result",
          "data": {
            "text/plain": [
              "Bob's Red Mill                    49\n",
              "Campbell's                        26\n",
              "Stash Tea                         25\n",
              "McCormick                         23\n",
              "Green Mountain Coffee Roasters    20\n",
              "                                  ..\n",
              "Amy & Brian                        1\n",
              "Reily Foods                        1\n",
              "Volcanica Coffee                   1\n",
              "Duchy Originals                    1\n",
              "Wild Soil                          1\n",
              "Name: brand, Length: 1273, dtype: int64"
            ]
          },
          "metadata": {},
          "execution_count": 44
        }
      ]
    },
    {
      "cell_type": "markdown",
      "source": [
        "#### 2.6.5. Ranking group"
      ],
      "metadata": {
        "id": "zS_lyje709WR"
      }
    },
    {
      "cell_type": "code",
      "source": [
        "feature = 'rank_group'\n",
        "print(f\"The number of unique ranking groups: {items[feature].nunique()}\\n\")\n",
        "items[feature].value_counts()"
      ],
      "metadata": {
        "colab": {
          "base_uri": "https://localhost:8080/"
        },
        "id": "IRURfc4WAdWh",
        "outputId": "259df6c5-1f6b-46ec-ed46-085e6f9cb0fa"
      },
      "execution_count": 45,
      "outputs": [
        {
          "output_type": "stream",
          "name": "stdout",
          "text": [
            "The number of unique ranking groups: 11\n",
            "\n"
          ]
        },
        {
          "output_type": "execute_result",
          "data": {
            "text/plain": [
              "Grocery & Gourmet Food                                        2283\n",
              "                                                               122\n",
              "Health & Household                                              88\n",
              "Kitchen & Dining (See Top 100 in Kitchen & Dining)              14\n",
              "Sports & Outdoors                                               12\n",
              "Beauty & Personal Care                                           3\n",
              "Office Products                                                  2\n",
              "Patio, Lawn & Garden (See Top 100 in Patio, Lawn & Garden)       2\n",
              "Tools & Home Improvement                                         1\n",
              "Iced Tea                                                         1\n",
              "Industrial & Scientific                                          1\n",
              "Name: rank_group, dtype: int64"
            ]
          },
          "metadata": {},
          "execution_count": 45
        }
      ]
    },
    {
      "cell_type": "markdown",
      "source": [
        "#### 2.6.6. Item ranks"
      ],
      "metadata": {
        "id": "be5m29EU6c5b"
      }
    },
    {
      "cell_type": "code",
      "source": [
        "plt.figure(figsize=(10, 4))\n",
        "plt.title('Rank distribution')\n",
        "plt.xlabel('rank')\n",
        "plt.ylabel('number of items')\n",
        "plt.hist(items['rank'].values, bins=50);"
      ],
      "metadata": {
        "colab": {
          "base_uri": "https://localhost:8080/",
          "height": 295
        },
        "id": "vVoQey836J8-",
        "outputId": "81454774-22b8-452b-e181-fddd78c31404"
      },
      "execution_count": 46,
      "outputs": [
        {
          "output_type": "display_data",
          "data": {
            "text/plain": [
              "<Figure size 720x288 with 1 Axes>"
            ],
            "image/png": "[encoded data removed]"
          },
          "metadata": {
            "needs_background": "light"
          }
        }
      ]
    },
    {
      "cell_type": "code",
      "source": [
        "items['rank'].describe()"
      ],
      "metadata": {
        "colab": {
          "base_uri": "https://localhost:8080/"
        },
        "id": "iTT0QIWsDfFM",
        "outputId": "b53a603f-ddd2-49af-ce45-c7cd3272ed1f"
      },
      "execution_count": 47,
      "outputs": [
        {
          "output_type": "execute_result",
          "data": {
            "text/plain": [
              "count    2.529000e+03\n",
              "mean     1.018681e+05\n",
              "std      1.492155e+05\n",
              "min      0.000000e+00\n",
              "25%      9.778000e+03\n",
              "50%      4.214700e+04\n",
              "75%      1.356470e+05\n",
              "max      1.559523e+06\n",
              "Name: rank, dtype: float64"
            ]
          },
          "metadata": {},
          "execution_count": 47
        }
      ]
    },
    {
      "cell_type": "code",
      "source": [
        "(items['rank'] == 0).sum()"
      ],
      "metadata": {
        "colab": {
          "base_uri": "https://localhost:8080/"
        },
        "id": "ax2eFI8tRTUW",
        "outputId": "bd180f58-e3c6-47a3-f555-9c3deabc2515"
      },
      "execution_count": 48,
      "outputs": [
        {
          "output_type": "execute_result",
          "data": {
            "text/plain": [
              "122"
            ]
          },
          "metadata": {},
          "execution_count": 48
        }
      ]
    },
    {
      "cell_type": "markdown",
      "source": [
        "## 3. Findings"
      ],
      "metadata": {
        "id": "v7TcQYuLznpM"
      }
    },
    {
      "cell_type": "markdown",
      "source": [
        "1. Top popular items share less than 5.4% of unique users\n",
        "2. There are 1193 top unpopular items with share of unique users of less than 0.045%\n",
        "3. 125 items represet unpopular categories.\n",
        "4. Mean price is 14.8. There are 766 items with no price information. Price of 58 items is higher than 50\n",
        "5. More than 86% of ratings is 5 or 4 and only 6% is 1 or 2.\n",
        "6. Mean length of user reviews is 92 characters, upper quartile starts from 243.\n",
        "7. 1546 of items have no information about items also viewed. Upper quartile starts from 1 item with the maximum of 10.\n",
        "8. 591 of items have no informmation about items also bought. Upper quartile starts from 5 item with the maximum of 18.\n",
        "9. There are 8 main categories. Most of the items are in Grocery.\n",
        "10. There are 24 sub-categories. Top sub-category is Beverages followed by Cooking & Baking, Candy & Chocolate, Snack Foods.\n",
        "11. Top sub-caregory of the 2nd level (out of 145) is Coffee, Tea & Cocoa, \n",
        "12. Top sub-caregory of the 3d level (out of 265) is Coffee followeed by Tea.\n",
        "13. The number of unique brands is 1273. The brand with the highest number of items is Bob's Red Mill.\n",
        "14. There are 11 ranking groups, but most of the items belongs to Grocery & Gourmet Food \n",
        "15. 122 of items have no rank. Mean rank is 42147."
      ],
      "metadata": {
        "id": "s7Cu4SBKzwfJ"
      }
    }
  ]
}