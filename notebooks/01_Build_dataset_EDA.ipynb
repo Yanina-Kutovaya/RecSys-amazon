{
  "nbformat": 4,
  "nbformat_minor": 0,
  "metadata": {
    "colab": {
      "provenance": [],
      "toc_visible": true,
      "authorship_tag": "ABX9TyNA2pcVuw/GqSqLlXPRkACP",
      "include_colab_link": true
    },
    "kernelspec": {
      "name": "python3",
      "display_name": "Python 3"
    },
    "language_info": {
      "name": "python"
    },
    "gpuClass": "standard"
  },
  "cells": [
    {
      "cell_type": "markdown",
      "metadata": {
        "id": "view-in-github",
        "colab_type": "text"
      },
      "source": [
        "<a href=\"https://colab.research.google.com/github/Yanina-Kutovaya/RecSys-amazon/blob/main/notebooks/01_Build_dataset_EDA.ipynb\" target=\"_parent\"><img src=\"https://colab.research.google.com/assets/colab-badge.svg\" alt=\"Open In Colab\"/></a>"
      ]
    },
    {
      "cell_type": "markdown",
      "source": [
        "# Recommender system Amazon - Grocery and Gourmet Food\n",
        "\n",
        "## Build dataset, EDA\n",
        "\n",
        "[Data source](https://nijianmo.github.io/amazon/index.html)"
      ],
      "metadata": {
        "id": "gSwJ5U324j1A"
      }
    },
    {
      "cell_type": "code",
      "source": [
        "#!git clone https://github.com/Yanina-Kutovaya/RecSys-amazon.git"
      ],
      "metadata": {
        "id": "maOOnX3xsL4a"
      },
      "execution_count": 1,
      "outputs": []
    },
    {
      "cell_type": "code",
      "source": [
        "from google.colab import drive\n",
        "drive.mount('/content/drive')"
      ],
      "metadata": {
        "colab": {
          "base_uri": "https://localhost:8080/"
        },
        "id": "3Jb2wigrsPBT",
        "outputId": "bbd9cf3b-69f3-494f-b971-89a6bf917f0a"
      },
      "execution_count": 2,
      "outputs": [
        {
          "output_type": "stream",
          "name": "stdout",
          "text": [
            "Drive already mounted at /content/drive; to attempt to forcibly remount, call drive.mount(\"/content/drive\", force_remount=True).\n"
          ]
        }
      ]
    },
    {
      "cell_type": "code",
      "source": [
        "#!wget -q -P /content/RecSys-amazon/data/01_raw https://jmcauley.ucsd.edu/data/amazon_v2/categoryFilesSmall/Grocery_and_Gourmet_Food.csv --no-check-certificate\n",
        "#!wget -q -P /content/RecSys-amazon/data/01_raw https://jmcauley.ucsd.edu/data/amazon_v2/categoryFilesSmall/Grocery_and_Gourmet_Food_5.json.gz --no-check-certificate\n",
        "#!cp /content/drive/MyDrive/OTUS_ML_advanced/06_RecSys/amazon/meta_Grocery_and_Gourmet_Food.json.gz /content/RecSys-amazon/data/01_raw/"
      ],
      "metadata": {
        "id": "5FO4FkDFsW0O"
      },
      "execution_count": 3,
      "outputs": []
    },
    {
      "cell_type": "code",
      "source": [
        "%cd RecSys-amazon"
      ],
      "metadata": {
        "colab": {
          "base_uri": "https://localhost:8080/"
        },
        "id": "Ha_MUOYYvvF2",
        "outputId": "633b1458-caf9-4d0d-af5f-95a12aa6da6c"
      },
      "execution_count": 4,
      "outputs": [
        {
          "output_type": "stream",
          "name": "stdout",
          "text": [
            "/content/RecSys-amazon\n"
          ]
        }
      ]
    },
    {
      "cell_type": "code",
      "source": [
        "import sys\n",
        "import os\n",
        "\n",
        "sys.path.append(os.getcwd())\n",
        "sys.path.append(os.path.join(os.getcwd(), \"src\", \"recsys_amazon\"))"
      ],
      "metadata": {
        "id": "Ai_gNYCc9mPM"
      },
      "execution_count": 5,
      "outputs": []
    },
    {
      "cell_type": "code",
      "source": [
        "import pandas as pd\n",
        "import gzip\n",
        "import re\n",
        "import json\n",
        "import matplotlib.pyplot as plt\n",
        "\n",
        "from data.make_dataset import (\n",
        "    load_ratings, \n",
        "    select_users_item_pairs, \n",
        "    add_user_reviews_to_ratings\n",
        ")\n",
        "from data.train_validation_split import time_split\n",
        "from data.item_data import get_items_matadata \n",
        "from data.user_data import get_user_reviews"
      ],
      "metadata": {
        "id": "g2_X9xsbsoa-"
      },
      "execution_count": 6,
      "outputs": []
    },
    {
      "cell_type": "code",
      "source": [
        "import warnings\n",
        "warnings.filterwarnings('ignore')"
      ],
      "metadata": {
        "id": "G94Mwpggsk6u"
      },
      "execution_count": 7,
      "outputs": []
    },
    {
      "cell_type": "code",
      "source": [
        "PATH = \"data/01_raw/\"\n",
        "DATA_PATH = PATH + \"Grocery_and_Gourmet_Food.csv\"\n",
        "ITEM_FEATURES_PATH = PATH + \"meta_Grocery_and_Gourmet_Food.json.gz\"\n",
        "USER_FEATURES_PATH = PATH + \"Grocery_and_Gourmet_Food_5.json.gz\""
      ],
      "metadata": {
        "id": "oxHU-9494lep"
      },
      "execution_count": 8,
      "outputs": []
    },
    {
      "cell_type": "markdown",
      "source": [
        "## 1. Build dataset"
      ],
      "metadata": {
        "id": "VkVaK4vJH6fm"
      }
    },
    {
      "cell_type": "markdown",
      "source": [
        "### 1.1. Ratings data"
      ],
      "metadata": {
        "id": "DybSNcdwtosE"
      }
    },
    {
      "cell_type": "code",
      "source": [
        "data = load_ratings(DATA_PATH)\n",
        "\n",
        "print(f'ratings.shape = {data.shape}\\n')\n",
        "data.head(2)"
      ],
      "metadata": {
        "colab": {
          "base_uri": "https://localhost:8080/",
          "height": 147
        },
        "id": "GBS_7wJg3Qyb",
        "outputId": "dee26da3-c4e6-48eb-c05c-2f9766741446"
      },
      "execution_count": 9,
      "outputs": [
        {
          "output_type": "stream",
          "name": "stdout",
          "text": [
            "ratings.shape = (5074160, 4)\n",
            "\n"
          ]
        },
        {
          "output_type": "execute_result",
          "data": {
            "text/plain": [
              "      item_id         user_id  rating   timestamp\n",
              "0  1888861614   ALP49FBWT4I7V     5.0  1370304000\n",
              "1  1888861614  A1KPIZOCLB9FZ8     4.0  1400803200"
            ],
            "text/html": [
              "\n",
              "  <div id=\"df-6cfb2465-8e71-4ea1-b2b2-b5ea6c50dc90\">\n",
              "    <div class=\"colab-df-container\">\n",
              "      <div>\n",
              "<style scoped>\n",
              "    .dataframe tbody tr th:only-of-type {\n",
              "        vertical-align: middle;\n",
              "    }\n",
              "\n",
              "    .dataframe tbody tr th {\n",
              "        vertical-align: top;\n",
              "    }\n",
              "\n",
              "    .dataframe thead th {\n",
              "        text-align: right;\n",
              "    }\n",
              "</style>\n",
              "<table border=\"1\" class=\"dataframe\">\n",
              "  <thead>\n",
              "    <tr style=\"text-align: right;\">\n",
              "      <th></th>\n",
              "      <th>item_id</th>\n",
              "      <th>user_id</th>\n",
              "      <th>rating</th>\n",
              "      <th>timestamp</th>\n",
              "    </tr>\n",
              "  </thead>\n",
              "  <tbody>\n",
              "    <tr>\n",
              "      <th>0</th>\n",
              "      <td>1888861614</td>\n",
              "      <td>ALP49FBWT4I7V</td>\n",
              "      <td>5.0</td>\n",
              "      <td>1370304000</td>\n",
              "    </tr>\n",
              "    <tr>\n",
              "      <th>1</th>\n",
              "      <td>1888861614</td>\n",
              "      <td>A1KPIZOCLB9FZ8</td>\n",
              "      <td>4.0</td>\n",
              "      <td>1400803200</td>\n",
              "    </tr>\n",
              "  </tbody>\n",
              "</table>\n",
              "</div>\n",
              "      <button class=\"colab-df-convert\" onclick=\"convertToInteractive('df-6cfb2465-8e71-4ea1-b2b2-b5ea6c50dc90')\"\n",
              "              title=\"Convert this dataframe to an interactive table.\"\n",
              "              style=\"display:none;\">\n",
              "        \n",
              "  <svg xmlns=\"http://www.w3.org/2000/svg\" height=\"24px\"viewBox=\"0 0 24 24\"\n",
              "       width=\"24px\">\n",
              "    <path d=\"M0 0h24v24H0V0z\" fill=\"none\"/>\n",
              "    <path d=\"M18.56 5.44l.94 2.06.94-2.06 2.06-.94-2.06-.94-.94-2.06-.94 2.06-2.06.94zm-11 1L8.5 8.5l.94-2.06 2.06-.94-2.06-.94L8.5 2.5l-.94 2.06-2.06.94zm10 10l.94 2.06.94-2.06 2.06-.94-2.06-.94-.94-2.06-.94 2.06-2.06.94z\"/><path d=\"M17.41 7.96l-1.37-1.37c-.4-.4-.92-.59-1.43-.59-.52 0-1.04.2-1.43.59L10.3 9.45l-7.72 7.72c-.78.78-.78 2.05 0 2.83L4 21.41c.39.39.9.59 1.41.59.51 0 1.02-.2 1.41-.59l7.78-7.78 2.81-2.81c.8-.78.8-2.07 0-2.86zM5.41 20L4 18.59l7.72-7.72 1.47 1.35L5.41 20z\"/>\n",
              "  </svg>\n",
              "      </button>\n",
              "      \n",
              "  <style>\n",
              "    .colab-df-container {\n",
              "      display:flex;\n",
              "      flex-wrap:wrap;\n",
              "      gap: 12px;\n",
              "    }\n",
              "\n",
              "    .colab-df-convert {\n",
              "      background-color: #E8F0FE;\n",
              "      border: none;\n",
              "      border-radius: 50%;\n",
              "      cursor: pointer;\n",
              "      display: none;\n",
              "      fill: #1967D2;\n",
              "      height: 32px;\n",
              "      padding: 0 0 0 0;\n",
              "      width: 32px;\n",
              "    }\n",
              "\n",
              "    .colab-df-convert:hover {\n",
              "      background-color: #E2EBFA;\n",
              "      box-shadow: 0px 1px 2px rgba(60, 64, 67, 0.3), 0px 1px 3px 1px rgba(60, 64, 67, 0.15);\n",
              "      fill: #174EA6;\n",
              "    }\n",
              "\n",
              "    [theme=dark] .colab-df-convert {\n",
              "      background-color: #3B4455;\n",
              "      fill: #D2E3FC;\n",
              "    }\n",
              "\n",
              "    [theme=dark] .colab-df-convert:hover {\n",
              "      background-color: #434B5C;\n",
              "      box-shadow: 0px 1px 3px 1px rgba(0, 0, 0, 0.15);\n",
              "      filter: drop-shadow(0px 1px 2px rgba(0, 0, 0, 0.3));\n",
              "      fill: #FFFFFF;\n",
              "    }\n",
              "  </style>\n",
              "\n",
              "      <script>\n",
              "        const buttonEl =\n",
              "          document.querySelector('#df-6cfb2465-8e71-4ea1-b2b2-b5ea6c50dc90 button.colab-df-convert');\n",
              "        buttonEl.style.display =\n",
              "          google.colab.kernel.accessAllowed ? 'block' : 'none';\n",
              "\n",
              "        async function convertToInteractive(key) {\n",
              "          const element = document.querySelector('#df-6cfb2465-8e71-4ea1-b2b2-b5ea6c50dc90');\n",
              "          const dataTable =\n",
              "            await google.colab.kernel.invokeFunction('convertToInteractive',\n",
              "                                                     [key], {});\n",
              "          if (!dataTable) return;\n",
              "\n",
              "          const docLinkHtml = 'Like what you see? Visit the ' +\n",
              "            '<a target=\"_blank\" href=https://colab.research.google.com/notebooks/data_table.ipynb>data table notebook</a>'\n",
              "            + ' to learn more about interactive tables.';\n",
              "          element.innerHTML = '';\n",
              "          dataTable['output_type'] = 'display_data';\n",
              "          await google.colab.output.renderOutput(dataTable, element);\n",
              "          const docLink = document.createElement('div');\n",
              "          docLink.innerHTML = docLinkHtml;\n",
              "          element.appendChild(docLink);\n",
              "        }\n",
              "      </script>\n",
              "    </div>\n",
              "  </div>\n",
              "  "
            ]
          },
          "metadata": {},
          "execution_count": 9
        }
      ]
    },
    {
      "cell_type": "markdown",
      "source": [
        "#### 1.1.1. Collected data time period"
      ],
      "metadata": {
        "id": "TldgT6IM78Al"
      }
    },
    {
      "cell_type": "code",
      "source": [
        "n_years = (\n",
        "    data['timestamp'].max() - data['timestamp'].min()\n",
        ") / 3600 / 24 // 365\n",
        "print(f'Data is collected for {int(n_years)} years')"
      ],
      "metadata": {
        "colab": {
          "base_uri": "https://localhost:8080/"
        },
        "id": "XJGfF4Rh7866",
        "outputId": "89000b39-ea9f-4555-85ba-a5980b525917"
      },
      "execution_count": 10,
      "outputs": [
        {
          "output_type": "stream",
          "name": "stdout",
          "text": [
            "Data is collected for 18 years\n"
          ]
        }
      ]
    },
    {
      "cell_type": "markdown",
      "source": [
        "#### 1.1.2. Select users-item pairs\n",
        "\n",
        "Selects users who rated at least 3 items and items rated by at least 2 useres"
      ],
      "metadata": {
        "id": "SMPHiNGM8MLq"
      }
    },
    {
      "cell_type": "code",
      "source": [
        "user_ids, item_ids = select_users_item_pairs(data)\n",
        "len(user_ids), len(item_ids )"
      ],
      "metadata": {
        "colab": {
          "base_uri": "https://localhost:8080/"
        },
        "id": "ZTIZ3u9U8JEW",
        "outputId": "dcbd2aaf-2c49-4922-993a-862fd65df907"
      },
      "execution_count": 11,
      "outputs": [
        {
          "output_type": "execute_result",
          "data": {
            "text/plain": [
              "(4372, 6632)"
            ]
          },
          "metadata": {},
          "execution_count": 11
        }
      ]
    },
    {
      "cell_type": "markdown",
      "source": [
        "### 1.2. Train-validation-test time split for two-stage recommender system."
      ],
      "metadata": {
        "id": "H6coEdnX9A3r"
      }
    },
    {
      "cell_type": "markdown",
      "source": [
        "    Train - validation - test schema:\n",
        "    -- 5 years -- | -- 2 years -- | -- 1 year --\n",
        "\n",
        "    For the 1st level model we use 5-years data for train and 2-years data for validation.\n",
        "    For the 2nd level mmodel we use 2-years data for train and 1-year - for validation.\n",
        "    Validation data for the 1st levl model serves as train data for the 2nd level model."
      ],
      "metadata": {
        "id": "gsqsRAfn8ydn"
      }
    },
    {
      "cell_type": "code",
      "source": [
        "year = 365 * 24 * 3600\n",
        "t2 = data[\"timestamp\"].max() - year\n",
        "t1 = t2 - 2 * year\n",
        "t0 = t1 - 5 * year\n",
        "\n",
        "(\n",
        "    selected_users,\n",
        "    selected_items,\n",
        "    data_train_lvl_1,\n",
        "    data_val_lvl_1,\n",
        "    data_val_lvl_2,\n",
        ") = time_split(t0, t1, t2, user_ids, item_ids, data)"
      ],
      "metadata": {
        "id": "rebZ3wMf8qpd"
      },
      "execution_count": 12,
      "outputs": []
    },
    {
      "cell_type": "code",
      "source": [
        "len(selected_users), len(selected_items)"
      ],
      "metadata": {
        "colab": {
          "base_uri": "https://localhost:8080/"
        },
        "id": "sYZlqvmQGrF0",
        "outputId": "8a519a27-73b3-498e-c406-c2772df62240"
      },
      "execution_count": 13,
      "outputs": [
        {
          "output_type": "execute_result",
          "data": {
            "text/plain": [
              "(2047, 2533)"
            ]
          },
          "metadata": {},
          "execution_count": 13
        }
      ]
    },
    {
      "cell_type": "code",
      "source": [
        "print(f'ratings.shape = {data_train_lvl_1.shape}\\n')\n",
        "data_train_lvl_1.head(2)"
      ],
      "metadata": {
        "colab": {
          "base_uri": "https://localhost:8080/",
          "height": 147
        },
        "id": "RVU-8vMN-TYO",
        "outputId": "8642f063-f8f2-4fa0-afb0-59273b041d1c"
      },
      "execution_count": 14,
      "outputs": [
        {
          "output_type": "stream",
          "name": "stdout",
          "text": [
            "ratings.shape = (10241, 4)\n",
            "\n"
          ]
        },
        {
          "output_type": "execute_result",
          "data": {
            "text/plain": [
              "         item_id        user_id  rating   timestamp\n",
              "1048  B00005BPQ9  A2XCLJRGFANRC     5.0  1425168000\n",
              "1061  B00005BPQ9  AHKXYQ7TP6REK     4.0  1419206400"
            ],
            "text/html": [
              "\n",
              "  <div id=\"df-0c1e06e7-7f7e-431f-a5a2-bfd7c7cfd3de\">\n",
              "    <div class=\"colab-df-container\">\n",
              "      <div>\n",
              "<style scoped>\n",
              "    .dataframe tbody tr th:only-of-type {\n",
              "        vertical-align: middle;\n",
              "    }\n",
              "\n",
              "    .dataframe tbody tr th {\n",
              "        vertical-align: top;\n",
              "    }\n",
              "\n",
              "    .dataframe thead th {\n",
              "        text-align: right;\n",
              "    }\n",
              "</style>\n",
              "<table border=\"1\" class=\"dataframe\">\n",
              "  <thead>\n",
              "    <tr style=\"text-align: right;\">\n",
              "      <th></th>\n",
              "      <th>item_id</th>\n",
              "      <th>user_id</th>\n",
              "      <th>rating</th>\n",
              "      <th>timestamp</th>\n",
              "    </tr>\n",
              "  </thead>\n",
              "  <tbody>\n",
              "    <tr>\n",
              "      <th>1048</th>\n",
              "      <td>B00005BPQ9</td>\n",
              "      <td>A2XCLJRGFANRC</td>\n",
              "      <td>5.0</td>\n",
              "      <td>1425168000</td>\n",
              "    </tr>\n",
              "    <tr>\n",
              "      <th>1061</th>\n",
              "      <td>B00005BPQ9</td>\n",
              "      <td>AHKXYQ7TP6REK</td>\n",
              "      <td>4.0</td>\n",
              "      <td>1419206400</td>\n",
              "    </tr>\n",
              "  </tbody>\n",
              "</table>\n",
              "</div>\n",
              "      <button class=\"colab-df-convert\" onclick=\"convertToInteractive('df-0c1e06e7-7f7e-431f-a5a2-bfd7c7cfd3de')\"\n",
              "              title=\"Convert this dataframe to an interactive table.\"\n",
              "              style=\"display:none;\">\n",
              "        \n",
              "  <svg xmlns=\"http://www.w3.org/2000/svg\" height=\"24px\"viewBox=\"0 0 24 24\"\n",
              "       width=\"24px\">\n",
              "    <path d=\"M0 0h24v24H0V0z\" fill=\"none\"/>\n",
              "    <path d=\"M18.56 5.44l.94 2.06.94-2.06 2.06-.94-2.06-.94-.94-2.06-.94 2.06-2.06.94zm-11 1L8.5 8.5l.94-2.06 2.06-.94-2.06-.94L8.5 2.5l-.94 2.06-2.06.94zm10 10l.94 2.06.94-2.06 2.06-.94-2.06-.94-.94-2.06-.94 2.06-2.06.94z\"/><path d=\"M17.41 7.96l-1.37-1.37c-.4-.4-.92-.59-1.43-.59-.52 0-1.04.2-1.43.59L10.3 9.45l-7.72 7.72c-.78.78-.78 2.05 0 2.83L4 21.41c.39.39.9.59 1.41.59.51 0 1.02-.2 1.41-.59l7.78-7.78 2.81-2.81c.8-.78.8-2.07 0-2.86zM5.41 20L4 18.59l7.72-7.72 1.47 1.35L5.41 20z\"/>\n",
              "  </svg>\n",
              "      </button>\n",
              "      \n",
              "  <style>\n",
              "    .colab-df-container {\n",
              "      display:flex;\n",
              "      flex-wrap:wrap;\n",
              "      gap: 12px;\n",
              "    }\n",
              "\n",
              "    .colab-df-convert {\n",
              "      background-color: #E8F0FE;\n",
              "      border: none;\n",
              "      border-radius: 50%;\n",
              "      cursor: pointer;\n",
              "      display: none;\n",
              "      fill: #1967D2;\n",
              "      height: 32px;\n",
              "      padding: 0 0 0 0;\n",
              "      width: 32px;\n",
              "    }\n",
              "\n",
              "    .colab-df-convert:hover {\n",
              "      background-color: #E2EBFA;\n",
              "      box-shadow: 0px 1px 2px rgba(60, 64, 67, 0.3), 0px 1px 3px 1px rgba(60, 64, 67, 0.15);\n",
              "      fill: #174EA6;\n",
              "    }\n",
              "\n",
              "    [theme=dark] .colab-df-convert {\n",
              "      background-color: #3B4455;\n",
              "      fill: #D2E3FC;\n",
              "    }\n",
              "\n",
              "    [theme=dark] .colab-df-convert:hover {\n",
              "      background-color: #434B5C;\n",
              "      box-shadow: 0px 1px 3px 1px rgba(0, 0, 0, 0.15);\n",
              "      filter: drop-shadow(0px 1px 2px rgba(0, 0, 0, 0.3));\n",
              "      fill: #FFFFFF;\n",
              "    }\n",
              "  </style>\n",
              "\n",
              "      <script>\n",
              "        const buttonEl =\n",
              "          document.querySelector('#df-0c1e06e7-7f7e-431f-a5a2-bfd7c7cfd3de button.colab-df-convert');\n",
              "        buttonEl.style.display =\n",
              "          google.colab.kernel.accessAllowed ? 'block' : 'none';\n",
              "\n",
              "        async function convertToInteractive(key) {\n",
              "          const element = document.querySelector('#df-0c1e06e7-7f7e-431f-a5a2-bfd7c7cfd3de');\n",
              "          const dataTable =\n",
              "            await google.colab.kernel.invokeFunction('convertToInteractive',\n",
              "                                                     [key], {});\n",
              "          if (!dataTable) return;\n",
              "\n",
              "          const docLinkHtml = 'Like what you see? Visit the ' +\n",
              "            '<a target=\"_blank\" href=https://colab.research.google.com/notebooks/data_table.ipynb>data table notebook</a>'\n",
              "            + ' to learn more about interactive tables.';\n",
              "          element.innerHTML = '';\n",
              "          dataTable['output_type'] = 'display_data';\n",
              "          await google.colab.output.renderOutput(dataTable, element);\n",
              "          const docLink = document.createElement('div');\n",
              "          docLink.innerHTML = docLinkHtml;\n",
              "          element.appendChild(docLink);\n",
              "        }\n",
              "      </script>\n",
              "    </div>\n",
              "  </div>\n",
              "  "
            ]
          },
          "metadata": {},
          "execution_count": 14
        }
      ]
    },
    {
      "cell_type": "code",
      "source": [
        "print(f'ratings.shape = {data_val_lvl_1.shape}\\n')\n",
        "data_val_lvl_1.head(2)"
      ],
      "metadata": {
        "colab": {
          "base_uri": "https://localhost:8080/",
          "height": 147
        },
        "id": "muDDfZnJ-WAF",
        "outputId": "28a1643f-d29f-45d3-e3d8-adced0fa829f"
      },
      "execution_count": 15,
      "outputs": [
        {
          "output_type": "stream",
          "name": "stdout",
          "text": [
            "ratings.shape = (10445, 4)\n",
            "\n"
          ]
        },
        {
          "output_type": "execute_result",
          "data": {
            "text/plain": [
              "         item_id         user_id  rating   timestamp\n",
              "1025  B00005BPQ9  A3TH42PC3EZV1B     4.0  1445558400\n",
              "1462  B00006FMLY   A8CGWGJ9OM58J     5.0  1455753600"
            ],
            "text/html": [
              "\n",
              "  <div id=\"df-5ae6afd0-d33c-4471-852f-d391dbe9e5d6\">\n",
              "    <div class=\"colab-df-container\">\n",
              "      <div>\n",
              "<style scoped>\n",
              "    .dataframe tbody tr th:only-of-type {\n",
              "        vertical-align: middle;\n",
              "    }\n",
              "\n",
              "    .dataframe tbody tr th {\n",
              "        vertical-align: top;\n",
              "    }\n",
              "\n",
              "    .dataframe thead th {\n",
              "        text-align: right;\n",
              "    }\n",
              "</style>\n",
              "<table border=\"1\" class=\"dataframe\">\n",
              "  <thead>\n",
              "    <tr style=\"text-align: right;\">\n",
              "      <th></th>\n",
              "      <th>item_id</th>\n",
              "      <th>user_id</th>\n",
              "      <th>rating</th>\n",
              "      <th>timestamp</th>\n",
              "    </tr>\n",
              "  </thead>\n",
              "  <tbody>\n",
              "    <tr>\n",
              "      <th>1025</th>\n",
              "      <td>B00005BPQ9</td>\n",
              "      <td>A3TH42PC3EZV1B</td>\n",
              "      <td>4.0</td>\n",
              "      <td>1445558400</td>\n",
              "    </tr>\n",
              "    <tr>\n",
              "      <th>1462</th>\n",
              "      <td>B00006FMLY</td>\n",
              "      <td>A8CGWGJ9OM58J</td>\n",
              "      <td>5.0</td>\n",
              "      <td>1455753600</td>\n",
              "    </tr>\n",
              "  </tbody>\n",
              "</table>\n",
              "</div>\n",
              "      <button class=\"colab-df-convert\" onclick=\"convertToInteractive('df-5ae6afd0-d33c-4471-852f-d391dbe9e5d6')\"\n",
              "              title=\"Convert this dataframe to an interactive table.\"\n",
              "              style=\"display:none;\">\n",
              "        \n",
              "  <svg xmlns=\"http://www.w3.org/2000/svg\" height=\"24px\"viewBox=\"0 0 24 24\"\n",
              "       width=\"24px\">\n",
              "    <path d=\"M0 0h24v24H0V0z\" fill=\"none\"/>\n",
              "    <path d=\"M18.56 5.44l.94 2.06.94-2.06 2.06-.94-2.06-.94-.94-2.06-.94 2.06-2.06.94zm-11 1L8.5 8.5l.94-2.06 2.06-.94-2.06-.94L8.5 2.5l-.94 2.06-2.06.94zm10 10l.94 2.06.94-2.06 2.06-.94-2.06-.94-.94-2.06-.94 2.06-2.06.94z\"/><path d=\"M17.41 7.96l-1.37-1.37c-.4-.4-.92-.59-1.43-.59-.52 0-1.04.2-1.43.59L10.3 9.45l-7.72 7.72c-.78.78-.78 2.05 0 2.83L4 21.41c.39.39.9.59 1.41.59.51 0 1.02-.2 1.41-.59l7.78-7.78 2.81-2.81c.8-.78.8-2.07 0-2.86zM5.41 20L4 18.59l7.72-7.72 1.47 1.35L5.41 20z\"/>\n",
              "  </svg>\n",
              "      </button>\n",
              "      \n",
              "  <style>\n",
              "    .colab-df-container {\n",
              "      display:flex;\n",
              "      flex-wrap:wrap;\n",
              "      gap: 12px;\n",
              "    }\n",
              "\n",
              "    .colab-df-convert {\n",
              "      background-color: #E8F0FE;\n",
              "      border: none;\n",
              "      border-radius: 50%;\n",
              "      cursor: pointer;\n",
              "      display: none;\n",
              "      fill: #1967D2;\n",
              "      height: 32px;\n",
              "      padding: 0 0 0 0;\n",
              "      width: 32px;\n",
              "    }\n",
              "\n",
              "    .colab-df-convert:hover {\n",
              "      background-color: #E2EBFA;\n",
              "      box-shadow: 0px 1px 2px rgba(60, 64, 67, 0.3), 0px 1px 3px 1px rgba(60, 64, 67, 0.15);\n",
              "      fill: #174EA6;\n",
              "    }\n",
              "\n",
              "    [theme=dark] .colab-df-convert {\n",
              "      background-color: #3B4455;\n",
              "      fill: #D2E3FC;\n",
              "    }\n",
              "\n",
              "    [theme=dark] .colab-df-convert:hover {\n",
              "      background-color: #434B5C;\n",
              "      box-shadow: 0px 1px 3px 1px rgba(0, 0, 0, 0.15);\n",
              "      filter: drop-shadow(0px 1px 2px rgba(0, 0, 0, 0.3));\n",
              "      fill: #FFFFFF;\n",
              "    }\n",
              "  </style>\n",
              "\n",
              "      <script>\n",
              "        const buttonEl =\n",
              "          document.querySelector('#df-5ae6afd0-d33c-4471-852f-d391dbe9e5d6 button.colab-df-convert');\n",
              "        buttonEl.style.display =\n",
              "          google.colab.kernel.accessAllowed ? 'block' : 'none';\n",
              "\n",
              "        async function convertToInteractive(key) {\n",
              "          const element = document.querySelector('#df-5ae6afd0-d33c-4471-852f-d391dbe9e5d6');\n",
              "          const dataTable =\n",
              "            await google.colab.kernel.invokeFunction('convertToInteractive',\n",
              "                                                     [key], {});\n",
              "          if (!dataTable) return;\n",
              "\n",
              "          const docLinkHtml = 'Like what you see? Visit the ' +\n",
              "            '<a target=\"_blank\" href=https://colab.research.google.com/notebooks/data_table.ipynb>data table notebook</a>'\n",
              "            + ' to learn more about interactive tables.';\n",
              "          element.innerHTML = '';\n",
              "          dataTable['output_type'] = 'display_data';\n",
              "          await google.colab.output.renderOutput(dataTable, element);\n",
              "          const docLink = document.createElement('div');\n",
              "          docLink.innerHTML = docLinkHtml;\n",
              "          element.appendChild(docLink);\n",
              "        }\n",
              "      </script>\n",
              "    </div>\n",
              "  </div>\n",
              "  "
            ]
          },
          "metadata": {},
          "execution_count": 15
        }
      ]
    },
    {
      "cell_type": "code",
      "source": [
        "print(f'ratings.shape = {data_val_lvl_2.shape}\\n')\n",
        "data_val_lvl_2.head(2)"
      ],
      "metadata": {
        "colab": {
          "base_uri": "https://localhost:8080/",
          "height": 147
        },
        "id": "5_Xv9WCK-aFM",
        "outputId": "e5c3303c-889a-4be4-f063-ff84709a7f6b"
      },
      "execution_count": 16,
      "outputs": [
        {
          "output_type": "stream",
          "name": "stdout",
          "text": [
            "ratings.shape = (2054, 4)\n",
            "\n"
          ]
        },
        {
          "output_type": "execute_result",
          "data": {
            "text/plain": [
              "         item_id         user_id  rating   timestamp\n",
              "7747  B0000D916Y  A1STWKVUMXNZAB     3.0  1524096000\n",
              "8040  B0000D916Y  A2RI05C8BVQIWB     4.0  1513468800"
            ],
            "text/html": [
              "\n",
              "  <div id=\"df-874bc59c-c56e-4523-92a5-fc98cc3169c3\">\n",
              "    <div class=\"colab-df-container\">\n",
              "      <div>\n",
              "<style scoped>\n",
              "    .dataframe tbody tr th:only-of-type {\n",
              "        vertical-align: middle;\n",
              "    }\n",
              "\n",
              "    .dataframe tbody tr th {\n",
              "        vertical-align: top;\n",
              "    }\n",
              "\n",
              "    .dataframe thead th {\n",
              "        text-align: right;\n",
              "    }\n",
              "</style>\n",
              "<table border=\"1\" class=\"dataframe\">\n",
              "  <thead>\n",
              "    <tr style=\"text-align: right;\">\n",
              "      <th></th>\n",
              "      <th>item_id</th>\n",
              "      <th>user_id</th>\n",
              "      <th>rating</th>\n",
              "      <th>timestamp</th>\n",
              "    </tr>\n",
              "  </thead>\n",
              "  <tbody>\n",
              "    <tr>\n",
              "      <th>7747</th>\n",
              "      <td>B0000D916Y</td>\n",
              "      <td>A1STWKVUMXNZAB</td>\n",
              "      <td>3.0</td>\n",
              "      <td>1524096000</td>\n",
              "    </tr>\n",
              "    <tr>\n",
              "      <th>8040</th>\n",
              "      <td>B0000D916Y</td>\n",
              "      <td>A2RI05C8BVQIWB</td>\n",
              "      <td>4.0</td>\n",
              "      <td>1513468800</td>\n",
              "    </tr>\n",
              "  </tbody>\n",
              "</table>\n",
              "</div>\n",
              "      <button class=\"colab-df-convert\" onclick=\"convertToInteractive('df-874bc59c-c56e-4523-92a5-fc98cc3169c3')\"\n",
              "              title=\"Convert this dataframe to an interactive table.\"\n",
              "              style=\"display:none;\">\n",
              "        \n",
              "  <svg xmlns=\"http://www.w3.org/2000/svg\" height=\"24px\"viewBox=\"0 0 24 24\"\n",
              "       width=\"24px\">\n",
              "    <path d=\"M0 0h24v24H0V0z\" fill=\"none\"/>\n",
              "    <path d=\"M18.56 5.44l.94 2.06.94-2.06 2.06-.94-2.06-.94-.94-2.06-.94 2.06-2.06.94zm-11 1L8.5 8.5l.94-2.06 2.06-.94-2.06-.94L8.5 2.5l-.94 2.06-2.06.94zm10 10l.94 2.06.94-2.06 2.06-.94-2.06-.94-.94-2.06-.94 2.06-2.06.94z\"/><path d=\"M17.41 7.96l-1.37-1.37c-.4-.4-.92-.59-1.43-.59-.52 0-1.04.2-1.43.59L10.3 9.45l-7.72 7.72c-.78.78-.78 2.05 0 2.83L4 21.41c.39.39.9.59 1.41.59.51 0 1.02-.2 1.41-.59l7.78-7.78 2.81-2.81c.8-.78.8-2.07 0-2.86zM5.41 20L4 18.59l7.72-7.72 1.47 1.35L5.41 20z\"/>\n",
              "  </svg>\n",
              "      </button>\n",
              "      \n",
              "  <style>\n",
              "    .colab-df-container {\n",
              "      display:flex;\n",
              "      flex-wrap:wrap;\n",
              "      gap: 12px;\n",
              "    }\n",
              "\n",
              "    .colab-df-convert {\n",
              "      background-color: #E8F0FE;\n",
              "      border: none;\n",
              "      border-radius: 50%;\n",
              "      cursor: pointer;\n",
              "      display: none;\n",
              "      fill: #1967D2;\n",
              "      height: 32px;\n",
              "      padding: 0 0 0 0;\n",
              "      width: 32px;\n",
              "    }\n",
              "\n",
              "    .colab-df-convert:hover {\n",
              "      background-color: #E2EBFA;\n",
              "      box-shadow: 0px 1px 2px rgba(60, 64, 67, 0.3), 0px 1px 3px 1px rgba(60, 64, 67, 0.15);\n",
              "      fill: #174EA6;\n",
              "    }\n",
              "\n",
              "    [theme=dark] .colab-df-convert {\n",
              "      background-color: #3B4455;\n",
              "      fill: #D2E3FC;\n",
              "    }\n",
              "\n",
              "    [theme=dark] .colab-df-convert:hover {\n",
              "      background-color: #434B5C;\n",
              "      box-shadow: 0px 1px 3px 1px rgba(0, 0, 0, 0.15);\n",
              "      filter: drop-shadow(0px 1px 2px rgba(0, 0, 0, 0.3));\n",
              "      fill: #FFFFFF;\n",
              "    }\n",
              "  </style>\n",
              "\n",
              "      <script>\n",
              "        const buttonEl =\n",
              "          document.querySelector('#df-874bc59c-c56e-4523-92a5-fc98cc3169c3 button.colab-df-convert');\n",
              "        buttonEl.style.display =\n",
              "          google.colab.kernel.accessAllowed ? 'block' : 'none';\n",
              "\n",
              "        async function convertToInteractive(key) {\n",
              "          const element = document.querySelector('#df-874bc59c-c56e-4523-92a5-fc98cc3169c3');\n",
              "          const dataTable =\n",
              "            await google.colab.kernel.invokeFunction('convertToInteractive',\n",
              "                                                     [key], {});\n",
              "          if (!dataTable) return;\n",
              "\n",
              "          const docLinkHtml = 'Like what you see? Visit the ' +\n",
              "            '<a target=\"_blank\" href=https://colab.research.google.com/notebooks/data_table.ipynb>data table notebook</a>'\n",
              "            + ' to learn more about interactive tables.';\n",
              "          element.innerHTML = '';\n",
              "          dataTable['output_type'] = 'display_data';\n",
              "          await google.colab.output.renderOutput(dataTable, element);\n",
              "          const docLink = document.createElement('div');\n",
              "          docLink.innerHTML = docLinkHtml;\n",
              "          element.appendChild(docLink);\n",
              "        }\n",
              "      </script>\n",
              "    </div>\n",
              "  </div>\n",
              "  "
            ]
          },
          "metadata": {},
          "execution_count": 16
        }
      ]
    },
    {
      "cell_type": "markdown",
      "source": [
        "### 1.3. Items matadata"
      ],
      "metadata": {
        "id": "g0tb1xCT_kpK"
      }
    },
    {
      "cell_type": "code",
      "source": [
        "items = get_items_matadata(selected_items, ITEM_FEATURES_PATH)\n",
        "\n",
        "print(f'items.shape = {items.shape}\\n')\n",
        "items.head(3)"
      ],
      "metadata": {
        "colab": {
          "base_uri": "https://localhost:8080/",
          "height": 430
        },
        "id": "8Hpc6X8FI5i2",
        "outputId": "78b63dd7-1d42-4de7-9368-fc917e3258a9"
      },
      "execution_count": 17,
      "outputs": [
        {
          "output_type": "stream",
          "name": "stdout",
          "text": [
            "items.shape = (2529, 15)\n",
            "\n"
          ]
        },
        {
          "output_type": "execute_result",
          "data": {
            "text/plain": [
              "      item_id  price     main_cat         category_1  \\\n",
              "0  B00005BPQ9   0.00      Grocery  Candy & Chocolate   \n",
              "1  B00006FMLY  10.41  Amazon Home   Cooking & Baking   \n",
              "2  B00006FWVX   6.30  Amazon Home   Cooking & Baking   \n",
              "\n",
              "                      category_2     brand      rank  \\\n",
              "0  Candy & Chocolate Assortments  Whoppers  413552.0   \n",
              "1  Frosting, Icing & Decorations    Wilton   13984.0   \n",
              "2                  Food Coloring    Wilton    9512.0   \n",
              "\n",
              "                                          rank_group  \\\n",
              "0                             Grocery & Gourmet Food   \n",
              "1  Kitchen & Dining (See Top 100 in Kitchen & Din...   \n",
              "2  Kitchen & Dining (See Top 100 in Kitchen & Din...   \n",
              "\n",
              "                                               title  \\\n",
              "0  WHOPPERS Candy (Chocolate Covered Malted Milk ...   \n",
              "1  Wilton Jimmies Rainbow Sprinkle Assortment, 3....   \n",
              "2  Wilton Candy Decorating Primary Colors Set, 1 oz.   \n",
              "\n",
              "                                         description  len_also_view  \\\n",
              "0  WHOPPERS Malted Milk Balls are the classic con...            2.0   \n",
              "1  Sprinkle your treats with sweet color using th...            0.0   \n",
              "2  Can't find candy to match your party theme? Co...            1.0   \n",
              "\n",
              "                      also_view  len_also_buy  \\\n",
              "0  ['B0016G1H8G', 'B0029JVUAE']          14.0   \n",
              "1                            []           0.0   \n",
              "2                ['B0061TXUNS']           0.0   \n",
              "\n",
              "                                            also_buy            category_3  \n",
              "0  ['B0029JVUAE', 'B00374XTQI', 'B000IXUK2W', 'B0...                   NaN  \n",
              "1                                                 []  Sprinkles & Glitters  \n",
              "2                                                 []                   NaN  "
            ],
            "text/html": [
              "\n",
              "  <div id=\"df-8aa3a01d-15e6-4099-9209-864881a03f6c\">\n",
              "    <div class=\"colab-df-container\">\n",
              "      <div>\n",
              "<style scoped>\n",
              "    .dataframe tbody tr th:only-of-type {\n",
              "        vertical-align: middle;\n",
              "    }\n",
              "\n",
              "    .dataframe tbody tr th {\n",
              "        vertical-align: top;\n",
              "    }\n",
              "\n",
              "    .dataframe thead th {\n",
              "        text-align: right;\n",
              "    }\n",
              "</style>\n",
              "<table border=\"1\" class=\"dataframe\">\n",
              "  <thead>\n",
              "    <tr style=\"text-align: right;\">\n",
              "      <th></th>\n",
              "      <th>item_id</th>\n",
              "      <th>price</th>\n",
              "      <th>main_cat</th>\n",
              "      <th>category_1</th>\n",
              "      <th>category_2</th>\n",
              "      <th>brand</th>\n",
              "      <th>rank</th>\n",
              "      <th>rank_group</th>\n",
              "      <th>title</th>\n",
              "      <th>description</th>\n",
              "      <th>len_also_view</th>\n",
              "      <th>also_view</th>\n",
              "      <th>len_also_buy</th>\n",
              "      <th>also_buy</th>\n",
              "      <th>category_3</th>\n",
              "    </tr>\n",
              "  </thead>\n",
              "  <tbody>\n",
              "    <tr>\n",
              "      <th>0</th>\n",
              "      <td>B00005BPQ9</td>\n",
              "      <td>0.00</td>\n",
              "      <td>Grocery</td>\n",
              "      <td>Candy &amp; Chocolate</td>\n",
              "      <td>Candy &amp; Chocolate Assortments</td>\n",
              "      <td>Whoppers</td>\n",
              "      <td>413552.0</td>\n",
              "      <td>Grocery &amp; Gourmet Food</td>\n",
              "      <td>WHOPPERS Candy (Chocolate Covered Malted Milk ...</td>\n",
              "      <td>WHOPPERS Malted Milk Balls are the classic con...</td>\n",
              "      <td>2.0</td>\n",
              "      <td>['B0016G1H8G', 'B0029JVUAE']</td>\n",
              "      <td>14.0</td>\n",
              "      <td>['B0029JVUAE', 'B00374XTQI', 'B000IXUK2W', 'B0...</td>\n",
              "      <td>NaN</td>\n",
              "    </tr>\n",
              "    <tr>\n",
              "      <th>1</th>\n",
              "      <td>B00006FMLY</td>\n",
              "      <td>10.41</td>\n",
              "      <td>Amazon Home</td>\n",
              "      <td>Cooking &amp; Baking</td>\n",
              "      <td>Frosting, Icing &amp; Decorations</td>\n",
              "      <td>Wilton</td>\n",
              "      <td>13984.0</td>\n",
              "      <td>Kitchen &amp; Dining (See Top 100 in Kitchen &amp; Din...</td>\n",
              "      <td>Wilton Jimmies Rainbow Sprinkle Assortment, 3....</td>\n",
              "      <td>Sprinkle your treats with sweet color using th...</td>\n",
              "      <td>0.0</td>\n",
              "      <td>[]</td>\n",
              "      <td>0.0</td>\n",
              "      <td>[]</td>\n",
              "      <td>Sprinkles &amp; Glitters</td>\n",
              "    </tr>\n",
              "    <tr>\n",
              "      <th>2</th>\n",
              "      <td>B00006FWVX</td>\n",
              "      <td>6.30</td>\n",
              "      <td>Amazon Home</td>\n",
              "      <td>Cooking &amp; Baking</td>\n",
              "      <td>Food Coloring</td>\n",
              "      <td>Wilton</td>\n",
              "      <td>9512.0</td>\n",
              "      <td>Kitchen &amp; Dining (See Top 100 in Kitchen &amp; Din...</td>\n",
              "      <td>Wilton Candy Decorating Primary Colors Set, 1 oz.</td>\n",
              "      <td>Can't find candy to match your party theme? Co...</td>\n",
              "      <td>1.0</td>\n",
              "      <td>['B0061TXUNS']</td>\n",
              "      <td>0.0</td>\n",
              "      <td>[]</td>\n",
              "      <td>NaN</td>\n",
              "    </tr>\n",
              "  </tbody>\n",
              "</table>\n",
              "</div>\n",
              "      <button class=\"colab-df-convert\" onclick=\"convertToInteractive('df-8aa3a01d-15e6-4099-9209-864881a03f6c')\"\n",
              "              title=\"Convert this dataframe to an interactive table.\"\n",
              "              style=\"display:none;\">\n",
              "        \n",
              "  <svg xmlns=\"http://www.w3.org/2000/svg\" height=\"24px\"viewBox=\"0 0 24 24\"\n",
              "       width=\"24px\">\n",
              "    <path d=\"M0 0h24v24H0V0z\" fill=\"none\"/>\n",
              "    <path d=\"M18.56 5.44l.94 2.06.94-2.06 2.06-.94-2.06-.94-.94-2.06-.94 2.06-2.06.94zm-11 1L8.5 8.5l.94-2.06 2.06-.94-2.06-.94L8.5 2.5l-.94 2.06-2.06.94zm10 10l.94 2.06.94-2.06 2.06-.94-2.06-.94-.94-2.06-.94 2.06-2.06.94z\"/><path d=\"M17.41 7.96l-1.37-1.37c-.4-.4-.92-.59-1.43-.59-.52 0-1.04.2-1.43.59L10.3 9.45l-7.72 7.72c-.78.78-.78 2.05 0 2.83L4 21.41c.39.39.9.59 1.41.59.51 0 1.02-.2 1.41-.59l7.78-7.78 2.81-2.81c.8-.78.8-2.07 0-2.86zM5.41 20L4 18.59l7.72-7.72 1.47 1.35L5.41 20z\"/>\n",
              "  </svg>\n",
              "      </button>\n",
              "      \n",
              "  <style>\n",
              "    .colab-df-container {\n",
              "      display:flex;\n",
              "      flex-wrap:wrap;\n",
              "      gap: 12px;\n",
              "    }\n",
              "\n",
              "    .colab-df-convert {\n",
              "      background-color: #E8F0FE;\n",
              "      border: none;\n",
              "      border-radius: 50%;\n",
              "      cursor: pointer;\n",
              "      display: none;\n",
              "      fill: #1967D2;\n",
              "      height: 32px;\n",
              "      padding: 0 0 0 0;\n",
              "      width: 32px;\n",
              "    }\n",
              "\n",
              "    .colab-df-convert:hover {\n",
              "      background-color: #E2EBFA;\n",
              "      box-shadow: 0px 1px 2px rgba(60, 64, 67, 0.3), 0px 1px 3px 1px rgba(60, 64, 67, 0.15);\n",
              "      fill: #174EA6;\n",
              "    }\n",
              "\n",
              "    [theme=dark] .colab-df-convert {\n",
              "      background-color: #3B4455;\n",
              "      fill: #D2E3FC;\n",
              "    }\n",
              "\n",
              "    [theme=dark] .colab-df-convert:hover {\n",
              "      background-color: #434B5C;\n",
              "      box-shadow: 0px 1px 3px 1px rgba(0, 0, 0, 0.15);\n",
              "      filter: drop-shadow(0px 1px 2px rgba(0, 0, 0, 0.3));\n",
              "      fill: #FFFFFF;\n",
              "    }\n",
              "  </style>\n",
              "\n",
              "      <script>\n",
              "        const buttonEl =\n",
              "          document.querySelector('#df-8aa3a01d-15e6-4099-9209-864881a03f6c button.colab-df-convert');\n",
              "        buttonEl.style.display =\n",
              "          google.colab.kernel.accessAllowed ? 'block' : 'none';\n",
              "\n",
              "        async function convertToInteractive(key) {\n",
              "          const element = document.querySelector('#df-8aa3a01d-15e6-4099-9209-864881a03f6c');\n",
              "          const dataTable =\n",
              "            await google.colab.kernel.invokeFunction('convertToInteractive',\n",
              "                                                     [key], {});\n",
              "          if (!dataTable) return;\n",
              "\n",
              "          const docLinkHtml = 'Like what you see? Visit the ' +\n",
              "            '<a target=\"_blank\" href=https://colab.research.google.com/notebooks/data_table.ipynb>data table notebook</a>'\n",
              "            + ' to learn more about interactive tables.';\n",
              "          element.innerHTML = '';\n",
              "          dataTable['output_type'] = 'display_data';\n",
              "          await google.colab.output.renderOutput(dataTable, element);\n",
              "          const docLink = document.createElement('div');\n",
              "          docLink.innerHTML = docLinkHtml;\n",
              "          element.appendChild(docLink);\n",
              "        }\n",
              "      </script>\n",
              "    </div>\n",
              "  </div>\n",
              "  "
            ]
          },
          "metadata": {},
          "execution_count": 17
        }
      ]
    },
    {
      "cell_type": "markdown",
      "source": [
        "### 1.4. User reviews"
      ],
      "metadata": {
        "id": "cELDyFlRHhbV"
      }
    },
    {
      "cell_type": "code",
      "source": [
        "user_reviews = get_user_reviews(selected_users, selected_items, t1, USER_FEATURES_PATH)\n",
        "\n",
        "print(f'user_reviews.shape = {user_reviews.shape}\\n')\n",
        "user_reviews.head(2)"
      ],
      "metadata": {
        "colab": {
          "base_uri": "https://localhost:8080/",
          "height": 147
        },
        "id": "nCTGUSXVAAnZ",
        "outputId": "a4f61e0e-366e-4f1e-82f3-1433fcc9b39f"
      },
      "execution_count": 18,
      "outputs": [
        {
          "output_type": "stream",
          "name": "stdout",
          "text": [
            "user_reviews.shape = (10927, 5)\n",
            "\n"
          ]
        },
        {
          "output_type": "execute_result",
          "data": {
            "text/plain": [
              "          user_id     item_id   timestamp  \\\n",
              "0  A3TH42PC3EZV1B  B00005BPQ9  1445558400   \n",
              "1   A8CGWGJ9OM58J  B00006FMLY  1455753600   \n",
              "\n",
              "                                                text  len_text  \n",
              "0  Delicious, and a good value... What more is to...        55  \n",
              "1                              great for decorating.        21  "
            ],
            "text/html": [
              "\n",
              "  <div id=\"df-905aaf81-a290-4ed7-adca-85c119f4f3d4\">\n",
              "    <div class=\"colab-df-container\">\n",
              "      <div>\n",
              "<style scoped>\n",
              "    .dataframe tbody tr th:only-of-type {\n",
              "        vertical-align: middle;\n",
              "    }\n",
              "\n",
              "    .dataframe tbody tr th {\n",
              "        vertical-align: top;\n",
              "    }\n",
              "\n",
              "    .dataframe thead th {\n",
              "        text-align: right;\n",
              "    }\n",
              "</style>\n",
              "<table border=\"1\" class=\"dataframe\">\n",
              "  <thead>\n",
              "    <tr style=\"text-align: right;\">\n",
              "      <th></th>\n",
              "      <th>user_id</th>\n",
              "      <th>item_id</th>\n",
              "      <th>timestamp</th>\n",
              "      <th>text</th>\n",
              "      <th>len_text</th>\n",
              "    </tr>\n",
              "  </thead>\n",
              "  <tbody>\n",
              "    <tr>\n",
              "      <th>0</th>\n",
              "      <td>A3TH42PC3EZV1B</td>\n",
              "      <td>B00005BPQ9</td>\n",
              "      <td>1445558400</td>\n",
              "      <td>Delicious, and a good value... What more is to...</td>\n",
              "      <td>55</td>\n",
              "    </tr>\n",
              "    <tr>\n",
              "      <th>1</th>\n",
              "      <td>A8CGWGJ9OM58J</td>\n",
              "      <td>B00006FMLY</td>\n",
              "      <td>1455753600</td>\n",
              "      <td>great for decorating.</td>\n",
              "      <td>21</td>\n",
              "    </tr>\n",
              "  </tbody>\n",
              "</table>\n",
              "</div>\n",
              "      <button class=\"colab-df-convert\" onclick=\"convertToInteractive('df-905aaf81-a290-4ed7-adca-85c119f4f3d4')\"\n",
              "              title=\"Convert this dataframe to an interactive table.\"\n",
              "              style=\"display:none;\">\n",
              "        \n",
              "  <svg xmlns=\"http://www.w3.org/2000/svg\" height=\"24px\"viewBox=\"0 0 24 24\"\n",
              "       width=\"24px\">\n",
              "    <path d=\"M0 0h24v24H0V0z\" fill=\"none\"/>\n",
              "    <path d=\"M18.56 5.44l.94 2.06.94-2.06 2.06-.94-2.06-.94-.94-2.06-.94 2.06-2.06.94zm-11 1L8.5 8.5l.94-2.06 2.06-.94-2.06-.94L8.5 2.5l-.94 2.06-2.06.94zm10 10l.94 2.06.94-2.06 2.06-.94-2.06-.94-.94-2.06-.94 2.06-2.06.94z\"/><path d=\"M17.41 7.96l-1.37-1.37c-.4-.4-.92-.59-1.43-.59-.52 0-1.04.2-1.43.59L10.3 9.45l-7.72 7.72c-.78.78-.78 2.05 0 2.83L4 21.41c.39.39.9.59 1.41.59.51 0 1.02-.2 1.41-.59l7.78-7.78 2.81-2.81c.8-.78.8-2.07 0-2.86zM5.41 20L4 18.59l7.72-7.72 1.47 1.35L5.41 20z\"/>\n",
              "  </svg>\n",
              "      </button>\n",
              "      \n",
              "  <style>\n",
              "    .colab-df-container {\n",
              "      display:flex;\n",
              "      flex-wrap:wrap;\n",
              "      gap: 12px;\n",
              "    }\n",
              "\n",
              "    .colab-df-convert {\n",
              "      background-color: #E8F0FE;\n",
              "      border: none;\n",
              "      border-radius: 50%;\n",
              "      cursor: pointer;\n",
              "      display: none;\n",
              "      fill: #1967D2;\n",
              "      height: 32px;\n",
              "      padding: 0 0 0 0;\n",
              "      width: 32px;\n",
              "    }\n",
              "\n",
              "    .colab-df-convert:hover {\n",
              "      background-color: #E2EBFA;\n",
              "      box-shadow: 0px 1px 2px rgba(60, 64, 67, 0.3), 0px 1px 3px 1px rgba(60, 64, 67, 0.15);\n",
              "      fill: #174EA6;\n",
              "    }\n",
              "\n",
              "    [theme=dark] .colab-df-convert {\n",
              "      background-color: #3B4455;\n",
              "      fill: #D2E3FC;\n",
              "    }\n",
              "\n",
              "    [theme=dark] .colab-df-convert:hover {\n",
              "      background-color: #434B5C;\n",
              "      box-shadow: 0px 1px 3px 1px rgba(0, 0, 0, 0.15);\n",
              "      filter: drop-shadow(0px 1px 2px rgba(0, 0, 0, 0.3));\n",
              "      fill: #FFFFFF;\n",
              "    }\n",
              "  </style>\n",
              "\n",
              "      <script>\n",
              "        const buttonEl =\n",
              "          document.querySelector('#df-905aaf81-a290-4ed7-adca-85c119f4f3d4 button.colab-df-convert');\n",
              "        buttonEl.style.display =\n",
              "          google.colab.kernel.accessAllowed ? 'block' : 'none';\n",
              "\n",
              "        async function convertToInteractive(key) {\n",
              "          const element = document.querySelector('#df-905aaf81-a290-4ed7-adca-85c119f4f3d4');\n",
              "          const dataTable =\n",
              "            await google.colab.kernel.invokeFunction('convertToInteractive',\n",
              "                                                     [key], {});\n",
              "          if (!dataTable) return;\n",
              "\n",
              "          const docLinkHtml = 'Like what you see? Visit the ' +\n",
              "            '<a target=\"_blank\" href=https://colab.research.google.com/notebooks/data_table.ipynb>data table notebook</a>'\n",
              "            + ' to learn more about interactive tables.';\n",
              "          element.innerHTML = '';\n",
              "          dataTable['output_type'] = 'display_data';\n",
              "          await google.colab.output.renderOutput(dataTable, element);\n",
              "          const docLink = document.createElement('div');\n",
              "          docLink.innerHTML = docLinkHtml;\n",
              "          element.appendChild(docLink);\n",
              "        }\n",
              "      </script>\n",
              "    </div>\n",
              "  </div>\n",
              "  "
            ]
          },
          "metadata": {},
          "execution_count": 18
        }
      ]
    },
    {
      "cell_type": "code",
      "source": [
        "data_val_lvl_1, data_val_lvl_2 = add_user_reviews_to_ratings(data_val_lvl_1, data_val_lvl_2, user_reviews)\n",
        "\n",
        "print(f'data_val_lvl_1.shape = {data_val_lvl_1.shape}\\n')\n",
        "data_val_lvl_1.head(2)"
      ],
      "metadata": {
        "colab": {
          "base_uri": "https://localhost:8080/",
          "height": 147
        },
        "id": "s7PX_0P0Njkp",
        "outputId": "952c66fc-fd42-4044-eeee-e7a8e48c0a7e"
      },
      "execution_count": 19,
      "outputs": [
        {
          "output_type": "stream",
          "name": "stdout",
          "text": [
            "data_val_lvl_1.shape = (16290, 6)\n",
            "\n"
          ]
        },
        {
          "output_type": "execute_result",
          "data": {
            "text/plain": [
              "      item_id         user_id  rating   timestamp  \\\n",
              "0  B00005BPQ9  A3TH42PC3EZV1B     4.0  1445558400   \n",
              "1  B00006FMLY   A8CGWGJ9OM58J     5.0  1455753600   \n",
              "\n",
              "                                                text  len_text  \n",
              "0  Delicious, and a good value... What more is to...        55  \n",
              "1                              great for decorating.        21  "
            ],
            "text/html": [
              "\n",
              "  <div id=\"df-a0bdb9b3-0423-490d-9f5a-40b84ce89153\">\n",
              "    <div class=\"colab-df-container\">\n",
              "      <div>\n",
              "<style scoped>\n",
              "    .dataframe tbody tr th:only-of-type {\n",
              "        vertical-align: middle;\n",
              "    }\n",
              "\n",
              "    .dataframe tbody tr th {\n",
              "        vertical-align: top;\n",
              "    }\n",
              "\n",
              "    .dataframe thead th {\n",
              "        text-align: right;\n",
              "    }\n",
              "</style>\n",
              "<table border=\"1\" class=\"dataframe\">\n",
              "  <thead>\n",
              "    <tr style=\"text-align: right;\">\n",
              "      <th></th>\n",
              "      <th>item_id</th>\n",
              "      <th>user_id</th>\n",
              "      <th>rating</th>\n",
              "      <th>timestamp</th>\n",
              "      <th>text</th>\n",
              "      <th>len_text</th>\n",
              "    </tr>\n",
              "  </thead>\n",
              "  <tbody>\n",
              "    <tr>\n",
              "      <th>0</th>\n",
              "      <td>B00005BPQ9</td>\n",
              "      <td>A3TH42PC3EZV1B</td>\n",
              "      <td>4.0</td>\n",
              "      <td>1445558400</td>\n",
              "      <td>Delicious, and a good value... What more is to...</td>\n",
              "      <td>55</td>\n",
              "    </tr>\n",
              "    <tr>\n",
              "      <th>1</th>\n",
              "      <td>B00006FMLY</td>\n",
              "      <td>A8CGWGJ9OM58J</td>\n",
              "      <td>5.0</td>\n",
              "      <td>1455753600</td>\n",
              "      <td>great for decorating.</td>\n",
              "      <td>21</td>\n",
              "    </tr>\n",
              "  </tbody>\n",
              "</table>\n",
              "</div>\n",
              "      <button class=\"colab-df-convert\" onclick=\"convertToInteractive('df-a0bdb9b3-0423-490d-9f5a-40b84ce89153')\"\n",
              "              title=\"Convert this dataframe to an interactive table.\"\n",
              "              style=\"display:none;\">\n",
              "        \n",
              "  <svg xmlns=\"http://www.w3.org/2000/svg\" height=\"24px\"viewBox=\"0 0 24 24\"\n",
              "       width=\"24px\">\n",
              "    <path d=\"M0 0h24v24H0V0z\" fill=\"none\"/>\n",
              "    <path d=\"M18.56 5.44l.94 2.06.94-2.06 2.06-.94-2.06-.94-.94-2.06-.94 2.06-2.06.94zm-11 1L8.5 8.5l.94-2.06 2.06-.94-2.06-.94L8.5 2.5l-.94 2.06-2.06.94zm10 10l.94 2.06.94-2.06 2.06-.94-2.06-.94-.94-2.06-.94 2.06-2.06.94z\"/><path d=\"M17.41 7.96l-1.37-1.37c-.4-.4-.92-.59-1.43-.59-.52 0-1.04.2-1.43.59L10.3 9.45l-7.72 7.72c-.78.78-.78 2.05 0 2.83L4 21.41c.39.39.9.59 1.41.59.51 0 1.02-.2 1.41-.59l7.78-7.78 2.81-2.81c.8-.78.8-2.07 0-2.86zM5.41 20L4 18.59l7.72-7.72 1.47 1.35L5.41 20z\"/>\n",
              "  </svg>\n",
              "      </button>\n",
              "      \n",
              "  <style>\n",
              "    .colab-df-container {\n",
              "      display:flex;\n",
              "      flex-wrap:wrap;\n",
              "      gap: 12px;\n",
              "    }\n",
              "\n",
              "    .colab-df-convert {\n",
              "      background-color: #E8F0FE;\n",
              "      border: none;\n",
              "      border-radius: 50%;\n",
              "      cursor: pointer;\n",
              "      display: none;\n",
              "      fill: #1967D2;\n",
              "      height: 32px;\n",
              "      padding: 0 0 0 0;\n",
              "      width: 32px;\n",
              "    }\n",
              "\n",
              "    .colab-df-convert:hover {\n",
              "      background-color: #E2EBFA;\n",
              "      box-shadow: 0px 1px 2px rgba(60, 64, 67, 0.3), 0px 1px 3px 1px rgba(60, 64, 67, 0.15);\n",
              "      fill: #174EA6;\n",
              "    }\n",
              "\n",
              "    [theme=dark] .colab-df-convert {\n",
              "      background-color: #3B4455;\n",
              "      fill: #D2E3FC;\n",
              "    }\n",
              "\n",
              "    [theme=dark] .colab-df-convert:hover {\n",
              "      background-color: #434B5C;\n",
              "      box-shadow: 0px 1px 3px 1px rgba(0, 0, 0, 0.15);\n",
              "      filter: drop-shadow(0px 1px 2px rgba(0, 0, 0, 0.3));\n",
              "      fill: #FFFFFF;\n",
              "    }\n",
              "  </style>\n",
              "\n",
              "      <script>\n",
              "        const buttonEl =\n",
              "          document.querySelector('#df-a0bdb9b3-0423-490d-9f5a-40b84ce89153 button.colab-df-convert');\n",
              "        buttonEl.style.display =\n",
              "          google.colab.kernel.accessAllowed ? 'block' : 'none';\n",
              "\n",
              "        async function convertToInteractive(key) {\n",
              "          const element = document.querySelector('#df-a0bdb9b3-0423-490d-9f5a-40b84ce89153');\n",
              "          const dataTable =\n",
              "            await google.colab.kernel.invokeFunction('convertToInteractive',\n",
              "                                                     [key], {});\n",
              "          if (!dataTable) return;\n",
              "\n",
              "          const docLinkHtml = 'Like what you see? Visit the ' +\n",
              "            '<a target=\"_blank\" href=https://colab.research.google.com/notebooks/data_table.ipynb>data table notebook</a>'\n",
              "            + ' to learn more about interactive tables.';\n",
              "          element.innerHTML = '';\n",
              "          dataTable['output_type'] = 'display_data';\n",
              "          await google.colab.output.renderOutput(dataTable, element);\n",
              "          const docLink = document.createElement('div');\n",
              "          docLink.innerHTML = docLinkHtml;\n",
              "          element.appendChild(docLink);\n",
              "        }\n",
              "      </script>\n",
              "    </div>\n",
              "  </div>\n",
              "  "
            ]
          },
          "metadata": {},
          "execution_count": 19
        }
      ]
    },
    {
      "cell_type": "code",
      "source": [
        "print(f'data_val_lvl_2.shape = {data_val_lvl_2.shape}\\n')\n",
        "data_val_lvl_2.head(2)"
      ],
      "metadata": {
        "colab": {
          "base_uri": "https://localhost:8080/",
          "height": 147
        },
        "id": "2jd-7ZJHN-NA",
        "outputId": "3e4c5a71-310c-4784-e59e-58a34b540b96"
      },
      "execution_count": 20,
      "outputs": [
        {
          "output_type": "stream",
          "name": "stdout",
          "text": [
            "data_val_lvl_2.shape = (1847, 6)\n",
            "\n"
          ]
        },
        {
          "output_type": "execute_result",
          "data": {
            "text/plain": [
              "      item_id         user_id  rating   timestamp  text  len_text\n",
              "0  B0000D916Y  A1STWKVUMXNZAB     3.0  1524096000  good         4\n",
              "1  B0000D9169  A1STWKVUMXNZAB     3.0  1524096000  good         4"
            ],
            "text/html": [
              "\n",
              "  <div id=\"df-f5e226fb-aab6-4558-989c-1ed8f96113d4\">\n",
              "    <div class=\"colab-df-container\">\n",
              "      <div>\n",
              "<style scoped>\n",
              "    .dataframe tbody tr th:only-of-type {\n",
              "        vertical-align: middle;\n",
              "    }\n",
              "\n",
              "    .dataframe tbody tr th {\n",
              "        vertical-align: top;\n",
              "    }\n",
              "\n",
              "    .dataframe thead th {\n",
              "        text-align: right;\n",
              "    }\n",
              "</style>\n",
              "<table border=\"1\" class=\"dataframe\">\n",
              "  <thead>\n",
              "    <tr style=\"text-align: right;\">\n",
              "      <th></th>\n",
              "      <th>item_id</th>\n",
              "      <th>user_id</th>\n",
              "      <th>rating</th>\n",
              "      <th>timestamp</th>\n",
              "      <th>text</th>\n",
              "      <th>len_text</th>\n",
              "    </tr>\n",
              "  </thead>\n",
              "  <tbody>\n",
              "    <tr>\n",
              "      <th>0</th>\n",
              "      <td>B0000D916Y</td>\n",
              "      <td>A1STWKVUMXNZAB</td>\n",
              "      <td>3.0</td>\n",
              "      <td>1524096000</td>\n",
              "      <td>good</td>\n",
              "      <td>4</td>\n",
              "    </tr>\n",
              "    <tr>\n",
              "      <th>1</th>\n",
              "      <td>B0000D9169</td>\n",
              "      <td>A1STWKVUMXNZAB</td>\n",
              "      <td>3.0</td>\n",
              "      <td>1524096000</td>\n",
              "      <td>good</td>\n",
              "      <td>4</td>\n",
              "    </tr>\n",
              "  </tbody>\n",
              "</table>\n",
              "</div>\n",
              "      <button class=\"colab-df-convert\" onclick=\"convertToInteractive('df-f5e226fb-aab6-4558-989c-1ed8f96113d4')\"\n",
              "              title=\"Convert this dataframe to an interactive table.\"\n",
              "              style=\"display:none;\">\n",
              "        \n",
              "  <svg xmlns=\"http://www.w3.org/2000/svg\" height=\"24px\"viewBox=\"0 0 24 24\"\n",
              "       width=\"24px\">\n",
              "    <path d=\"M0 0h24v24H0V0z\" fill=\"none\"/>\n",
              "    <path d=\"M18.56 5.44l.94 2.06.94-2.06 2.06-.94-2.06-.94-.94-2.06-.94 2.06-2.06.94zm-11 1L8.5 8.5l.94-2.06 2.06-.94-2.06-.94L8.5 2.5l-.94 2.06-2.06.94zm10 10l.94 2.06.94-2.06 2.06-.94-2.06-.94-.94-2.06-.94 2.06-2.06.94z\"/><path d=\"M17.41 7.96l-1.37-1.37c-.4-.4-.92-.59-1.43-.59-.52 0-1.04.2-1.43.59L10.3 9.45l-7.72 7.72c-.78.78-.78 2.05 0 2.83L4 21.41c.39.39.9.59 1.41.59.51 0 1.02-.2 1.41-.59l7.78-7.78 2.81-2.81c.8-.78.8-2.07 0-2.86zM5.41 20L4 18.59l7.72-7.72 1.47 1.35L5.41 20z\"/>\n",
              "  </svg>\n",
              "      </button>\n",
              "      \n",
              "  <style>\n",
              "    .colab-df-container {\n",
              "      display:flex;\n",
              "      flex-wrap:wrap;\n",
              "      gap: 12px;\n",
              "    }\n",
              "\n",
              "    .colab-df-convert {\n",
              "      background-color: #E8F0FE;\n",
              "      border: none;\n",
              "      border-radius: 50%;\n",
              "      cursor: pointer;\n",
              "      display: none;\n",
              "      fill: #1967D2;\n",
              "      height: 32px;\n",
              "      padding: 0 0 0 0;\n",
              "      width: 32px;\n",
              "    }\n",
              "\n",
              "    .colab-df-convert:hover {\n",
              "      background-color: #E2EBFA;\n",
              "      box-shadow: 0px 1px 2px rgba(60, 64, 67, 0.3), 0px 1px 3px 1px rgba(60, 64, 67, 0.15);\n",
              "      fill: #174EA6;\n",
              "    }\n",
              "\n",
              "    [theme=dark] .colab-df-convert {\n",
              "      background-color: #3B4455;\n",
              "      fill: #D2E3FC;\n",
              "    }\n",
              "\n",
              "    [theme=dark] .colab-df-convert:hover {\n",
              "      background-color: #434B5C;\n",
              "      box-shadow: 0px 1px 3px 1px rgba(0, 0, 0, 0.15);\n",
              "      filter: drop-shadow(0px 1px 2px rgba(0, 0, 0, 0.3));\n",
              "      fill: #FFFFFF;\n",
              "    }\n",
              "  </style>\n",
              "\n",
              "      <script>\n",
              "        const buttonEl =\n",
              "          document.querySelector('#df-f5e226fb-aab6-4558-989c-1ed8f96113d4 button.colab-df-convert');\n",
              "        buttonEl.style.display =\n",
              "          google.colab.kernel.accessAllowed ? 'block' : 'none';\n",
              "\n",
              "        async function convertToInteractive(key) {\n",
              "          const element = document.querySelector('#df-f5e226fb-aab6-4558-989c-1ed8f96113d4');\n",
              "          const dataTable =\n",
              "            await google.colab.kernel.invokeFunction('convertToInteractive',\n",
              "                                                     [key], {});\n",
              "          if (!dataTable) return;\n",
              "\n",
              "          const docLinkHtml = 'Like what you see? Visit the ' +\n",
              "            '<a target=\"_blank\" href=https://colab.research.google.com/notebooks/data_table.ipynb>data table notebook</a>'\n",
              "            + ' to learn more about interactive tables.';\n",
              "          element.innerHTML = '';\n",
              "          dataTable['output_type'] = 'display_data';\n",
              "          await google.colab.output.renderOutput(dataTable, element);\n",
              "          const docLink = document.createElement('div');\n",
              "          docLink.innerHTML = docLinkHtml;\n",
              "          element.appendChild(docLink);\n",
              "        }\n",
              "      </script>\n",
              "    </div>\n",
              "  </div>\n",
              "  "
            ]
          },
          "metadata": {},
          "execution_count": 20
        }
      ]
    },
    {
      "cell_type": "markdown",
      "source": [
        "## 2. EDA"
      ],
      "metadata": {
        "id": "rU1EcOL1ieuh"
      }
    },
    {
      "cell_type": "markdown",
      "source": [
        "### 2.1. Top popular items"
      ],
      "metadata": {
        "id": "G0cVULQREBHU"
      }
    },
    {
      "cell_type": "code",
      "source": [
        "data = pd.concat([data_val_lvl_1, data_val_lvl_2], axis=0)"
      ],
      "metadata": {
        "id": "gOE45FB8ya0t"
      },
      "execution_count": 21,
      "outputs": []
    },
    {
      "cell_type": "code",
      "source": [
        "popularity = (data.groupby('item_id')['user_id'].nunique() / data['user_id'].nunique()).reset_index()\n",
        "popularity.rename(columns={'user_id': 'share_unique_users'}, inplace=True)\n",
        "popularity['share_unique_users'].max()"
      ],
      "metadata": {
        "colab": {
          "base_uri": "https://localhost:8080/"
        },
        "id": "qcLvrsVvEDkI",
        "outputId": "4f17d511-05cd-4843-923e-5045e4830f32"
      },
      "execution_count": 22,
      "outputs": [
        {
          "output_type": "execute_result",
          "data": {
            "text/plain": [
              "0.06459054209919261"
            ]
          },
          "metadata": {},
          "execution_count": 22
        }
      ]
    },
    {
      "cell_type": "code",
      "source": [
        "plt.figure(figsize=(10, 4))\n",
        "plt.title('share_unique_users distribution')\n",
        "plt.xlabel('share of unique users')\n",
        "plt.hist(popularity['share_unique_users'].values, bins=50);"
      ],
      "metadata": {
        "colab": {
          "base_uri": "https://localhost:8080/",
          "height": 295
        },
        "id": "1QYZcWEFEKo0",
        "outputId": "eeec2712-79ba-441a-be59-669dfee6eb60"
      },
      "execution_count": 23,
      "outputs": [
        {
          "output_type": "display_data",
          "data": {
            "text/plain": [
              "<Figure size 720x288 with 1 Axes>"
            ],
            "image/png": "[encoded data removed]"
          },
          "metadata": {
            "needs_background": "light"
          }
        }
      ]
    },
    {
      "cell_type": "markdown",
      "source": [
        "### 2.2. Top unpopular items"
      ],
      "metadata": {
        "id": "QHxW49ToEcw1"
      }
    },
    {
      "cell_type": "code",
      "source": [
        "top_unpopular = popularity[popularity['share_unique_users'] < 5.8e-04].item_id.tolist()\n",
        "len(top_unpopular)"
      ],
      "metadata": {
        "colab": {
          "base_uri": "https://localhost:8080/"
        },
        "id": "w3xgYgYLEhcN",
        "outputId": "03312a91-b03d-4b52-8d54-10bb7ac1e27f"
      },
      "execution_count": 24,
      "outputs": [
        {
          "output_type": "execute_result",
          "data": {
            "text/plain": [
              "1157"
            ]
          },
          "metadata": {},
          "execution_count": 24
        }
      ]
    },
    {
      "cell_type": "markdown",
      "source": [
        "### 2.3. Items in unpopular categories"
      ],
      "metadata": {
        "id": "j58g9-XFEyD7"
      }
    },
    {
      "cell_type": "code",
      "source": [
        "main_cat_size = (\n",
        "    items.groupby('main_cat')['item_id'].nunique().sort_values(ascending=False)\n",
        ").reset_index()\n",
        "main_cat_size.columns = ['main_cat', 'n_items']\n",
        "\n",
        "unpopular_main_cats = main_cat_size[main_cat_size['n_items'] < 150].main_cat.tolist()\n",
        "items_in_unpopular_main_cats = items[items['main_cat'].isin(unpopular_main_cats)].item_id.unique().tolist()\n",
        "len(items_in_unpopular_main_cats)"
      ],
      "metadata": {
        "colab": {
          "base_uri": "https://localhost:8080/"
        },
        "id": "LvGXXVW_E0ih",
        "outputId": "5beeaec2-d609-4eb1-85a9-74ef510210c4"
      },
      "execution_count": 25,
      "outputs": [
        {
          "output_type": "execute_result",
          "data": {
            "text/plain": [
              "125"
            ]
          },
          "metadata": {},
          "execution_count": 25
        }
      ]
    },
    {
      "cell_type": "markdown",
      "source": [
        "### 2.4. Price threshold"
      ],
      "metadata": {
        "id": "YQ665MDvFAtw"
      }
    },
    {
      "cell_type": "code",
      "source": [
        "data = data.merge(items[['item_id', 'price']], on='item_id')"
      ],
      "metadata": {
        "id": "PNeM8NtHPyBz"
      },
      "execution_count": 26,
      "outputs": []
    },
    {
      "cell_type": "code",
      "source": [
        "plt.figure(figsize=(10, 4))\n",
        "plt.title('Price distribution')\n",
        "plt.xlabel('price')\n",
        "plt.hist(data['price'].values, bins=50);"
      ],
      "metadata": {
        "colab": {
          "base_uri": "https://localhost:8080/",
          "height": 295
        },
        "id": "_EJeIfVSFD0-",
        "outputId": "ef22f8fc-57b9-42f1-b490-de5664de43f0"
      },
      "execution_count": 27,
      "outputs": [
        {
          "output_type": "display_data",
          "data": {
            "text/plain": [
              "<Figure size 720x288 with 1 Axes>"
            ],
            "image/png": "[encoded data removed]"
          },
          "metadata": {
            "needs_background": "light"
          }
        }
      ]
    },
    {
      "cell_type": "markdown",
      "source": [
        "#### 2.4.1. Cheap items"
      ],
      "metadata": {
        "id": "KiFF201CFLrB"
      }
    },
    {
      "cell_type": "code",
      "source": [
        "lower_threshold = 0\n",
        "cheap_products = data.loc[data['price'] <= lower_threshold, 'item_id'].unique().tolist()\n",
        "len(cheap_products)"
      ],
      "metadata": {
        "colab": {
          "base_uri": "https://localhost:8080/"
        },
        "id": "XvXrMLCDFGpI",
        "outputId": "5dfb9e88-aeb9-41dc-f9b1-fb23825cc4a3"
      },
      "execution_count": 28,
      "outputs": [
        {
          "output_type": "execute_result",
          "data": {
            "text/plain": [
              "734"
            ]
          },
          "metadata": {},
          "execution_count": 28
        }
      ]
    },
    {
      "cell_type": "markdown",
      "source": [
        "#### 2.4.2. Expensive items"
      ],
      "metadata": {
        "id": "nOcioewsFVki"
      }
    },
    {
      "cell_type": "code",
      "source": [
        "upper_threshold = 50\n",
        "expensive_products = data.loc[data['price'] > upper_threshold, 'item_id'].unique().tolist()\n",
        "len(expensive_products)"
      ],
      "metadata": {
        "colab": {
          "base_uri": "https://localhost:8080/"
        },
        "id": "LcBOd0klFfvc",
        "outputId": "c22f1244-bc86-455e-f66d-eabc66601577"
      },
      "execution_count": 29,
      "outputs": [
        {
          "output_type": "execute_result",
          "data": {
            "text/plain": [
              "56"
            ]
          },
          "metadata": {},
          "execution_count": 29
        }
      ]
    },
    {
      "cell_type": "markdown",
      "source": [
        "### 2.5. User reviews"
      ],
      "metadata": {
        "id": "LB3cXsysGb90"
      }
    },
    {
      "cell_type": "markdown",
      "source": [
        "#### 2.5.1. Ratings"
      ],
      "metadata": {
        "id": "4hgmSNlF_Ju-"
      }
    },
    {
      "cell_type": "code",
      "source": [
        "plt.figure(figsize=(10, 4))\n",
        "plt.title('Ratings distribution')\n",
        "plt.xlabel('rating')\n",
        "plt.hist(data['rating'].values, bins=20);"
      ],
      "metadata": {
        "colab": {
          "base_uri": "https://localhost:8080/",
          "height": 295
        },
        "id": "IB85aSNm_U-3",
        "outputId": "843f0876-9399-4d09-dfd8-5c41ab7ca5b6"
      },
      "execution_count": 30,
      "outputs": [
        {
          "output_type": "display_data",
          "data": {
            "text/plain": [
              "<Figure size 720x288 with 1 Axes>"
            ],
            "image/png": "[encoded data removed]"
          },
          "metadata": {
            "needs_background": "light"
          }
        }
      ]
    },
    {
      "cell_type": "code",
      "source": [
        "data['rating'].value_counts(normalize=True)"
      ],
      "metadata": {
        "colab": {
          "base_uri": "https://localhost:8080/"
        },
        "id": "z0eHBlF1ALf4",
        "outputId": "40e852be-a254-4c78-ad6b-dd46a6318e49"
      },
      "execution_count": 31,
      "outputs": [
        {
          "output_type": "execute_result",
          "data": {
            "text/plain": [
              "5.0    0.758160\n",
              "4.0    0.123433\n",
              "3.0    0.057492\n",
              "1.0    0.033689\n",
              "2.0    0.027227\n",
              "Name: rating, dtype: float64"
            ]
          },
          "metadata": {},
          "execution_count": 31
        }
      ]
    },
    {
      "cell_type": "markdown",
      "source": [
        "#### 2.5.2. Length of user reviews"
      ],
      "metadata": {
        "id": "A1a-Od6AHCjv"
      }
    },
    {
      "cell_type": "code",
      "source": [
        "plt.figure(figsize=(10, 4))\n",
        "plt.title('Length of user reviews')\n",
        "plt.xlabel('len_text')\n",
        "plt.hist(data['len_text'].values, bins=50);"
      ],
      "metadata": {
        "colab": {
          "base_uri": "https://localhost:8080/",
          "height": 296
        },
        "id": "J_l1lg7EGfZ9",
        "outputId": "92773711-75a3-4824-835d-242dd71970a5"
      },
      "execution_count": 32,
      "outputs": [
        {
          "output_type": "display_data",
          "data": {
            "text/plain": [
              "<Figure size 720x288 with 1 Axes>"
            ],
            "image/png": "[encoded data removed]"
          },
          "metadata": {
            "needs_background": "light"
          }
        }
      ]
    },
    {
      "cell_type": "code",
      "source": [
        "data['len_text'].describe()"
      ],
      "metadata": {
        "colab": {
          "base_uri": "https://localhost:8080/"
        },
        "id": "KjijM6E_Grxp",
        "outputId": "ae97f98d-5583-4e79-9502-34d5e591fe24"
      },
      "execution_count": 33,
      "outputs": [
        {
          "output_type": "execute_result",
          "data": {
            "text/plain": [
              "count    18107.000000\n",
              "mean       218.207710\n",
              "std        477.208877\n",
              "min          1.000000\n",
              "25%         28.500000\n",
              "50%         82.000000\n",
              "75%        228.000000\n",
              "max       7073.000000\n",
              "Name: len_text, dtype: float64"
            ]
          },
          "metadata": {},
          "execution_count": 33
        }
      ]
    },
    {
      "cell_type": "code",
      "source": [
        "(data['len_text'] == 1).sum()"
      ],
      "metadata": {
        "colab": {
          "base_uri": "https://localhost:8080/"
        },
        "id": "AgJnL_jIGylx",
        "outputId": "616ff9a0-65d8-41cb-faf4-5bb1c0f61462"
      },
      "execution_count": 34,
      "outputs": [
        {
          "output_type": "execute_result",
          "data": {
            "text/plain": [
              "3"
            ]
          },
          "metadata": {},
          "execution_count": 34
        }
      ]
    },
    {
      "cell_type": "markdown",
      "source": [
        "### 2.6. Items matadata"
      ],
      "metadata": {
        "id": "0tz5MKkpRRgD"
      }
    },
    {
      "cell_type": "markdown",
      "source": [
        "#### 2.6.1. Feature 'also_view'"
      ],
      "metadata": {
        "id": "U6e2FXehPfuX"
      }
    },
    {
      "cell_type": "code",
      "source": [
        "plt.figure(figsize=(10, 4))\n",
        "plt.title(\"Distribution of lengths of feature 'also_view'\")\n",
        "plt.xlabel('len_also_view')\n",
        "plt.hist(items['len_also_view'].values, bins=20);"
      ],
      "metadata": {
        "colab": {
          "base_uri": "https://localhost:8080/",
          "height": 296
        },
        "id": "vqeIA9SG7241",
        "outputId": "07a82126-68f9-4b89-c168-cae88297aa37"
      },
      "execution_count": 35,
      "outputs": [
        {
          "output_type": "display_data",
          "data": {
            "text/plain": [
              "<Figure size 720x288 with 1 Axes>"
            ],
            "image/png": "[encoded data removed]"
          },
          "metadata": {
            "needs_background": "light"
          }
        }
      ]
    },
    {
      "cell_type": "code",
      "source": [
        "items['len_also_view'].describe()"
      ],
      "metadata": {
        "colab": {
          "base_uri": "https://localhost:8080/"
        },
        "id": "cJGf57p18MfZ",
        "outputId": "5d81eba2-edb8-4544-b8cb-747f4052113e"
      },
      "execution_count": 36,
      "outputs": [
        {
          "output_type": "execute_result",
          "data": {
            "text/plain": [
              "count    2529.000000\n",
              "mean        0.919731\n",
              "std         1.570685\n",
              "min         0.000000\n",
              "25%         0.000000\n",
              "50%         0.000000\n",
              "75%         1.000000\n",
              "max        10.000000\n",
              "Name: len_also_view, dtype: float64"
            ]
          },
          "metadata": {},
          "execution_count": 36
        }
      ]
    },
    {
      "cell_type": "code",
      "source": [
        "items.loc[items['len_also_view'] == 0, 'item_id'].nunique()"
      ],
      "metadata": {
        "colab": {
          "base_uri": "https://localhost:8080/"
        },
        "id": "Pa2UM_w77_eW",
        "outputId": "a6109d3c-72a5-4e49-dc82-f24e7efa4701"
      },
      "execution_count": 37,
      "outputs": [
        {
          "output_type": "execute_result",
          "data": {
            "text/plain": [
              "1546"
            ]
          },
          "metadata": {},
          "execution_count": 37
        }
      ]
    },
    {
      "cell_type": "markdown",
      "source": [
        "#### 2.6.2. Feature  'also_buy'"
      ],
      "metadata": {
        "id": "bb1-2IJdc5ps"
      }
    },
    {
      "cell_type": "code",
      "source": [
        "plt.figure(figsize=(10, 4))\n",
        "plt.title(\"Distribution of lengths of feature 'also_buy'\")\n",
        "plt.xlabel('len_also_buy')\n",
        "plt.hist(items['len_also_buy'].values, bins=15);"
      ],
      "metadata": {
        "colab": {
          "base_uri": "https://localhost:8080/",
          "height": 296
        },
        "id": "WLdSu6p065EM",
        "outputId": "9d27a430-27a5-4902-deb8-f64e1ca51d44"
      },
      "execution_count": 38,
      "outputs": [
        {
          "output_type": "display_data",
          "data": {
            "text/plain": [
              "<Figure size 720x288 with 1 Axes>"
            ],
            "image/png": "[encoded data removed]"
          },
          "metadata": {
            "needs_background": "light"
          }
        }
      ]
    },
    {
      "cell_type": "code",
      "source": [
        "items['len_also_buy'].describe()"
      ],
      "metadata": {
        "colab": {
          "base_uri": "https://localhost:8080/"
        },
        "id": "Nmk2QVTu8c-O",
        "outputId": "51ebfa76-c740-49c7-a81d-9bb6fcac350a"
      },
      "execution_count": 39,
      "outputs": [
        {
          "output_type": "execute_result",
          "data": {
            "text/plain": [
              "count    2529.000000\n",
              "mean        3.245552\n",
              "std         3.179401\n",
              "min         0.000000\n",
              "25%         1.000000\n",
              "50%         2.000000\n",
              "75%         5.000000\n",
              "max        18.000000\n",
              "Name: len_also_buy, dtype: float64"
            ]
          },
          "metadata": {},
          "execution_count": 39
        }
      ]
    },
    {
      "cell_type": "code",
      "source": [
        "items.loc[items['len_also_buy'] == 0, 'item_id'].nunique()"
      ],
      "metadata": {
        "colab": {
          "base_uri": "https://localhost:8080/"
        },
        "id": "S2N_p94b7YSM",
        "outputId": "a463fb72-1e07-41ba-dbe7-332d53c05084"
      },
      "execution_count": 40,
      "outputs": [
        {
          "output_type": "execute_result",
          "data": {
            "text/plain": [
              "591"
            ]
          },
          "metadata": {},
          "execution_count": 40
        }
      ]
    },
    {
      "cell_type": "markdown",
      "source": [
        "#### 2.6.3. Categories"
      ],
      "metadata": {
        "id": "HK7Z9fCluRX9"
      }
    },
    {
      "cell_type": "code",
      "source": [
        "feature = 'main_cat'\n",
        "print(f\"The number of unique categories: {items[feature].nunique()}\\n\")\n",
        "items[feature].value_counts()"
      ],
      "metadata": {
        "colab": {
          "base_uri": "https://localhost:8080/"
        },
        "id": "UU_Nq2Gl_WCE",
        "outputId": "3b18471f-a47a-4c60-c3ae-c8c26deee653"
      },
      "execution_count": 41,
      "outputs": [
        {
          "output_type": "stream",
          "name": "stdout",
          "text": [
            "The number of unique categories: 8\n",
            "\n"
          ]
        },
        {
          "output_type": "execute_result",
          "data": {
            "text/plain": [
              "Grocery                    2400\n",
              "Health & Personal Care       89\n",
              "Amazon Home                  22\n",
              "Sports & Outdoors             5\n",
              "Industrial & Scientific       3\n",
              "All Beauty                    3\n",
              "Office Products               2\n",
              "                              1\n",
              "Name: main_cat, dtype: int64"
            ]
          },
          "metadata": {},
          "execution_count": 41
        }
      ]
    },
    {
      "cell_type": "code",
      "source": [
        "feature = 'category_1'\n",
        "print(f\"The number of unique categories: {items[feature].nunique()}\\n\")\n",
        "items[feature].value_counts()"
      ],
      "metadata": {
        "colab": {
          "base_uri": "https://localhost:8080/"
        },
        "id": "lrjZoXV5_pQ2",
        "outputId": "6bc36d2c-6ac0-4a58-fd36-d9b20fdd3b04"
      },
      "execution_count": 42,
      "outputs": [
        {
          "output_type": "stream",
          "name": "stdout",
          "text": [
            "The number of unique categories: 24\n",
            "\n"
          ]
        },
        {
          "output_type": "execute_result",
          "data": {
            "text/plain": [
              "Beverages                             731\n",
              "Cooking & Baking                      391\n",
              "Candy & Chocolate                     334\n",
              "Snack Foods                           316\n",
              "Breakfast Foods                       132\n",
              "Herbs, Spices & Seasonings            112\n",
              "Canned, Jarred & Packaged Foods        90\n",
              "Soups, Stocks & Broths                 78\n",
              "Jams, Jellies & Sweet Spreads          53\n",
              "Sauces, Gravies & Marinades            43\n",
              "Produce                                37\n",
              "Dairy, Cheese & Eggs                   32\n",
              "Pasta & Noodles                        29\n",
              "Breads & Bakery                        28\n",
              "Dried Beans, Grains & Rice             27\n",
              "Condiments & Salad Dressings           26\n",
              "Food & Beverage Gifts                  19\n",
              "Olives, Pickles & Relishes             17\n",
              "Meat & Seafood                         16\n",
              "Frozen                                 10\n",
              "Meat Substitutes                        3\n",
              "Fresh Flowers & Live Indoor Plants      3\n",
              "Deli                                    1\n",
              "Prepared Foods                          1\n",
              "Name: category_1, dtype: int64"
            ]
          },
          "metadata": {},
          "execution_count": 42
        }
      ]
    },
    {
      "cell_type": "code",
      "source": [
        "feature = 'category_2'\n",
        "print(f\"The number of unique categories: {items[feature].nunique()}\\n\")\n",
        "items[feature].value_counts()"
      ],
      "metadata": {
        "colab": {
          "base_uri": "https://localhost:8080/"
        },
        "id": "RxiAzVMnPmD0",
        "outputId": "80622c6c-a9da-49f4-d020-8f5f1c1812b3"
      },
      "execution_count": 43,
      "outputs": [
        {
          "output_type": "stream",
          "name": "stdout",
          "text": [
            "The number of unique categories: 145\n",
            "\n"
          ]
        },
        {
          "output_type": "execute_result",
          "data": {
            "text/plain": [
              "Coffee, Tea & Cocoa                       539\n",
              "Bottled Beverages, Water & Drink Mixes    189\n",
              "Nuts & Seeds                               89\n",
              "Cereals                                    75\n",
              "Jelly Beans & Gummy Candy                  74\n",
              "                                         ... \n",
              "Marmalades                                  1\n",
              "Ice Cream Cones & Toppings                  1\n",
              "Fruit                                       1\n",
              "Lentils                                     1\n",
              "Snack Gifts                                 1\n",
              "Name: category_2, Length: 145, dtype: int64"
            ]
          },
          "metadata": {},
          "execution_count": 43
        }
      ]
    },
    {
      "cell_type": "code",
      "source": [
        "feature = 'category_3'\n",
        "print(f\"The number of unique categories: {items[feature].nunique()}\\n\")\n",
        "items[feature].value_counts()"
      ],
      "metadata": {
        "colab": {
          "base_uri": "https://localhost:8080/"
        },
        "id": "_F4RHKRM_1yC",
        "outputId": "de889bab-34f7-4801-f458-23f4fbbb289f"
      },
      "execution_count": 44,
      "outputs": [
        {
          "output_type": "stream",
          "name": "stdout",
          "text": [
            "The number of unique categories: 265\n",
            "\n"
          ]
        },
        {
          "output_type": "execute_result",
          "data": {
            "text/plain": [
              "Coffee           270\n",
              "Tea              247\n",
              "Juices            46\n",
              "Hard Candy        41\n",
              "Oils              40\n",
              "                ... \n",
              "Parmesan           1\n",
              "Sweet Pickles      1\n",
              "Wheat Berries      1\n",
              "Curry Powder       1\n",
              "Breakfast          1\n",
              "Name: category_3, Length: 265, dtype: int64"
            ]
          },
          "metadata": {},
          "execution_count": 44
        }
      ]
    },
    {
      "cell_type": "markdown",
      "source": [
        "#### 2.6.4. Brand"
      ],
      "metadata": {
        "id": "_yPUpv6UvTQO"
      }
    },
    {
      "cell_type": "code",
      "source": [
        "feature = 'brand'\n",
        "print(f\"The number of unique categories: {items[feature].nunique()}\\n\")\n",
        "items[feature].value_counts()"
      ],
      "metadata": {
        "colab": {
          "base_uri": "https://localhost:8080/"
        },
        "id": "K5qyT0uxdhMs",
        "outputId": "ac4ee16b-2ae8-4e91-d4f5-fbf16672c88e"
      },
      "execution_count": 45,
      "outputs": [
        {
          "output_type": "stream",
          "name": "stdout",
          "text": [
            "The number of unique categories: 1273\n",
            "\n"
          ]
        },
        {
          "output_type": "execute_result",
          "data": {
            "text/plain": [
              "Bob's Red Mill                    49\n",
              "Campbell's                        26\n",
              "Stash Tea                         25\n",
              "McCormick                         23\n",
              "Green Mountain Coffee Roasters    20\n",
              "                                  ..\n",
              "Amy & Brian                        1\n",
              "Reily Foods                        1\n",
              "Volcanica Coffee                   1\n",
              "Duchy Originals                    1\n",
              "Wild Soil                          1\n",
              "Name: brand, Length: 1273, dtype: int64"
            ]
          },
          "metadata": {},
          "execution_count": 45
        }
      ]
    },
    {
      "cell_type": "markdown",
      "source": [
        "#### 2.6.5. Ranking group"
      ],
      "metadata": {
        "id": "zS_lyje709WR"
      }
    },
    {
      "cell_type": "code",
      "source": [
        "feature = 'rank_group'\n",
        "print(f\"The number of unique categories: {items[feature].nunique()}\\n\")\n",
        "items[feature].value_counts()"
      ],
      "metadata": {
        "colab": {
          "base_uri": "https://localhost:8080/"
        },
        "id": "IRURfc4WAdWh",
        "outputId": "78d49da3-2e86-4306-8b36-36fa4ce1de8b"
      },
      "execution_count": 46,
      "outputs": [
        {
          "output_type": "stream",
          "name": "stdout",
          "text": [
            "The number of unique categories: 11\n",
            "\n"
          ]
        },
        {
          "output_type": "execute_result",
          "data": {
            "text/plain": [
              "Grocery & Gourmet Food                                        2283\n",
              "                                                               122\n",
              "Health & Household                                              88\n",
              "Kitchen & Dining (See Top 100 in Kitchen & Dining)              14\n",
              "Sports & Outdoors                                               12\n",
              "Beauty & Personal Care                                           3\n",
              "Office Products                                                  2\n",
              "Patio, Lawn & Garden (See Top 100 in Patio, Lawn & Garden)       2\n",
              "Tools & Home Improvement                                         1\n",
              "Iced Tea                                                         1\n",
              "Industrial & Scientific                                          1\n",
              "Name: rank_group, dtype: int64"
            ]
          },
          "metadata": {},
          "execution_count": 46
        }
      ]
    },
    {
      "cell_type": "markdown",
      "source": [
        "#### 2.6.6. Item ranks"
      ],
      "metadata": {
        "id": "be5m29EU6c5b"
      }
    },
    {
      "cell_type": "code",
      "source": [
        "plt.figure(figsize=(10, 4))\n",
        "plt.title('Rank distribution')\n",
        "plt.xlabel('rank')\n",
        "plt.hist(items['rank'].values, bins=50);"
      ],
      "metadata": {
        "colab": {
          "base_uri": "https://localhost:8080/",
          "height": 295
        },
        "id": "vVoQey836J8-",
        "outputId": "462515b9-8293-46e2-ff14-1cbf31219a71"
      },
      "execution_count": 47,
      "outputs": [
        {
          "output_type": "display_data",
          "data": {
            "text/plain": [
              "<Figure size 720x288 with 1 Axes>"
            ],
            "image/png": "[encoded data removed]"
          },
          "metadata": {
            "needs_background": "light"
          }
        }
      ]
    },
    {
      "cell_type": "code",
      "source": [
        "items['rank'].describe()"
      ],
      "metadata": {
        "colab": {
          "base_uri": "https://localhost:8080/"
        },
        "id": "iTT0QIWsDfFM",
        "outputId": "9668facb-5431-4879-8be3-93eff68b49ba"
      },
      "execution_count": 48,
      "outputs": [
        {
          "output_type": "execute_result",
          "data": {
            "text/plain": [
              "count    2.529000e+03\n",
              "mean     1.018681e+05\n",
              "std      1.492155e+05\n",
              "min      0.000000e+00\n",
              "25%      9.778000e+03\n",
              "50%      4.214700e+04\n",
              "75%      1.356470e+05\n",
              "max      1.559523e+06\n",
              "Name: rank, dtype: float64"
            ]
          },
          "metadata": {},
          "execution_count": 48
        }
      ]
    },
    {
      "cell_type": "code",
      "source": [
        "(items['rank'] == 0).sum()"
      ],
      "metadata": {
        "colab": {
          "base_uri": "https://localhost:8080/"
        },
        "id": "ax2eFI8tRTUW",
        "outputId": "752a6226-8beb-4b98-9951-25cb7ebc8691"
      },
      "execution_count": 49,
      "outputs": [
        {
          "output_type": "execute_result",
          "data": {
            "text/plain": [
              "122"
            ]
          },
          "metadata": {},
          "execution_count": 49
        }
      ]
    }
  ]
}